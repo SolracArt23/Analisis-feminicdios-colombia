{
  "cells": [
    {
      "cell_type": "markdown",
      "metadata": {
        "id": "view-in-github",
        "colab_type": "text"
      },
      "source": [
        "<a href=\"https://colab.research.google.com/github/SolracArt23/Analisis-feminicdios-colombia/blob/main/feminicidios.ipynb\" target=\"_parent\"><img src=\"https://colab.research.google.com/assets/colab-badge.svg\" alt=\"Open In Colab\"/></a>"
      ]
    },
    {
      "cell_type": "markdown",
      "metadata": {
        "id": "TZBOVygPRVGm"
      },
      "source": [
        "# Analisis de feminicidios colombia 2015-2020"
      ]
    },
    {
      "cell_type": "markdown",
      "metadata": {
        "id": "VB9NsEIARiBc"
      },
      "source": [
        "**Objetivo principal:**\n",
        "****\n",
        "Analizaremos los tipos de violencia presentes en los distintos municipios, teniendo como conocimiento la edad de la victima, tipo de daño y leyes aplicadas, con el fin de graficar relacion departamento tipo de agresiones femeninas."
      ]
    },
    {
      "cell_type": "code",
      "execution_count": 1,
      "metadata": {
        "id": "7hYiCNJHRRys"
      },
      "outputs": [],
      "source": [
        "#Importaciones\n",
        "import pandas as pd\n",
        "import numpy as np\n",
        "import matplotlib.pyplot as plt\n",
        "import keras as kr\n",
        "import seaborn as sns"
      ]
    },
    {
      "cell_type": "markdown",
      "metadata": {
        "id": "93XnidpZTDon"
      },
      "source": [
        "**Datos**\n",
        "****\n",
        "Datos recolectados de [datos feminiciodios](https://www.datos.gov.co/Justicia-y-Derecho/FEMINICIDIOS-EN-COLOMBIA-2015-2020-/besk-ypw5)"
      ]
    },
    {
      "cell_type": "code",
      "execution_count": 2,
      "metadata": {
        "colab": {
          "base_uri": "https://localhost:8080/",
          "height": 643
        },
        "id": "YNxYVW-DV7Ra",
        "outputId": "ce29611e-2311-4667-b30b-fe13cda4bcb9"
      },
      "outputs": [
        {
          "output_type": "execute_result",
          "data": {
            "text/plain": [
              "      HECHO RUPTURA CONEXO ESTADO_NOTICIA          ETAPA  ANIO_DENUNCIA  \\\n",
              "0        SI      NO     NO       INACTIVO    QUERELLABLE         2016.0   \n",
              "1        SI      NO     NO       INACTIVO    QUERELLABLE         2019.0   \n",
              "2        SI      NO     NO       INACTIVO    QUERELLABLE         2017.0   \n",
              "3        NO      NO     NO       INACTIVO     INDAGACIÓN         2019.0   \n",
              "4        SI      NO     NO       INACTIVO    QUERELLABLE         2020.0   \n",
              "...     ...     ...    ...            ...            ...            ...   \n",
              "59506    SI      NO     NO         ACTIVO  INVESTIGACIÓN         2018.0   \n",
              "59507    SI      NO     NO         ACTIVO     INDAGACIÓN         2016.0   \n",
              "59508    NO      NO     NO       INACTIVO    QUERELLABLE         2012.0   \n",
              "59509    SI      NO     NO       INACTIVO     INDAGACIÓN         2010.0   \n",
              "59510    SI      NO     NO            NaN            NaN            NaN   \n",
              "\n",
              "       ANIO_ENTRADA  ANIO_HECHO      LEY      PAIS  ... IMPUTACION CONDENA  \\\n",
              "0            2016.0      2016.0  Ley 906  Colombia  ...         NO      NO   \n",
              "1            2019.0      2019.0  Ley 906  Colombia  ...         NO      NO   \n",
              "2            2017.0      2017.0  Ley 906  Colombia  ...         NO      NO   \n",
              "3            2019.0      2019.0  Ley 906  Colombia  ...         NO      NO   \n",
              "4            2020.0      2019.0  Ley 906  Colombia  ...         NO      NO   \n",
              "...             ...         ...      ...       ...  ...        ...     ...   \n",
              "59506        2018.0      2017.0  Ley 906  Colombia  ...         SI      NO   \n",
              "59507        2016.0      2016.0  Ley 906  Colombia  ...         NO      NO   \n",
              "59508        2012.0      2012.0  Ley 906  Colombia  ...         NO      NO   \n",
              "59509        2010.0      2010.0  Ley 906  Colombia  ...         NO      NO   \n",
              "59510           NaN         NaN      NaN       NaN  ...        NaN     NaN   \n",
              "\n",
              "      ATIPICIDAD_INEXISTENCIA ACUSACION CAPTURA SEXO_VICTIMA  \\\n",
              "0                          NO        NO      NO     FEMENINO   \n",
              "1                          NO        NO      NO    MASCULINO   \n",
              "2                          NO        NO      NO    MASCULINO   \n",
              "3                          SI        NO      NO          NaN   \n",
              "4                          NO        NO      NO     FEMENINO   \n",
              "...                       ...       ...     ...          ...   \n",
              "59506                      NO        SI      SI    MASCULINO   \n",
              "59507                      NO        NO      NO    MASCULINO   \n",
              "59508                      SI        NO      NO    MASCULINO   \n",
              "59509                      NO        NO      NO     FEMENINO   \n",
              "59510                     NaN       NaN     NaN          NaN   \n",
              "\n",
              "           GRUPO_EDAD_VICTIMA PAIS_NACIMIENTO HOMICIDIO_DOLOSO_CONSUMADO  \\\n",
              "0             ADULTEZ 29 - 59        Colombia                         NO   \n",
              "1             ADULTEZ 29 - 59        Colombia                         NO   \n",
              "2            JUVENTUD 18 - 28        Colombia                         NO   \n",
              "3                    SIN DATO             NaN                         NO   \n",
              "4            JUVENTUD 18 - 28        Colombia                         NO   \n",
              "...                       ...             ...                        ...   \n",
              "59506        JUVENTUD 18 - 28        Colombia                         NO   \n",
              "59507  PRIMERA INFANCIA 0 - 5        Colombia                         NO   \n",
              "59508         ADULTEZ 29 - 59        Colombia                         NO   \n",
              "59509         ADULTEZ 29 - 59        Colombia                         NO   \n",
              "59510                     NaN             NaN                        NaN   \n",
              "\n",
              "      TOTAL_VICTIMAS  \n",
              "0              143.0  \n",
              "1               28.0  \n",
              "2                1.0  \n",
              "3               28.0  \n",
              "4               12.0  \n",
              "...              ...  \n",
              "59506            1.0  \n",
              "59507            3.0  \n",
              "59508            1.0  \n",
              "59509            1.0  \n",
              "59510            NaN  \n",
              "\n",
              "[59511 rows x 25 columns]"
            ],
            "text/html": [
              "\n",
              "  <div id=\"df-ae2934c7-668d-4567-94fd-8f4fd2a8a31e\">\n",
              "    <div class=\"colab-df-container\">\n",
              "      <div>\n",
              "<style scoped>\n",
              "    .dataframe tbody tr th:only-of-type {\n",
              "        vertical-align: middle;\n",
              "    }\n",
              "\n",
              "    .dataframe tbody tr th {\n",
              "        vertical-align: top;\n",
              "    }\n",
              "\n",
              "    .dataframe thead th {\n",
              "        text-align: right;\n",
              "    }\n",
              "</style>\n",
              "<table border=\"1\" class=\"dataframe\">\n",
              "  <thead>\n",
              "    <tr style=\"text-align: right;\">\n",
              "      <th></th>\n",
              "      <th>HECHO</th>\n",
              "      <th>RUPTURA</th>\n",
              "      <th>CONEXO</th>\n",
              "      <th>ESTADO_NOTICIA</th>\n",
              "      <th>ETAPA</th>\n",
              "      <th>ANIO_DENUNCIA</th>\n",
              "      <th>ANIO_ENTRADA</th>\n",
              "      <th>ANIO_HECHO</th>\n",
              "      <th>LEY</th>\n",
              "      <th>PAIS</th>\n",
              "      <th>...</th>\n",
              "      <th>IMPUTACION</th>\n",
              "      <th>CONDENA</th>\n",
              "      <th>ATIPICIDAD_INEXISTENCIA</th>\n",
              "      <th>ACUSACION</th>\n",
              "      <th>CAPTURA</th>\n",
              "      <th>SEXO_VICTIMA</th>\n",
              "      <th>GRUPO_EDAD_VICTIMA</th>\n",
              "      <th>PAIS_NACIMIENTO</th>\n",
              "      <th>HOMICIDIO_DOLOSO_CONSUMADO</th>\n",
              "      <th>TOTAL_VICTIMAS</th>\n",
              "    </tr>\n",
              "  </thead>\n",
              "  <tbody>\n",
              "    <tr>\n",
              "      <th>0</th>\n",
              "      <td>SI</td>\n",
              "      <td>NO</td>\n",
              "      <td>NO</td>\n",
              "      <td>INACTIVO</td>\n",
              "      <td>QUERELLABLE</td>\n",
              "      <td>2016.0</td>\n",
              "      <td>2016.0</td>\n",
              "      <td>2016.0</td>\n",
              "      <td>Ley 906</td>\n",
              "      <td>Colombia</td>\n",
              "      <td>...</td>\n",
              "      <td>NO</td>\n",
              "      <td>NO</td>\n",
              "      <td>NO</td>\n",
              "      <td>NO</td>\n",
              "      <td>NO</td>\n",
              "      <td>FEMENINO</td>\n",
              "      <td>ADULTEZ 29 - 59</td>\n",
              "      <td>Colombia</td>\n",
              "      <td>NO</td>\n",
              "      <td>143.0</td>\n",
              "    </tr>\n",
              "    <tr>\n",
              "      <th>1</th>\n",
              "      <td>SI</td>\n",
              "      <td>NO</td>\n",
              "      <td>NO</td>\n",
              "      <td>INACTIVO</td>\n",
              "      <td>QUERELLABLE</td>\n",
              "      <td>2019.0</td>\n",
              "      <td>2019.0</td>\n",
              "      <td>2019.0</td>\n",
              "      <td>Ley 906</td>\n",
              "      <td>Colombia</td>\n",
              "      <td>...</td>\n",
              "      <td>NO</td>\n",
              "      <td>NO</td>\n",
              "      <td>NO</td>\n",
              "      <td>NO</td>\n",
              "      <td>NO</td>\n",
              "      <td>MASCULINO</td>\n",
              "      <td>ADULTEZ 29 - 59</td>\n",
              "      <td>Colombia</td>\n",
              "      <td>NO</td>\n",
              "      <td>28.0</td>\n",
              "    </tr>\n",
              "    <tr>\n",
              "      <th>2</th>\n",
              "      <td>SI</td>\n",
              "      <td>NO</td>\n",
              "      <td>NO</td>\n",
              "      <td>INACTIVO</td>\n",
              "      <td>QUERELLABLE</td>\n",
              "      <td>2017.0</td>\n",
              "      <td>2017.0</td>\n",
              "      <td>2017.0</td>\n",
              "      <td>Ley 906</td>\n",
              "      <td>Colombia</td>\n",
              "      <td>...</td>\n",
              "      <td>NO</td>\n",
              "      <td>NO</td>\n",
              "      <td>NO</td>\n",
              "      <td>NO</td>\n",
              "      <td>NO</td>\n",
              "      <td>MASCULINO</td>\n",
              "      <td>JUVENTUD 18 - 28</td>\n",
              "      <td>Colombia</td>\n",
              "      <td>NO</td>\n",
              "      <td>1.0</td>\n",
              "    </tr>\n",
              "    <tr>\n",
              "      <th>3</th>\n",
              "      <td>NO</td>\n",
              "      <td>NO</td>\n",
              "      <td>NO</td>\n",
              "      <td>INACTIVO</td>\n",
              "      <td>INDAGACIÓN</td>\n",
              "      <td>2019.0</td>\n",
              "      <td>2019.0</td>\n",
              "      <td>2019.0</td>\n",
              "      <td>Ley 906</td>\n",
              "      <td>Colombia</td>\n",
              "      <td>...</td>\n",
              "      <td>NO</td>\n",
              "      <td>NO</td>\n",
              "      <td>SI</td>\n",
              "      <td>NO</td>\n",
              "      <td>NO</td>\n",
              "      <td>NaN</td>\n",
              "      <td>SIN DATO</td>\n",
              "      <td>NaN</td>\n",
              "      <td>NO</td>\n",
              "      <td>28.0</td>\n",
              "    </tr>\n",
              "    <tr>\n",
              "      <th>4</th>\n",
              "      <td>SI</td>\n",
              "      <td>NO</td>\n",
              "      <td>NO</td>\n",
              "      <td>INACTIVO</td>\n",
              "      <td>QUERELLABLE</td>\n",
              "      <td>2020.0</td>\n",
              "      <td>2020.0</td>\n",
              "      <td>2019.0</td>\n",
              "      <td>Ley 906</td>\n",
              "      <td>Colombia</td>\n",
              "      <td>...</td>\n",
              "      <td>NO</td>\n",
              "      <td>NO</td>\n",
              "      <td>NO</td>\n",
              "      <td>NO</td>\n",
              "      <td>NO</td>\n",
              "      <td>FEMENINO</td>\n",
              "      <td>JUVENTUD 18 - 28</td>\n",
              "      <td>Colombia</td>\n",
              "      <td>NO</td>\n",
              "      <td>12.0</td>\n",
              "    </tr>\n",
              "    <tr>\n",
              "      <th>...</th>\n",
              "      <td>...</td>\n",
              "      <td>...</td>\n",
              "      <td>...</td>\n",
              "      <td>...</td>\n",
              "      <td>...</td>\n",
              "      <td>...</td>\n",
              "      <td>...</td>\n",
              "      <td>...</td>\n",
              "      <td>...</td>\n",
              "      <td>...</td>\n",
              "      <td>...</td>\n",
              "      <td>...</td>\n",
              "      <td>...</td>\n",
              "      <td>...</td>\n",
              "      <td>...</td>\n",
              "      <td>...</td>\n",
              "      <td>...</td>\n",
              "      <td>...</td>\n",
              "      <td>...</td>\n",
              "      <td>...</td>\n",
              "      <td>...</td>\n",
              "    </tr>\n",
              "    <tr>\n",
              "      <th>59506</th>\n",
              "      <td>SI</td>\n",
              "      <td>NO</td>\n",
              "      <td>NO</td>\n",
              "      <td>ACTIVO</td>\n",
              "      <td>INVESTIGACIÓN</td>\n",
              "      <td>2018.0</td>\n",
              "      <td>2018.0</td>\n",
              "      <td>2017.0</td>\n",
              "      <td>Ley 906</td>\n",
              "      <td>Colombia</td>\n",
              "      <td>...</td>\n",
              "      <td>SI</td>\n",
              "      <td>NO</td>\n",
              "      <td>NO</td>\n",
              "      <td>SI</td>\n",
              "      <td>SI</td>\n",
              "      <td>MASCULINO</td>\n",
              "      <td>JUVENTUD 18 - 28</td>\n",
              "      <td>Colombia</td>\n",
              "      <td>NO</td>\n",
              "      <td>1.0</td>\n",
              "    </tr>\n",
              "    <tr>\n",
              "      <th>59507</th>\n",
              "      <td>SI</td>\n",
              "      <td>NO</td>\n",
              "      <td>NO</td>\n",
              "      <td>ACTIVO</td>\n",
              "      <td>INDAGACIÓN</td>\n",
              "      <td>2016.0</td>\n",
              "      <td>2016.0</td>\n",
              "      <td>2016.0</td>\n",
              "      <td>Ley 906</td>\n",
              "      <td>Colombia</td>\n",
              "      <td>...</td>\n",
              "      <td>NO</td>\n",
              "      <td>NO</td>\n",
              "      <td>NO</td>\n",
              "      <td>NO</td>\n",
              "      <td>NO</td>\n",
              "      <td>MASCULINO</td>\n",
              "      <td>PRIMERA INFANCIA 0 - 5</td>\n",
              "      <td>Colombia</td>\n",
              "      <td>NO</td>\n",
              "      <td>3.0</td>\n",
              "    </tr>\n",
              "    <tr>\n",
              "      <th>59508</th>\n",
              "      <td>NO</td>\n",
              "      <td>NO</td>\n",
              "      <td>NO</td>\n",
              "      <td>INACTIVO</td>\n",
              "      <td>QUERELLABLE</td>\n",
              "      <td>2012.0</td>\n",
              "      <td>2012.0</td>\n",
              "      <td>2012.0</td>\n",
              "      <td>Ley 906</td>\n",
              "      <td>Colombia</td>\n",
              "      <td>...</td>\n",
              "      <td>NO</td>\n",
              "      <td>NO</td>\n",
              "      <td>SI</td>\n",
              "      <td>NO</td>\n",
              "      <td>NO</td>\n",
              "      <td>MASCULINO</td>\n",
              "      <td>ADULTEZ 29 - 59</td>\n",
              "      <td>Colombia</td>\n",
              "      <td>NO</td>\n",
              "      <td>1.0</td>\n",
              "    </tr>\n",
              "    <tr>\n",
              "      <th>59509</th>\n",
              "      <td>SI</td>\n",
              "      <td>NO</td>\n",
              "      <td>NO</td>\n",
              "      <td>INACTIVO</td>\n",
              "      <td>INDAGACIÓN</td>\n",
              "      <td>2010.0</td>\n",
              "      <td>2010.0</td>\n",
              "      <td>2010.0</td>\n",
              "      <td>Ley 906</td>\n",
              "      <td>Colombia</td>\n",
              "      <td>...</td>\n",
              "      <td>NO</td>\n",
              "      <td>NO</td>\n",
              "      <td>NO</td>\n",
              "      <td>NO</td>\n",
              "      <td>NO</td>\n",
              "      <td>FEMENINO</td>\n",
              "      <td>ADULTEZ 29 - 59</td>\n",
              "      <td>Colombia</td>\n",
              "      <td>NO</td>\n",
              "      <td>1.0</td>\n",
              "    </tr>\n",
              "    <tr>\n",
              "      <th>59510</th>\n",
              "      <td>SI</td>\n",
              "      <td>NO</td>\n",
              "      <td>NO</td>\n",
              "      <td>NaN</td>\n",
              "      <td>NaN</td>\n",
              "      <td>NaN</td>\n",
              "      <td>NaN</td>\n",
              "      <td>NaN</td>\n",
              "      <td>NaN</td>\n",
              "      <td>NaN</td>\n",
              "      <td>...</td>\n",
              "      <td>NaN</td>\n",
              "      <td>NaN</td>\n",
              "      <td>NaN</td>\n",
              "      <td>NaN</td>\n",
              "      <td>NaN</td>\n",
              "      <td>NaN</td>\n",
              "      <td>NaN</td>\n",
              "      <td>NaN</td>\n",
              "      <td>NaN</td>\n",
              "      <td>NaN</td>\n",
              "    </tr>\n",
              "  </tbody>\n",
              "</table>\n",
              "<p>59511 rows × 25 columns</p>\n",
              "</div>\n",
              "      <button class=\"colab-df-convert\" onclick=\"convertToInteractive('df-ae2934c7-668d-4567-94fd-8f4fd2a8a31e')\"\n",
              "              title=\"Convert this dataframe to an interactive table.\"\n",
              "              style=\"display:none;\">\n",
              "        \n",
              "  <svg xmlns=\"http://www.w3.org/2000/svg\" height=\"24px\"viewBox=\"0 0 24 24\"\n",
              "       width=\"24px\">\n",
              "    <path d=\"M0 0h24v24H0V0z\" fill=\"none\"/>\n",
              "    <path d=\"M18.56 5.44l.94 2.06.94-2.06 2.06-.94-2.06-.94-.94-2.06-.94 2.06-2.06.94zm-11 1L8.5 8.5l.94-2.06 2.06-.94-2.06-.94L8.5 2.5l-.94 2.06-2.06.94zm10 10l.94 2.06.94-2.06 2.06-.94-2.06-.94-.94-2.06-.94 2.06-2.06.94z\"/><path d=\"M17.41 7.96l-1.37-1.37c-.4-.4-.92-.59-1.43-.59-.52 0-1.04.2-1.43.59L10.3 9.45l-7.72 7.72c-.78.78-.78 2.05 0 2.83L4 21.41c.39.39.9.59 1.41.59.51 0 1.02-.2 1.41-.59l7.78-7.78 2.81-2.81c.8-.78.8-2.07 0-2.86zM5.41 20L4 18.59l7.72-7.72 1.47 1.35L5.41 20z\"/>\n",
              "  </svg>\n",
              "      </button>\n",
              "      \n",
              "  <style>\n",
              "    .colab-df-container {\n",
              "      display:flex;\n",
              "      flex-wrap:wrap;\n",
              "      gap: 12px;\n",
              "    }\n",
              "\n",
              "    .colab-df-convert {\n",
              "      background-color: #E8F0FE;\n",
              "      border: none;\n",
              "      border-radius: 50%;\n",
              "      cursor: pointer;\n",
              "      display: none;\n",
              "      fill: #1967D2;\n",
              "      height: 32px;\n",
              "      padding: 0 0 0 0;\n",
              "      width: 32px;\n",
              "    }\n",
              "\n",
              "    .colab-df-convert:hover {\n",
              "      background-color: #E2EBFA;\n",
              "      box-shadow: 0px 1px 2px rgba(60, 64, 67, 0.3), 0px 1px 3px 1px rgba(60, 64, 67, 0.15);\n",
              "      fill: #174EA6;\n",
              "    }\n",
              "\n",
              "    [theme=dark] .colab-df-convert {\n",
              "      background-color: #3B4455;\n",
              "      fill: #D2E3FC;\n",
              "    }\n",
              "\n",
              "    [theme=dark] .colab-df-convert:hover {\n",
              "      background-color: #434B5C;\n",
              "      box-shadow: 0px 1px 3px 1px rgba(0, 0, 0, 0.15);\n",
              "      filter: drop-shadow(0px 1px 2px rgba(0, 0, 0, 0.3));\n",
              "      fill: #FFFFFF;\n",
              "    }\n",
              "  </style>\n",
              "\n",
              "      <script>\n",
              "        const buttonEl =\n",
              "          document.querySelector('#df-ae2934c7-668d-4567-94fd-8f4fd2a8a31e button.colab-df-convert');\n",
              "        buttonEl.style.display =\n",
              "          google.colab.kernel.accessAllowed ? 'block' : 'none';\n",
              "\n",
              "        async function convertToInteractive(key) {\n",
              "          const element = document.querySelector('#df-ae2934c7-668d-4567-94fd-8f4fd2a8a31e');\n",
              "          const dataTable =\n",
              "            await google.colab.kernel.invokeFunction('convertToInteractive',\n",
              "                                                     [key], {});\n",
              "          if (!dataTable) return;\n",
              "\n",
              "          const docLinkHtml = 'Like what you see? Visit the ' +\n",
              "            '<a target=\"_blank\" href=https://colab.research.google.com/notebooks/data_table.ipynb>data table notebook</a>'\n",
              "            + ' to learn more about interactive tables.';\n",
              "          element.innerHTML = '';\n",
              "          dataTable['output_type'] = 'display_data';\n",
              "          await google.colab.output.renderOutput(dataTable, element);\n",
              "          const docLink = document.createElement('div');\n",
              "          docLink.innerHTML = docLinkHtml;\n",
              "          element.appendChild(docLink);\n",
              "        }\n",
              "      </script>\n",
              "    </div>\n",
              "  </div>\n",
              "  "
            ]
          },
          "metadata": {},
          "execution_count": 2
        }
      ],
      "source": [
        "Datos=pd.read_csv('/content/Conteo_de_V_ctimas.csv')\n",
        "Datos"
      ]
    },
    {
      "cell_type": "markdown",
      "metadata": {
        "id": "eLWnClN8gRVd"
      },
      "source": [
        "# Relacion de  delitos por depatamento"
      ]
    },
    {
      "cell_type": "markdown",
      "metadata": {
        "id": "3CBXRnBhiMBh"
      },
      "source": [
        "**Eliminar datos inconclusos**\n",
        "***\n",
        "Para proseguir con la creacion de modelo optimo debemos eliminar cualquier tipo de dato incncluso ya sea un **Null** o **Nan**  para eso eliminaremos cada fila de datos inconclusos"
      ]
    },
    {
      "cell_type": "code",
      "execution_count": 3,
      "metadata": {
        "colab": {
          "base_uri": "https://localhost:8080/",
          "height": 661
        },
        "id": "bCk-U5qUC7Ro",
        "outputId": "09e91fc0-ab6b-4ec7-c8d6-67a8f579da5e"
      },
      "outputs": [
        {
          "output_type": "execute_result",
          "data": {
            "text/plain": [
              "      HECHO RUPTURA CONEXO ESTADO_NOTICIA          ETAPA  ANIO_DENUNCIA  \\\n",
              "0        SI      NO     NO       INACTIVO    QUERELLABLE         2016.0   \n",
              "1        SI      NO     NO       INACTIVO    QUERELLABLE         2019.0   \n",
              "2        SI      NO     NO       INACTIVO    QUERELLABLE         2017.0   \n",
              "4        SI      NO     NO       INACTIVO    QUERELLABLE         2020.0   \n",
              "5        SI      NO     NO       INACTIVO    QUERELLABLE         2019.0   \n",
              "...     ...     ...    ...            ...            ...            ...   \n",
              "59504    SI      NO     NO       INACTIVO    QUERELLABLE         2015.0   \n",
              "59506    SI      NO     NO         ACTIVO  INVESTIGACIÓN         2018.0   \n",
              "59507    SI      NO     NO         ACTIVO     INDAGACIÓN         2016.0   \n",
              "59508    NO      NO     NO       INACTIVO    QUERELLABLE         2012.0   \n",
              "59509    SI      NO     NO       INACTIVO     INDAGACIÓN         2010.0   \n",
              "\n",
              "       ANIO_ENTRADA  ANIO_HECHO      LEY      PAIS  ... IMPUTACION CONDENA  \\\n",
              "0            2016.0      2016.0  Ley 906  Colombia  ...         NO      NO   \n",
              "1            2019.0      2019.0  Ley 906  Colombia  ...         NO      NO   \n",
              "2            2017.0      2017.0  Ley 906  Colombia  ...         NO      NO   \n",
              "4            2020.0      2019.0  Ley 906  Colombia  ...         NO      NO   \n",
              "5            2019.0      2019.0  Ley 906  Colombia  ...         NO      NO   \n",
              "...             ...         ...      ...       ...  ...        ...     ...   \n",
              "59504        2015.0      2015.0  Ley 906  Colombia  ...         NO      NO   \n",
              "59506        2018.0      2017.0  Ley 906  Colombia  ...         SI      NO   \n",
              "59507        2016.0      2016.0  Ley 906  Colombia  ...         NO      NO   \n",
              "59508        2012.0      2012.0  Ley 906  Colombia  ...         NO      NO   \n",
              "59509        2010.0      2010.0  Ley 906  Colombia  ...         NO      NO   \n",
              "\n",
              "      ATIPICIDAD_INEXISTENCIA ACUSACION CAPTURA SEXO_VICTIMA  \\\n",
              "0                          NO        NO      NO     FEMENINO   \n",
              "1                          NO        NO      NO    MASCULINO   \n",
              "2                          NO        NO      NO    MASCULINO   \n",
              "4                          NO        NO      NO     FEMENINO   \n",
              "5                          NO        NO      NO    MASCULINO   \n",
              "...                       ...       ...     ...          ...   \n",
              "59504                      NO        NO      NO     FEMENINO   \n",
              "59506                      NO        SI      SI    MASCULINO   \n",
              "59507                      NO        NO      NO    MASCULINO   \n",
              "59508                      SI        NO      NO    MASCULINO   \n",
              "59509                      NO        NO      NO     FEMENINO   \n",
              "\n",
              "           GRUPO_EDAD_VICTIMA PAIS_NACIMIENTO HOMICIDIO_DOLOSO_CONSUMADO  \\\n",
              "0             ADULTEZ 29 - 59        Colombia                         NO   \n",
              "1             ADULTEZ 29 - 59        Colombia                         NO   \n",
              "2            JUVENTUD 18 - 28        Colombia                         NO   \n",
              "4            JUVENTUD 18 - 28        Colombia                         NO   \n",
              "5             ADULTEZ 29 - 59        Colombia                         NO   \n",
              "...                       ...             ...                        ...   \n",
              "59504                SIN DATO        Colombia                         NO   \n",
              "59506        JUVENTUD 18 - 28        Colombia                         NO   \n",
              "59507  PRIMERA INFANCIA 0 - 5        Colombia                         NO   \n",
              "59508         ADULTEZ 29 - 59        Colombia                         NO   \n",
              "59509         ADULTEZ 29 - 59        Colombia                         NO   \n",
              "\n",
              "      TOTAL_VICTIMAS  \n",
              "0              143.0  \n",
              "1               28.0  \n",
              "2                1.0  \n",
              "4               12.0  \n",
              "5                1.0  \n",
              "...              ...  \n",
              "59504            1.0  \n",
              "59506            1.0  \n",
              "59507            3.0  \n",
              "59508            1.0  \n",
              "59509            1.0  \n",
              "\n",
              "[52239 rows x 25 columns]"
            ],
            "text/html": [
              "\n",
              "  <div id=\"df-44cc004d-92b6-4a07-9e48-148390d4820d\">\n",
              "    <div class=\"colab-df-container\">\n",
              "      <div>\n",
              "<style scoped>\n",
              "    .dataframe tbody tr th:only-of-type {\n",
              "        vertical-align: middle;\n",
              "    }\n",
              "\n",
              "    .dataframe tbody tr th {\n",
              "        vertical-align: top;\n",
              "    }\n",
              "\n",
              "    .dataframe thead th {\n",
              "        text-align: right;\n",
              "    }\n",
              "</style>\n",
              "<table border=\"1\" class=\"dataframe\">\n",
              "  <thead>\n",
              "    <tr style=\"text-align: right;\">\n",
              "      <th></th>\n",
              "      <th>HECHO</th>\n",
              "      <th>RUPTURA</th>\n",
              "      <th>CONEXO</th>\n",
              "      <th>ESTADO_NOTICIA</th>\n",
              "      <th>ETAPA</th>\n",
              "      <th>ANIO_DENUNCIA</th>\n",
              "      <th>ANIO_ENTRADA</th>\n",
              "      <th>ANIO_HECHO</th>\n",
              "      <th>LEY</th>\n",
              "      <th>PAIS</th>\n",
              "      <th>...</th>\n",
              "      <th>IMPUTACION</th>\n",
              "      <th>CONDENA</th>\n",
              "      <th>ATIPICIDAD_INEXISTENCIA</th>\n",
              "      <th>ACUSACION</th>\n",
              "      <th>CAPTURA</th>\n",
              "      <th>SEXO_VICTIMA</th>\n",
              "      <th>GRUPO_EDAD_VICTIMA</th>\n",
              "      <th>PAIS_NACIMIENTO</th>\n",
              "      <th>HOMICIDIO_DOLOSO_CONSUMADO</th>\n",
              "      <th>TOTAL_VICTIMAS</th>\n",
              "    </tr>\n",
              "  </thead>\n",
              "  <tbody>\n",
              "    <tr>\n",
              "      <th>0</th>\n",
              "      <td>SI</td>\n",
              "      <td>NO</td>\n",
              "      <td>NO</td>\n",
              "      <td>INACTIVO</td>\n",
              "      <td>QUERELLABLE</td>\n",
              "      <td>2016.0</td>\n",
              "      <td>2016.0</td>\n",
              "      <td>2016.0</td>\n",
              "      <td>Ley 906</td>\n",
              "      <td>Colombia</td>\n",
              "      <td>...</td>\n",
              "      <td>NO</td>\n",
              "      <td>NO</td>\n",
              "      <td>NO</td>\n",
              "      <td>NO</td>\n",
              "      <td>NO</td>\n",
              "      <td>FEMENINO</td>\n",
              "      <td>ADULTEZ 29 - 59</td>\n",
              "      <td>Colombia</td>\n",
              "      <td>NO</td>\n",
              "      <td>143.0</td>\n",
              "    </tr>\n",
              "    <tr>\n",
              "      <th>1</th>\n",
              "      <td>SI</td>\n",
              "      <td>NO</td>\n",
              "      <td>NO</td>\n",
              "      <td>INACTIVO</td>\n",
              "      <td>QUERELLABLE</td>\n",
              "      <td>2019.0</td>\n",
              "      <td>2019.0</td>\n",
              "      <td>2019.0</td>\n",
              "      <td>Ley 906</td>\n",
              "      <td>Colombia</td>\n",
              "      <td>...</td>\n",
              "      <td>NO</td>\n",
              "      <td>NO</td>\n",
              "      <td>NO</td>\n",
              "      <td>NO</td>\n",
              "      <td>NO</td>\n",
              "      <td>MASCULINO</td>\n",
              "      <td>ADULTEZ 29 - 59</td>\n",
              "      <td>Colombia</td>\n",
              "      <td>NO</td>\n",
              "      <td>28.0</td>\n",
              "    </tr>\n",
              "    <tr>\n",
              "      <th>2</th>\n",
              "      <td>SI</td>\n",
              "      <td>NO</td>\n",
              "      <td>NO</td>\n",
              "      <td>INACTIVO</td>\n",
              "      <td>QUERELLABLE</td>\n",
              "      <td>2017.0</td>\n",
              "      <td>2017.0</td>\n",
              "      <td>2017.0</td>\n",
              "      <td>Ley 906</td>\n",
              "      <td>Colombia</td>\n",
              "      <td>...</td>\n",
              "      <td>NO</td>\n",
              "      <td>NO</td>\n",
              "      <td>NO</td>\n",
              "      <td>NO</td>\n",
              "      <td>NO</td>\n",
              "      <td>MASCULINO</td>\n",
              "      <td>JUVENTUD 18 - 28</td>\n",
              "      <td>Colombia</td>\n",
              "      <td>NO</td>\n",
              "      <td>1.0</td>\n",
              "    </tr>\n",
              "    <tr>\n",
              "      <th>4</th>\n",
              "      <td>SI</td>\n",
              "      <td>NO</td>\n",
              "      <td>NO</td>\n",
              "      <td>INACTIVO</td>\n",
              "      <td>QUERELLABLE</td>\n",
              "      <td>2020.0</td>\n",
              "      <td>2020.0</td>\n",
              "      <td>2019.0</td>\n",
              "      <td>Ley 906</td>\n",
              "      <td>Colombia</td>\n",
              "      <td>...</td>\n",
              "      <td>NO</td>\n",
              "      <td>NO</td>\n",
              "      <td>NO</td>\n",
              "      <td>NO</td>\n",
              "      <td>NO</td>\n",
              "      <td>FEMENINO</td>\n",
              "      <td>JUVENTUD 18 - 28</td>\n",
              "      <td>Colombia</td>\n",
              "      <td>NO</td>\n",
              "      <td>12.0</td>\n",
              "    </tr>\n",
              "    <tr>\n",
              "      <th>5</th>\n",
              "      <td>SI</td>\n",
              "      <td>NO</td>\n",
              "      <td>NO</td>\n",
              "      <td>INACTIVO</td>\n",
              "      <td>QUERELLABLE</td>\n",
              "      <td>2019.0</td>\n",
              "      <td>2019.0</td>\n",
              "      <td>2019.0</td>\n",
              "      <td>Ley 906</td>\n",
              "      <td>Colombia</td>\n",
              "      <td>...</td>\n",
              "      <td>NO</td>\n",
              "      <td>NO</td>\n",
              "      <td>NO</td>\n",
              "      <td>NO</td>\n",
              "      <td>NO</td>\n",
              "      <td>MASCULINO</td>\n",
              "      <td>ADULTEZ 29 - 59</td>\n",
              "      <td>Colombia</td>\n",
              "      <td>NO</td>\n",
              "      <td>1.0</td>\n",
              "    </tr>\n",
              "    <tr>\n",
              "      <th>...</th>\n",
              "      <td>...</td>\n",
              "      <td>...</td>\n",
              "      <td>...</td>\n",
              "      <td>...</td>\n",
              "      <td>...</td>\n",
              "      <td>...</td>\n",
              "      <td>...</td>\n",
              "      <td>...</td>\n",
              "      <td>...</td>\n",
              "      <td>...</td>\n",
              "      <td>...</td>\n",
              "      <td>...</td>\n",
              "      <td>...</td>\n",
              "      <td>...</td>\n",
              "      <td>...</td>\n",
              "      <td>...</td>\n",
              "      <td>...</td>\n",
              "      <td>...</td>\n",
              "      <td>...</td>\n",
              "      <td>...</td>\n",
              "      <td>...</td>\n",
              "    </tr>\n",
              "    <tr>\n",
              "      <th>59504</th>\n",
              "      <td>SI</td>\n",
              "      <td>NO</td>\n",
              "      <td>NO</td>\n",
              "      <td>INACTIVO</td>\n",
              "      <td>QUERELLABLE</td>\n",
              "      <td>2015.0</td>\n",
              "      <td>2015.0</td>\n",
              "      <td>2015.0</td>\n",
              "      <td>Ley 906</td>\n",
              "      <td>Colombia</td>\n",
              "      <td>...</td>\n",
              "      <td>NO</td>\n",
              "      <td>NO</td>\n",
              "      <td>NO</td>\n",
              "      <td>NO</td>\n",
              "      <td>NO</td>\n",
              "      <td>FEMENINO</td>\n",
              "      <td>SIN DATO</td>\n",
              "      <td>Colombia</td>\n",
              "      <td>NO</td>\n",
              "      <td>1.0</td>\n",
              "    </tr>\n",
              "    <tr>\n",
              "      <th>59506</th>\n",
              "      <td>SI</td>\n",
              "      <td>NO</td>\n",
              "      <td>NO</td>\n",
              "      <td>ACTIVO</td>\n",
              "      <td>INVESTIGACIÓN</td>\n",
              "      <td>2018.0</td>\n",
              "      <td>2018.0</td>\n",
              "      <td>2017.0</td>\n",
              "      <td>Ley 906</td>\n",
              "      <td>Colombia</td>\n",
              "      <td>...</td>\n",
              "      <td>SI</td>\n",
              "      <td>NO</td>\n",
              "      <td>NO</td>\n",
              "      <td>SI</td>\n",
              "      <td>SI</td>\n",
              "      <td>MASCULINO</td>\n",
              "      <td>JUVENTUD 18 - 28</td>\n",
              "      <td>Colombia</td>\n",
              "      <td>NO</td>\n",
              "      <td>1.0</td>\n",
              "    </tr>\n",
              "    <tr>\n",
              "      <th>59507</th>\n",
              "      <td>SI</td>\n",
              "      <td>NO</td>\n",
              "      <td>NO</td>\n",
              "      <td>ACTIVO</td>\n",
              "      <td>INDAGACIÓN</td>\n",
              "      <td>2016.0</td>\n",
              "      <td>2016.0</td>\n",
              "      <td>2016.0</td>\n",
              "      <td>Ley 906</td>\n",
              "      <td>Colombia</td>\n",
              "      <td>...</td>\n",
              "      <td>NO</td>\n",
              "      <td>NO</td>\n",
              "      <td>NO</td>\n",
              "      <td>NO</td>\n",
              "      <td>NO</td>\n",
              "      <td>MASCULINO</td>\n",
              "      <td>PRIMERA INFANCIA 0 - 5</td>\n",
              "      <td>Colombia</td>\n",
              "      <td>NO</td>\n",
              "      <td>3.0</td>\n",
              "    </tr>\n",
              "    <tr>\n",
              "      <th>59508</th>\n",
              "      <td>NO</td>\n",
              "      <td>NO</td>\n",
              "      <td>NO</td>\n",
              "      <td>INACTIVO</td>\n",
              "      <td>QUERELLABLE</td>\n",
              "      <td>2012.0</td>\n",
              "      <td>2012.0</td>\n",
              "      <td>2012.0</td>\n",
              "      <td>Ley 906</td>\n",
              "      <td>Colombia</td>\n",
              "      <td>...</td>\n",
              "      <td>NO</td>\n",
              "      <td>NO</td>\n",
              "      <td>SI</td>\n",
              "      <td>NO</td>\n",
              "      <td>NO</td>\n",
              "      <td>MASCULINO</td>\n",
              "      <td>ADULTEZ 29 - 59</td>\n",
              "      <td>Colombia</td>\n",
              "      <td>NO</td>\n",
              "      <td>1.0</td>\n",
              "    </tr>\n",
              "    <tr>\n",
              "      <th>59509</th>\n",
              "      <td>SI</td>\n",
              "      <td>NO</td>\n",
              "      <td>NO</td>\n",
              "      <td>INACTIVO</td>\n",
              "      <td>INDAGACIÓN</td>\n",
              "      <td>2010.0</td>\n",
              "      <td>2010.0</td>\n",
              "      <td>2010.0</td>\n",
              "      <td>Ley 906</td>\n",
              "      <td>Colombia</td>\n",
              "      <td>...</td>\n",
              "      <td>NO</td>\n",
              "      <td>NO</td>\n",
              "      <td>NO</td>\n",
              "      <td>NO</td>\n",
              "      <td>NO</td>\n",
              "      <td>FEMENINO</td>\n",
              "      <td>ADULTEZ 29 - 59</td>\n",
              "      <td>Colombia</td>\n",
              "      <td>NO</td>\n",
              "      <td>1.0</td>\n",
              "    </tr>\n",
              "  </tbody>\n",
              "</table>\n",
              "<p>52239 rows × 25 columns</p>\n",
              "</div>\n",
              "      <button class=\"colab-df-convert\" onclick=\"convertToInteractive('df-44cc004d-92b6-4a07-9e48-148390d4820d')\"\n",
              "              title=\"Convert this dataframe to an interactive table.\"\n",
              "              style=\"display:none;\">\n",
              "        \n",
              "  <svg xmlns=\"http://www.w3.org/2000/svg\" height=\"24px\"viewBox=\"0 0 24 24\"\n",
              "       width=\"24px\">\n",
              "    <path d=\"M0 0h24v24H0V0z\" fill=\"none\"/>\n",
              "    <path d=\"M18.56 5.44l.94 2.06.94-2.06 2.06-.94-2.06-.94-.94-2.06-.94 2.06-2.06.94zm-11 1L8.5 8.5l.94-2.06 2.06-.94-2.06-.94L8.5 2.5l-.94 2.06-2.06.94zm10 10l.94 2.06.94-2.06 2.06-.94-2.06-.94-.94-2.06-.94 2.06-2.06.94z\"/><path d=\"M17.41 7.96l-1.37-1.37c-.4-.4-.92-.59-1.43-.59-.52 0-1.04.2-1.43.59L10.3 9.45l-7.72 7.72c-.78.78-.78 2.05 0 2.83L4 21.41c.39.39.9.59 1.41.59.51 0 1.02-.2 1.41-.59l7.78-7.78 2.81-2.81c.8-.78.8-2.07 0-2.86zM5.41 20L4 18.59l7.72-7.72 1.47 1.35L5.41 20z\"/>\n",
              "  </svg>\n",
              "      </button>\n",
              "      \n",
              "  <style>\n",
              "    .colab-df-container {\n",
              "      display:flex;\n",
              "      flex-wrap:wrap;\n",
              "      gap: 12px;\n",
              "    }\n",
              "\n",
              "    .colab-df-convert {\n",
              "      background-color: #E8F0FE;\n",
              "      border: none;\n",
              "      border-radius: 50%;\n",
              "      cursor: pointer;\n",
              "      display: none;\n",
              "      fill: #1967D2;\n",
              "      height: 32px;\n",
              "      padding: 0 0 0 0;\n",
              "      width: 32px;\n",
              "    }\n",
              "\n",
              "    .colab-df-convert:hover {\n",
              "      background-color: #E2EBFA;\n",
              "      box-shadow: 0px 1px 2px rgba(60, 64, 67, 0.3), 0px 1px 3px 1px rgba(60, 64, 67, 0.15);\n",
              "      fill: #174EA6;\n",
              "    }\n",
              "\n",
              "    [theme=dark] .colab-df-convert {\n",
              "      background-color: #3B4455;\n",
              "      fill: #D2E3FC;\n",
              "    }\n",
              "\n",
              "    [theme=dark] .colab-df-convert:hover {\n",
              "      background-color: #434B5C;\n",
              "      box-shadow: 0px 1px 3px 1px rgba(0, 0, 0, 0.15);\n",
              "      filter: drop-shadow(0px 1px 2px rgba(0, 0, 0, 0.3));\n",
              "      fill: #FFFFFF;\n",
              "    }\n",
              "  </style>\n",
              "\n",
              "      <script>\n",
              "        const buttonEl =\n",
              "          document.querySelector('#df-44cc004d-92b6-4a07-9e48-148390d4820d button.colab-df-convert');\n",
              "        buttonEl.style.display =\n",
              "          google.colab.kernel.accessAllowed ? 'block' : 'none';\n",
              "\n",
              "        async function convertToInteractive(key) {\n",
              "          const element = document.querySelector('#df-44cc004d-92b6-4a07-9e48-148390d4820d');\n",
              "          const dataTable =\n",
              "            await google.colab.kernel.invokeFunction('convertToInteractive',\n",
              "                                                     [key], {});\n",
              "          if (!dataTable) return;\n",
              "\n",
              "          const docLinkHtml = 'Like what you see? Visit the ' +\n",
              "            '<a target=\"_blank\" href=https://colab.research.google.com/notebooks/data_table.ipynb>data table notebook</a>'\n",
              "            + ' to learn more about interactive tables.';\n",
              "          element.innerHTML = '';\n",
              "          dataTable['output_type'] = 'display_data';\n",
              "          await google.colab.output.renderOutput(dataTable, element);\n",
              "          const docLink = document.createElement('div');\n",
              "          docLink.innerHTML = docLinkHtml;\n",
              "          element.appendChild(docLink);\n",
              "        }\n",
              "      </script>\n",
              "    </div>\n",
              "  </div>\n",
              "  "
            ]
          },
          "metadata": {},
          "execution_count": 3
        }
      ],
      "source": [
        "Datos = Datos.dropna()\n",
        "Datos"
      ]
    },
    {
      "cell_type": "markdown",
      "metadata": {
        "id": "SoSR2jGxWkWA"
      },
      "source": [
        "**primer analisis**\n",
        "****\n",
        "Determinar con que frecuencia suceden cada tipo de agresiones con respecto a municipio y ciudades.Para ello usaremos un *diagrama de estratificacion* donde colocamos los tipos de agreciones y municipios presentes en los datos."
      ]
    },
    {
      "cell_type": "code",
      "execution_count": 4,
      "metadata": {
        "colab": {
          "base_uri": "https://localhost:8080/",
          "height": 423
        },
        "id": "4s_TeC-DaYCo",
        "outputId": "60baff93-227d-4af3-effc-1031670ab851"
      },
      "outputs": [
        {
          "output_type": "execute_result",
          "data": {
            "text/plain": [
              "                   MUNICIPIO\n",
              "BOGOTÁ, D.C.            2532\n",
              "MEDELLÍN                2037\n",
              "CALI                    1785\n",
              "IBAGUÉ                   844\n",
              "BUCARAMANGA              812\n",
              "...                      ...\n",
              "LA GUADALUPE               1\n",
              "PIOJÓ                      1\n",
              "RECETOR                    1\n",
              "FRANCISCO PIZARRO          1\n",
              "ENCISO                     1\n",
              "\n",
              "[1029 rows x 1 columns]"
            ],
            "text/html": [
              "\n",
              "  <div id=\"df-44f3602f-2974-43b2-befb-3dfcd1673b12\">\n",
              "    <div class=\"colab-df-container\">\n",
              "      <div>\n",
              "<style scoped>\n",
              "    .dataframe tbody tr th:only-of-type {\n",
              "        vertical-align: middle;\n",
              "    }\n",
              "\n",
              "    .dataframe tbody tr th {\n",
              "        vertical-align: top;\n",
              "    }\n",
              "\n",
              "    .dataframe thead th {\n",
              "        text-align: right;\n",
              "    }\n",
              "</style>\n",
              "<table border=\"1\" class=\"dataframe\">\n",
              "  <thead>\n",
              "    <tr style=\"text-align: right;\">\n",
              "      <th></th>\n",
              "      <th>MUNICIPIO</th>\n",
              "    </tr>\n",
              "  </thead>\n",
              "  <tbody>\n",
              "    <tr>\n",
              "      <th>BOGOTÁ, D.C.</th>\n",
              "      <td>2532</td>\n",
              "    </tr>\n",
              "    <tr>\n",
              "      <th>MEDELLÍN</th>\n",
              "      <td>2037</td>\n",
              "    </tr>\n",
              "    <tr>\n",
              "      <th>CALI</th>\n",
              "      <td>1785</td>\n",
              "    </tr>\n",
              "    <tr>\n",
              "      <th>IBAGUÉ</th>\n",
              "      <td>844</td>\n",
              "    </tr>\n",
              "    <tr>\n",
              "      <th>BUCARAMANGA</th>\n",
              "      <td>812</td>\n",
              "    </tr>\n",
              "    <tr>\n",
              "      <th>...</th>\n",
              "      <td>...</td>\n",
              "    </tr>\n",
              "    <tr>\n",
              "      <th>LA GUADALUPE</th>\n",
              "      <td>1</td>\n",
              "    </tr>\n",
              "    <tr>\n",
              "      <th>PIOJÓ</th>\n",
              "      <td>1</td>\n",
              "    </tr>\n",
              "    <tr>\n",
              "      <th>RECETOR</th>\n",
              "      <td>1</td>\n",
              "    </tr>\n",
              "    <tr>\n",
              "      <th>FRANCISCO PIZARRO</th>\n",
              "      <td>1</td>\n",
              "    </tr>\n",
              "    <tr>\n",
              "      <th>ENCISO</th>\n",
              "      <td>1</td>\n",
              "    </tr>\n",
              "  </tbody>\n",
              "</table>\n",
              "<p>1029 rows × 1 columns</p>\n",
              "</div>\n",
              "      <button class=\"colab-df-convert\" onclick=\"convertToInteractive('df-44f3602f-2974-43b2-befb-3dfcd1673b12')\"\n",
              "              title=\"Convert this dataframe to an interactive table.\"\n",
              "              style=\"display:none;\">\n",
              "        \n",
              "  <svg xmlns=\"http://www.w3.org/2000/svg\" height=\"24px\"viewBox=\"0 0 24 24\"\n",
              "       width=\"24px\">\n",
              "    <path d=\"M0 0h24v24H0V0z\" fill=\"none\"/>\n",
              "    <path d=\"M18.56 5.44l.94 2.06.94-2.06 2.06-.94-2.06-.94-.94-2.06-.94 2.06-2.06.94zm-11 1L8.5 8.5l.94-2.06 2.06-.94-2.06-.94L8.5 2.5l-.94 2.06-2.06.94zm10 10l.94 2.06.94-2.06 2.06-.94-2.06-.94-.94-2.06-.94 2.06-2.06.94z\"/><path d=\"M17.41 7.96l-1.37-1.37c-.4-.4-.92-.59-1.43-.59-.52 0-1.04.2-1.43.59L10.3 9.45l-7.72 7.72c-.78.78-.78 2.05 0 2.83L4 21.41c.39.39.9.59 1.41.59.51 0 1.02-.2 1.41-.59l7.78-7.78 2.81-2.81c.8-.78.8-2.07 0-2.86zM5.41 20L4 18.59l7.72-7.72 1.47 1.35L5.41 20z\"/>\n",
              "  </svg>\n",
              "      </button>\n",
              "      \n",
              "  <style>\n",
              "    .colab-df-container {\n",
              "      display:flex;\n",
              "      flex-wrap:wrap;\n",
              "      gap: 12px;\n",
              "    }\n",
              "\n",
              "    .colab-df-convert {\n",
              "      background-color: #E8F0FE;\n",
              "      border: none;\n",
              "      border-radius: 50%;\n",
              "      cursor: pointer;\n",
              "      display: none;\n",
              "      fill: #1967D2;\n",
              "      height: 32px;\n",
              "      padding: 0 0 0 0;\n",
              "      width: 32px;\n",
              "    }\n",
              "\n",
              "    .colab-df-convert:hover {\n",
              "      background-color: #E2EBFA;\n",
              "      box-shadow: 0px 1px 2px rgba(60, 64, 67, 0.3), 0px 1px 3px 1px rgba(60, 64, 67, 0.15);\n",
              "      fill: #174EA6;\n",
              "    }\n",
              "\n",
              "    [theme=dark] .colab-df-convert {\n",
              "      background-color: #3B4455;\n",
              "      fill: #D2E3FC;\n",
              "    }\n",
              "\n",
              "    [theme=dark] .colab-df-convert:hover {\n",
              "      background-color: #434B5C;\n",
              "      box-shadow: 0px 1px 3px 1px rgba(0, 0, 0, 0.15);\n",
              "      filter: drop-shadow(0px 1px 2px rgba(0, 0, 0, 0.3));\n",
              "      fill: #FFFFFF;\n",
              "    }\n",
              "  </style>\n",
              "\n",
              "      <script>\n",
              "        const buttonEl =\n",
              "          document.querySelector('#df-44f3602f-2974-43b2-befb-3dfcd1673b12 button.colab-df-convert');\n",
              "        buttonEl.style.display =\n",
              "          google.colab.kernel.accessAllowed ? 'block' : 'none';\n",
              "\n",
              "        async function convertToInteractive(key) {\n",
              "          const element = document.querySelector('#df-44f3602f-2974-43b2-befb-3dfcd1673b12');\n",
              "          const dataTable =\n",
              "            await google.colab.kernel.invokeFunction('convertToInteractive',\n",
              "                                                     [key], {});\n",
              "          if (!dataTable) return;\n",
              "\n",
              "          const docLinkHtml = 'Like what you see? Visit the ' +\n",
              "            '<a target=\"_blank\" href=https://colab.research.google.com/notebooks/data_table.ipynb>data table notebook</a>'\n",
              "            + ' to learn more about interactive tables.';\n",
              "          element.innerHTML = '';\n",
              "          dataTable['output_type'] = 'display_data';\n",
              "          await google.colab.output.renderOutput(dataTable, element);\n",
              "          const docLink = document.createElement('div');\n",
              "          docLink.innerHTML = docLinkHtml;\n",
              "          element.appendChild(docLink);\n",
              "        }\n",
              "      </script>\n",
              "    </div>\n",
              "  </div>\n",
              "  "
            ]
          },
          "metadata": {},
          "execution_count": 4
        }
      ],
      "source": [
        "from pandas._libs.hashtable import value_count\n",
        "#Municipios \n",
        "pd.DataFrame(Datos['MUNICIPIO'].value_counts())"
      ]
    },
    {
      "cell_type": "code",
      "execution_count": 5,
      "metadata": {
        "colab": {
          "base_uri": "https://localhost:8080/",
          "height": 423
        },
        "id": "wSr_7mrirpjS",
        "outputId": "1ddd982e-3449-4b67-e122-4e73ec6b0129"
      },
      "outputs": [
        {
          "output_type": "execute_result",
          "data": {
            "text/plain": [
              "                                                    DELITO\n",
              "INASISTENCIA ALIMENTARIA ART. 233 C.P.                3796\n",
              "LESIONES ART. 111 C.P.                                3582\n",
              "VIOLENCIA INTRAFAMILIAR ART. 229 C.P.                 2963\n",
              "HOMICIDIO ART. 103 C.P.                               2598\n",
              "LESIONES CULPOSAS ART. 120 C.P. INCISO 1              2029\n",
              "...                                                    ...\n",
              "DELITOS CONTRA LA FE PUBLICA                             1\n",
              "PERTURBACION DE CERTAMEN DEMOCRATICO ART. 386 C.P.       1\n",
              "VIOLACION AL REGIMEN LEGAL O CONSTITUCIONAL DE ...       1\n",
              "ABANDONO DE HIJO FRUTO DE ACCESO CARNAL VIOLENT...       1\n",
              "ALZAMIENTO DE BIENES. ART. 253 C.P. MAYOR CUANTIA        1\n",
              "\n",
              "[617 rows x 1 columns]"
            ],
            "text/html": [
              "\n",
              "  <div id=\"df-0cc7d3e7-08be-4e32-8e30-a00287ed8e74\">\n",
              "    <div class=\"colab-df-container\">\n",
              "      <div>\n",
              "<style scoped>\n",
              "    .dataframe tbody tr th:only-of-type {\n",
              "        vertical-align: middle;\n",
              "    }\n",
              "\n",
              "    .dataframe tbody tr th {\n",
              "        vertical-align: top;\n",
              "    }\n",
              "\n",
              "    .dataframe thead th {\n",
              "        text-align: right;\n",
              "    }\n",
              "</style>\n",
              "<table border=\"1\" class=\"dataframe\">\n",
              "  <thead>\n",
              "    <tr style=\"text-align: right;\">\n",
              "      <th></th>\n",
              "      <th>DELITO</th>\n",
              "    </tr>\n",
              "  </thead>\n",
              "  <tbody>\n",
              "    <tr>\n",
              "      <th>INASISTENCIA ALIMENTARIA ART. 233 C.P.</th>\n",
              "      <td>3796</td>\n",
              "    </tr>\n",
              "    <tr>\n",
              "      <th>LESIONES ART. 111 C.P.</th>\n",
              "      <td>3582</td>\n",
              "    </tr>\n",
              "    <tr>\n",
              "      <th>VIOLENCIA INTRAFAMILIAR ART. 229 C.P.</th>\n",
              "      <td>2963</td>\n",
              "    </tr>\n",
              "    <tr>\n",
              "      <th>HOMICIDIO ART. 103 C.P.</th>\n",
              "      <td>2598</td>\n",
              "    </tr>\n",
              "    <tr>\n",
              "      <th>LESIONES CULPOSAS ART. 120 C.P. INCISO 1</th>\n",
              "      <td>2029</td>\n",
              "    </tr>\n",
              "    <tr>\n",
              "      <th>...</th>\n",
              "      <td>...</td>\n",
              "    </tr>\n",
              "    <tr>\n",
              "      <th>DELITOS CONTRA LA FE PUBLICA</th>\n",
              "      <td>1</td>\n",
              "    </tr>\n",
              "    <tr>\n",
              "      <th>PERTURBACION DE CERTAMEN DEMOCRATICO ART. 386 C.P.</th>\n",
              "      <td>1</td>\n",
              "    </tr>\n",
              "    <tr>\n",
              "      <th>VIOLACION AL REGIMEN LEGAL O CONSTITUCIONAL DE INHABILIDADES E INCOMPATIBILIDADES ART. 408 C.P.</th>\n",
              "      <td>1</td>\n",
              "    </tr>\n",
              "    <tr>\n",
              "      <th>ABANDONO DE HIJO FRUTO DE ACCESO CARNAL VIOLENTO  ABUSIVO O DE INSEMINACION ARTIFICIAL O TRANSFERENCIA DE OVULO FECUNDADO NO CONSENTIDAS ART. 128 C.P.</th>\n",
              "      <td>1</td>\n",
              "    </tr>\n",
              "    <tr>\n",
              "      <th>ALZAMIENTO DE BIENES. ART. 253 C.P. MAYOR CUANTIA</th>\n",
              "      <td>1</td>\n",
              "    </tr>\n",
              "  </tbody>\n",
              "</table>\n",
              "<p>617 rows × 1 columns</p>\n",
              "</div>\n",
              "      <button class=\"colab-df-convert\" onclick=\"convertToInteractive('df-0cc7d3e7-08be-4e32-8e30-a00287ed8e74')\"\n",
              "              title=\"Convert this dataframe to an interactive table.\"\n",
              "              style=\"display:none;\">\n",
              "        \n",
              "  <svg xmlns=\"http://www.w3.org/2000/svg\" height=\"24px\"viewBox=\"0 0 24 24\"\n",
              "       width=\"24px\">\n",
              "    <path d=\"M0 0h24v24H0V0z\" fill=\"none\"/>\n",
              "    <path d=\"M18.56 5.44l.94 2.06.94-2.06 2.06-.94-2.06-.94-.94-2.06-.94 2.06-2.06.94zm-11 1L8.5 8.5l.94-2.06 2.06-.94-2.06-.94L8.5 2.5l-.94 2.06-2.06.94zm10 10l.94 2.06.94-2.06 2.06-.94-2.06-.94-.94-2.06-.94 2.06-2.06.94z\"/><path d=\"M17.41 7.96l-1.37-1.37c-.4-.4-.92-.59-1.43-.59-.52 0-1.04.2-1.43.59L10.3 9.45l-7.72 7.72c-.78.78-.78 2.05 0 2.83L4 21.41c.39.39.9.59 1.41.59.51 0 1.02-.2 1.41-.59l7.78-7.78 2.81-2.81c.8-.78.8-2.07 0-2.86zM5.41 20L4 18.59l7.72-7.72 1.47 1.35L5.41 20z\"/>\n",
              "  </svg>\n",
              "      </button>\n",
              "      \n",
              "  <style>\n",
              "    .colab-df-container {\n",
              "      display:flex;\n",
              "      flex-wrap:wrap;\n",
              "      gap: 12px;\n",
              "    }\n",
              "\n",
              "    .colab-df-convert {\n",
              "      background-color: #E8F0FE;\n",
              "      border: none;\n",
              "      border-radius: 50%;\n",
              "      cursor: pointer;\n",
              "      display: none;\n",
              "      fill: #1967D2;\n",
              "      height: 32px;\n",
              "      padding: 0 0 0 0;\n",
              "      width: 32px;\n",
              "    }\n",
              "\n",
              "    .colab-df-convert:hover {\n",
              "      background-color: #E2EBFA;\n",
              "      box-shadow: 0px 1px 2px rgba(60, 64, 67, 0.3), 0px 1px 3px 1px rgba(60, 64, 67, 0.15);\n",
              "      fill: #174EA6;\n",
              "    }\n",
              "\n",
              "    [theme=dark] .colab-df-convert {\n",
              "      background-color: #3B4455;\n",
              "      fill: #D2E3FC;\n",
              "    }\n",
              "\n",
              "    [theme=dark] .colab-df-convert:hover {\n",
              "      background-color: #434B5C;\n",
              "      box-shadow: 0px 1px 3px 1px rgba(0, 0, 0, 0.15);\n",
              "      filter: drop-shadow(0px 1px 2px rgba(0, 0, 0, 0.3));\n",
              "      fill: #FFFFFF;\n",
              "    }\n",
              "  </style>\n",
              "\n",
              "      <script>\n",
              "        const buttonEl =\n",
              "          document.querySelector('#df-0cc7d3e7-08be-4e32-8e30-a00287ed8e74 button.colab-df-convert');\n",
              "        buttonEl.style.display =\n",
              "          google.colab.kernel.accessAllowed ? 'block' : 'none';\n",
              "\n",
              "        async function convertToInteractive(key) {\n",
              "          const element = document.querySelector('#df-0cc7d3e7-08be-4e32-8e30-a00287ed8e74');\n",
              "          const dataTable =\n",
              "            await google.colab.kernel.invokeFunction('convertToInteractive',\n",
              "                                                     [key], {});\n",
              "          if (!dataTable) return;\n",
              "\n",
              "          const docLinkHtml = 'Like what you see? Visit the ' +\n",
              "            '<a target=\"_blank\" href=https://colab.research.google.com/notebooks/data_table.ipynb>data table notebook</a>'\n",
              "            + ' to learn more about interactive tables.';\n",
              "          element.innerHTML = '';\n",
              "          dataTable['output_type'] = 'display_data';\n",
              "          await google.colab.output.renderOutput(dataTable, element);\n",
              "          const docLink = document.createElement('div');\n",
              "          docLink.innerHTML = docLinkHtml;\n",
              "          element.appendChild(docLink);\n",
              "        }\n",
              "      </script>\n",
              "    </div>\n",
              "  </div>\n",
              "  "
            ]
          },
          "metadata": {},
          "execution_count": 5
        }
      ],
      "source": [
        "#Tipo de agresiones\n",
        "pd.DataFrame(Datos['DELITO'].value_counts().T)"
      ]
    },
    {
      "cell_type": "markdown",
      "metadata": {
        "id": "c20txpZLr-o_"
      },
      "source": [
        "**Promedio de delitos en departamentos**\n",
        "****\n",
        "Ahora resaltaremos aquellos delitos que somas frecuentes, asi como que departamentos recurren mas ha cometerlos\n",
        "\n",
        "Para ello scaremos una probabilidad de que ocurra un delito **Visto en naranja** por cada departamento,en donde para empezar se distribuira de forma probabilistaca que tan frecuente es un delito y esa probabilidad sera aplicada a la de municipio en la que se encuentra\n",
        "\n",
        "*ejemplo:*\n",
        "\n",
        "probaibilidad delito  (**d%**)= delito (**xₙ**) / cantidad de delitos registrado (**n**)\n",
        "\n",
        "probabilidade delito municipio (**m%**) = municipio (**mₜ**) / totales delitos municipales(**t**)\n",
        "\n",
        "Probabilidad de delito en el municipio(**y%**) = [probabilidade delito municipio(**m%**) x probaibilidad delito  (**d%**)] / 100%\n",
        "\n"
      ]
    },
    {
      "cell_type": "code",
      "execution_count": 6,
      "metadata": {
        "colab": {
          "base_uri": "https://localhost:8080/",
          "height": 333
        },
        "id": "QaUPvA2PvvxK",
        "outputId": "695a9478-237f-4022-c20d-ca8c9608d1cf"
      },
      "outputs": [
        {
          "name": "stdout",
          "output_type": "stream",
          "text": [
            "escribe cuantos municipios quieres ver:12\n"
          ]
        },
        {
          "output_type": "execute_result",
          "data": {
            "text/plain": [
              "Text(0.5, 0, 'Municipio')"
            ]
          },
          "metadata": {},
          "execution_count": 6
        },
        {
          "output_type": "display_data",
          "data": {
            "text/plain": [
              "<Figure size 1728x288 with 1 Axes>"
            ],
            "image/png": "[encoded data removed]"
          },
          "metadata": {
            "needs_background": "light"
          }
        }
      ],
      "source": [
        "#Sacar promedio municipios\n",
        "media_municipio =Datos['MUNICIPIO'].value_counts().mean()\n",
        "indice_delito_en_municipio= np.array(list(map(lambda a: a/len(Datos['MUNICIPIO']),list(Datos['MUNICIPIO'].value_counts()))))\n",
        "nombre_municipio=Datos['MUNICIPIO'].value_counts().keys()\n",
        "\n",
        "#Sacar media de delitos\n",
        "media_delitos =Datos['DELITO'].value_counts().mean()\n",
        "indice_delito= np.array(list(map(lambda a: a/len(Datos['MUNICIPIO']),list(Datos['DELITO'].value_counts()))))\n",
        "nombre_delito=Datos['DELITO'].value_counts().keys() \n",
        "\n",
        "#otros\n",
        "numero_m =int(input(\"escribe cuantos municipios quieres ver:\"))\n",
        "colores =['lightgreen','lightblue','salmon','lightgray','aqua']\n",
        "#Grafica\n",
        "\n",
        "\n",
        "plt.figure(figsize=(numero_m*2,4))\n",
        "#plt.bar()\n",
        "plt.bar(np.arange(numero_m),indice_delito_en_municipio[:numero_m] )# Departamento por delitos registrados \n",
        "plt.bar(np.arange(numero_m),indice_delito[:numero_m],bottom=indice_delito_en_municipio[:numero_m],label='Prbabilidad de delitos', color=['orange'])# Departamento por probabilidad de delito\n",
        "\n",
        "#definir porbabilidad de cada delito  por departamento \n",
        "def Delitos_departamento(x):\n",
        "  if x != 0:\n",
        "    x-=1\n",
        "    plt.bar(np.arange(numero_m),indice_delito[:numero_m],bottom=indice_delito[x],label=nombre_delito[x])\n",
        "    Delitos_departamento(x)\n",
        "  else:\n",
        "    return \n",
        "\n",
        "\n",
        "#otros\n",
        "Delitos_departamento(numero_m)\n",
        "plt.legend()\n",
        "plt.xticks(np.arange(numero_m), nombre_municipio[:numero_m])\n",
        "plt.title('probabilidad de agresion por municipio')\n",
        "plt.ylabel('Probabilidad (%)')\n",
        "plt.xlabel('Municipio')\n"
      ]
    },
    {
      "cell_type": "markdown",
      "metadata": {
        "id": "OQdltSqrOPVC"
      },
      "source": [
        "# Creacion de modelo "
      ]
    },
    {
      "cell_type": "markdown",
      "metadata": {
        "id": "wGe9NgDTek59"
      },
      "source": [
        "**IA ayuda a secccial de direccion**\n",
        "****\n",
        "Con el fin de ayudar a las victimas se creara una inteligencia artificial que  medinate los prametros de **Departamento,Municipio,ley y tipo de delito** mostrara alguna direccion de fiscalia que trate ese tipo de delito "
      ]
    },
    {
      "cell_type": "code",
      "execution_count": 7,
      "metadata": {
        "colab": {
          "base_uri": "https://localhost:8080/",
          "height": 423
        },
        "id": "ef_aeZF9fXgX",
        "outputId": "03cfdbf1-f9e9-4b21-ad13-ad51c109dcb5"
      },
      "outputs": [
        {
          "output_type": "execute_result",
          "data": {
            "text/plain": [
              "          departamento         municipio      ley  \\\n",
              "0            Santander       BUCARAMANGA  Ley 906   \n",
              "1            Santander       BUCARAMANGA  Ley 906   \n",
              "2              Quindío          FILANDIA  Ley 906   \n",
              "4      Valle del Cauca              CALI  Ley 906   \n",
              "5         Cundinamarca             PACHO  Ley 906   \n",
              "...                ...               ...      ...   \n",
              "59504        Santander           SOCORRO  Ley 906   \n",
              "59506        Antioquia          MEDELLÍN  Ley 906   \n",
              "59507           Arauca          SARAVENA  Ley 906   \n",
              "59508        Santander  SABANA DE TORRES  Ley 906   \n",
              "59509        Risaralda           PEREIRA  Ley 906   \n",
              "\n",
              "                                                  delito  \n",
              "0               LESIONES CULPOSAS ART. 120 C.P. INCISO 1  \n",
              "1                      DAÑO EN BIEN AJENO. ART. 265 C.P.  \n",
              "2                                CALUMNIA. ART. 221 C.P.  \n",
              "4                    ESTAFA. ART. 246 C.P. MENOR CUANTIA  \n",
              "5           VIOLACION DE HABITACION AJENA. ART. 189 C.P.  \n",
              "...                                                  ...  \n",
              "59504                             LESIONES ART. 111 C.P.  \n",
              "59506                ESTAFA. ART. 246 C.P. MAYOR CUANTIA  \n",
              "59507              DESPLAZAMIENTO FORZADO ART. 180  C.P.  \n",
              "59508                            CALUMNIA. ART. 221 C.P.  \n",
              "59509  TRANSFERENCIA NO CONSENTIDA DE ACTIVOS VALIEND...  \n",
              "\n",
              "[52239 rows x 4 columns]"
            ],
            "text/html": [
              "\n",
              "  <div id=\"df-b70c36ac-c3b3-41e1-a41b-cd8ddacf62d5\">\n",
              "    <div class=\"colab-df-container\">\n",
              "      <div>\n",
              "<style scoped>\n",
              "    .dataframe tbody tr th:only-of-type {\n",
              "        vertical-align: middle;\n",
              "    }\n",
              "\n",
              "    .dataframe tbody tr th {\n",
              "        vertical-align: top;\n",
              "    }\n",
              "\n",
              "    .dataframe thead th {\n",
              "        text-align: right;\n",
              "    }\n",
              "</style>\n",
              "<table border=\"1\" class=\"dataframe\">\n",
              "  <thead>\n",
              "    <tr style=\"text-align: right;\">\n",
              "      <th></th>\n",
              "      <th>departamento</th>\n",
              "      <th>municipio</th>\n",
              "      <th>ley</th>\n",
              "      <th>delito</th>\n",
              "    </tr>\n",
              "  </thead>\n",
              "  <tbody>\n",
              "    <tr>\n",
              "      <th>0</th>\n",
              "      <td>Santander</td>\n",
              "      <td>BUCARAMANGA</td>\n",
              "      <td>Ley 906</td>\n",
              "      <td>LESIONES CULPOSAS ART. 120 C.P. INCISO 1</td>\n",
              "    </tr>\n",
              "    <tr>\n",
              "      <th>1</th>\n",
              "      <td>Santander</td>\n",
              "      <td>BUCARAMANGA</td>\n",
              "      <td>Ley 906</td>\n",
              "      <td>DAÑO EN BIEN AJENO. ART. 265 C.P.</td>\n",
              "    </tr>\n",
              "    <tr>\n",
              "      <th>2</th>\n",
              "      <td>Quindío</td>\n",
              "      <td>FILANDIA</td>\n",
              "      <td>Ley 906</td>\n",
              "      <td>CALUMNIA. ART. 221 C.P.</td>\n",
              "    </tr>\n",
              "    <tr>\n",
              "      <th>4</th>\n",
              "      <td>Valle del Cauca</td>\n",
              "      <td>CALI</td>\n",
              "      <td>Ley 906</td>\n",
              "      <td>ESTAFA. ART. 246 C.P. MENOR CUANTIA</td>\n",
              "    </tr>\n",
              "    <tr>\n",
              "      <th>5</th>\n",
              "      <td>Cundinamarca</td>\n",
              "      <td>PACHO</td>\n",
              "      <td>Ley 906</td>\n",
              "      <td>VIOLACION DE HABITACION AJENA. ART. 189 C.P.</td>\n",
              "    </tr>\n",
              "    <tr>\n",
              "      <th>...</th>\n",
              "      <td>...</td>\n",
              "      <td>...</td>\n",
              "      <td>...</td>\n",
              "      <td>...</td>\n",
              "    </tr>\n",
              "    <tr>\n",
              "      <th>59504</th>\n",
              "      <td>Santander</td>\n",
              "      <td>SOCORRO</td>\n",
              "      <td>Ley 906</td>\n",
              "      <td>LESIONES ART. 111 C.P.</td>\n",
              "    </tr>\n",
              "    <tr>\n",
              "      <th>59506</th>\n",
              "      <td>Antioquia</td>\n",
              "      <td>MEDELLÍN</td>\n",
              "      <td>Ley 906</td>\n",
              "      <td>ESTAFA. ART. 246 C.P. MAYOR CUANTIA</td>\n",
              "    </tr>\n",
              "    <tr>\n",
              "      <th>59507</th>\n",
              "      <td>Arauca</td>\n",
              "      <td>SARAVENA</td>\n",
              "      <td>Ley 906</td>\n",
              "      <td>DESPLAZAMIENTO FORZADO ART. 180  C.P.</td>\n",
              "    </tr>\n",
              "    <tr>\n",
              "      <th>59508</th>\n",
              "      <td>Santander</td>\n",
              "      <td>SABANA DE TORRES</td>\n",
              "      <td>Ley 906</td>\n",
              "      <td>CALUMNIA. ART. 221 C.P.</td>\n",
              "    </tr>\n",
              "    <tr>\n",
              "      <th>59509</th>\n",
              "      <td>Risaralda</td>\n",
              "      <td>PEREIRA</td>\n",
              "      <td>Ley 906</td>\n",
              "      <td>TRANSFERENCIA NO CONSENTIDA DE ACTIVOS VALIEND...</td>\n",
              "    </tr>\n",
              "  </tbody>\n",
              "</table>\n",
              "<p>52239 rows × 4 columns</p>\n",
              "</div>\n",
              "      <button class=\"colab-df-convert\" onclick=\"convertToInteractive('df-b70c36ac-c3b3-41e1-a41b-cd8ddacf62d5')\"\n",
              "              title=\"Convert this dataframe to an interactive table.\"\n",
              "              style=\"display:none;\">\n",
              "        \n",
              "  <svg xmlns=\"http://www.w3.org/2000/svg\" height=\"24px\"viewBox=\"0 0 24 24\"\n",
              "       width=\"24px\">\n",
              "    <path d=\"M0 0h24v24H0V0z\" fill=\"none\"/>\n",
              "    <path d=\"M18.56 5.44l.94 2.06.94-2.06 2.06-.94-2.06-.94-.94-2.06-.94 2.06-2.06.94zm-11 1L8.5 8.5l.94-2.06 2.06-.94-2.06-.94L8.5 2.5l-.94 2.06-2.06.94zm10 10l.94 2.06.94-2.06 2.06-.94-2.06-.94-.94-2.06-.94 2.06-2.06.94z\"/><path d=\"M17.41 7.96l-1.37-1.37c-.4-.4-.92-.59-1.43-.59-.52 0-1.04.2-1.43.59L10.3 9.45l-7.72 7.72c-.78.78-.78 2.05 0 2.83L4 21.41c.39.39.9.59 1.41.59.51 0 1.02-.2 1.41-.59l7.78-7.78 2.81-2.81c.8-.78.8-2.07 0-2.86zM5.41 20L4 18.59l7.72-7.72 1.47 1.35L5.41 20z\"/>\n",
              "  </svg>\n",
              "      </button>\n",
              "      \n",
              "  <style>\n",
              "    .colab-df-container {\n",
              "      display:flex;\n",
              "      flex-wrap:wrap;\n",
              "      gap: 12px;\n",
              "    }\n",
              "\n",
              "    .colab-df-convert {\n",
              "      background-color: #E8F0FE;\n",
              "      border: none;\n",
              "      border-radius: 50%;\n",
              "      cursor: pointer;\n",
              "      display: none;\n",
              "      fill: #1967D2;\n",
              "      height: 32px;\n",
              "      padding: 0 0 0 0;\n",
              "      width: 32px;\n",
              "    }\n",
              "\n",
              "    .colab-df-convert:hover {\n",
              "      background-color: #E2EBFA;\n",
              "      box-shadow: 0px 1px 2px rgba(60, 64, 67, 0.3), 0px 1px 3px 1px rgba(60, 64, 67, 0.15);\n",
              "      fill: #174EA6;\n",
              "    }\n",
              "\n",
              "    [theme=dark] .colab-df-convert {\n",
              "      background-color: #3B4455;\n",
              "      fill: #D2E3FC;\n",
              "    }\n",
              "\n",
              "    [theme=dark] .colab-df-convert:hover {\n",
              "      background-color: #434B5C;\n",
              "      box-shadow: 0px 1px 3px 1px rgba(0, 0, 0, 0.15);\n",
              "      filter: drop-shadow(0px 1px 2px rgba(0, 0, 0, 0.3));\n",
              "      fill: #FFFFFF;\n",
              "    }\n",
              "  </style>\n",
              "\n",
              "      <script>\n",
              "        const buttonEl =\n",
              "          document.querySelector('#df-b70c36ac-c3b3-41e1-a41b-cd8ddacf62d5 button.colab-df-convert');\n",
              "        buttonEl.style.display =\n",
              "          google.colab.kernel.accessAllowed ? 'block' : 'none';\n",
              "\n",
              "        async function convertToInteractive(key) {\n",
              "          const element = document.querySelector('#df-b70c36ac-c3b3-41e1-a41b-cd8ddacf62d5');\n",
              "          const dataTable =\n",
              "            await google.colab.kernel.invokeFunction('convertToInteractive',\n",
              "                                                     [key], {});\n",
              "          if (!dataTable) return;\n",
              "\n",
              "          const docLinkHtml = 'Like what you see? Visit the ' +\n",
              "            '<a target=\"_blank\" href=https://colab.research.google.com/notebooks/data_table.ipynb>data table notebook</a>'\n",
              "            + ' to learn more about interactive tables.';\n",
              "          element.innerHTML = '';\n",
              "          dataTable['output_type'] = 'display_data';\n",
              "          await google.colab.output.renderOutput(dataTable, element);\n",
              "          const docLink = document.createElement('div');\n",
              "          docLink.innerHTML = docLinkHtml;\n",
              "          element.appendChild(docLink);\n",
              "        }\n",
              "      </script>\n",
              "    </div>\n",
              "  </div>\n",
              "  "
            ]
          },
          "metadata": {},
          "execution_count": 7
        }
      ],
      "source": [
        "#Recoger datos ha usar\n",
        "Datos_necesarios = {}\n",
        "for x in ['departamento','municipio','ley','delito']:\n",
        "    Datos_necesarios[x] = Datos[x.upper()]\n",
        "\n",
        "pd.DataFrame(Datos_necesarios)"
      ]
    },
    {
      "cell_type": "markdown",
      "metadata": {
        "id": "GrSSm17Klpat"
      },
      "source": [
        "**Datos a hallar**\n",
        "***\n",
        "Ahora procederemos a buscar los datos que queremos que nuestro modelo prediga, los cuales eran **Direccion fiscal** o seccion en los datos.\n"
      ]
    },
    {
      "cell_type": "code",
      "execution_count": 8,
      "metadata": {
        "colab": {
          "base_uri": "https://localhost:8080/",
          "height": 363
        },
        "id": "PujqyPgEnGkR",
        "outputId": "42383030-2b0b-4fa4-b01a-2f7047e8225f"
      },
      "outputs": [
        {
          "output_type": "execute_result",
          "data": {
            "text/plain": [
              "                                        SECCIONAL\n",
              "DIRECCIÓN SECCIONAL DE CUNDINAMARCA          4142\n",
              "DIRECCIÓN SECCIONAL DE MEDELLÍN              3877\n",
              "DIRECCIÓN SECCIONAL DE ANTIOQUIA             3164\n",
              "DIRECCIÓN SECCIONAL DE CALI                  3122\n",
              "DIRECCIÓN SECCIONAL DE TOLIMA                2834\n",
              "DIRECCIÓN SECCIONAL DE BOGOTÁ                2595\n",
              "DIRECCIÓN SECCIONAL DE SANTANDER             2465\n",
              "DIRECCIÓN SECCIONAL DE BOYACÁ                2307\n",
              "DIRECCIÓN SECCIONAL DE CAUCA                 2096\n",
              "DIRECCIÓN SECCIONAL DE VALLE DEL CAUCA       1972"
            ],
            "text/html": [
              "\n",
              "  <div id=\"df-c24b811a-e6b8-47da-b45b-3cd0c21e38e2\">\n",
              "    <div class=\"colab-df-container\">\n",
              "      <div>\n",
              "<style scoped>\n",
              "    .dataframe tbody tr th:only-of-type {\n",
              "        vertical-align: middle;\n",
              "    }\n",
              "\n",
              "    .dataframe tbody tr th {\n",
              "        vertical-align: top;\n",
              "    }\n",
              "\n",
              "    .dataframe thead th {\n",
              "        text-align: right;\n",
              "    }\n",
              "</style>\n",
              "<table border=\"1\" class=\"dataframe\">\n",
              "  <thead>\n",
              "    <tr style=\"text-align: right;\">\n",
              "      <th></th>\n",
              "      <th>SECCIONAL</th>\n",
              "    </tr>\n",
              "  </thead>\n",
              "  <tbody>\n",
              "    <tr>\n",
              "      <th>DIRECCIÓN SECCIONAL DE CUNDINAMARCA</th>\n",
              "      <td>4142</td>\n",
              "    </tr>\n",
              "    <tr>\n",
              "      <th>DIRECCIÓN SECCIONAL DE MEDELLÍN</th>\n",
              "      <td>3877</td>\n",
              "    </tr>\n",
              "    <tr>\n",
              "      <th>DIRECCIÓN SECCIONAL DE ANTIOQUIA</th>\n",
              "      <td>3164</td>\n",
              "    </tr>\n",
              "    <tr>\n",
              "      <th>DIRECCIÓN SECCIONAL DE CALI</th>\n",
              "      <td>3122</td>\n",
              "    </tr>\n",
              "    <tr>\n",
              "      <th>DIRECCIÓN SECCIONAL DE TOLIMA</th>\n",
              "      <td>2834</td>\n",
              "    </tr>\n",
              "    <tr>\n",
              "      <th>DIRECCIÓN SECCIONAL DE BOGOTÁ</th>\n",
              "      <td>2595</td>\n",
              "    </tr>\n",
              "    <tr>\n",
              "      <th>DIRECCIÓN SECCIONAL DE SANTANDER</th>\n",
              "      <td>2465</td>\n",
              "    </tr>\n",
              "    <tr>\n",
              "      <th>DIRECCIÓN SECCIONAL DE BOYACÁ</th>\n",
              "      <td>2307</td>\n",
              "    </tr>\n",
              "    <tr>\n",
              "      <th>DIRECCIÓN SECCIONAL DE CAUCA</th>\n",
              "      <td>2096</td>\n",
              "    </tr>\n",
              "    <tr>\n",
              "      <th>DIRECCIÓN SECCIONAL DE VALLE DEL CAUCA</th>\n",
              "      <td>1972</td>\n",
              "    </tr>\n",
              "  </tbody>\n",
              "</table>\n",
              "</div>\n",
              "      <button class=\"colab-df-convert\" onclick=\"convertToInteractive('df-c24b811a-e6b8-47da-b45b-3cd0c21e38e2')\"\n",
              "              title=\"Convert this dataframe to an interactive table.\"\n",
              "              style=\"display:none;\">\n",
              "        \n",
              "  <svg xmlns=\"http://www.w3.org/2000/svg\" height=\"24px\"viewBox=\"0 0 24 24\"\n",
              "       width=\"24px\">\n",
              "    <path d=\"M0 0h24v24H0V0z\" fill=\"none\"/>\n",
              "    <path d=\"M18.56 5.44l.94 2.06.94-2.06 2.06-.94-2.06-.94-.94-2.06-.94 2.06-2.06.94zm-11 1L8.5 8.5l.94-2.06 2.06-.94-2.06-.94L8.5 2.5l-.94 2.06-2.06.94zm10 10l.94 2.06.94-2.06 2.06-.94-2.06-.94-.94-2.06-.94 2.06-2.06.94z\"/><path d=\"M17.41 7.96l-1.37-1.37c-.4-.4-.92-.59-1.43-.59-.52 0-1.04.2-1.43.59L10.3 9.45l-7.72 7.72c-.78.78-.78 2.05 0 2.83L4 21.41c.39.39.9.59 1.41.59.51 0 1.02-.2 1.41-.59l7.78-7.78 2.81-2.81c.8-.78.8-2.07 0-2.86zM5.41 20L4 18.59l7.72-7.72 1.47 1.35L5.41 20z\"/>\n",
              "  </svg>\n",
              "      </button>\n",
              "      \n",
              "  <style>\n",
              "    .colab-df-container {\n",
              "      display:flex;\n",
              "      flex-wrap:wrap;\n",
              "      gap: 12px;\n",
              "    }\n",
              "\n",
              "    .colab-df-convert {\n",
              "      background-color: #E8F0FE;\n",
              "      border: none;\n",
              "      border-radius: 50%;\n",
              "      cursor: pointer;\n",
              "      display: none;\n",
              "      fill: #1967D2;\n",
              "      height: 32px;\n",
              "      padding: 0 0 0 0;\n",
              "      width: 32px;\n",
              "    }\n",
              "\n",
              "    .colab-df-convert:hover {\n",
              "      background-color: #E2EBFA;\n",
              "      box-shadow: 0px 1px 2px rgba(60, 64, 67, 0.3), 0px 1px 3px 1px rgba(60, 64, 67, 0.15);\n",
              "      fill: #174EA6;\n",
              "    }\n",
              "\n",
              "    [theme=dark] .colab-df-convert {\n",
              "      background-color: #3B4455;\n",
              "      fill: #D2E3FC;\n",
              "    }\n",
              "\n",
              "    [theme=dark] .colab-df-convert:hover {\n",
              "      background-color: #434B5C;\n",
              "      box-shadow: 0px 1px 3px 1px rgba(0, 0, 0, 0.15);\n",
              "      filter: drop-shadow(0px 1px 2px rgba(0, 0, 0, 0.3));\n",
              "      fill: #FFFFFF;\n",
              "    }\n",
              "  </style>\n",
              "\n",
              "      <script>\n",
              "        const buttonEl =\n",
              "          document.querySelector('#df-c24b811a-e6b8-47da-b45b-3cd0c21e38e2 button.colab-df-convert');\n",
              "        buttonEl.style.display =\n",
              "          google.colab.kernel.accessAllowed ? 'block' : 'none';\n",
              "\n",
              "        async function convertToInteractive(key) {\n",
              "          const element = document.querySelector('#df-c24b811a-e6b8-47da-b45b-3cd0c21e38e2');\n",
              "          const dataTable =\n",
              "            await google.colab.kernel.invokeFunction('convertToInteractive',\n",
              "                                                     [key], {});\n",
              "          if (!dataTable) return;\n",
              "\n",
              "          const docLinkHtml = 'Like what you see? Visit the ' +\n",
              "            '<a target=\"_blank\" href=https://colab.research.google.com/notebooks/data_table.ipynb>data table notebook</a>'\n",
              "            + ' to learn more about interactive tables.';\n",
              "          element.innerHTML = '';\n",
              "          dataTable['output_type'] = 'display_data';\n",
              "          await google.colab.output.renderOutput(dataTable, element);\n",
              "          const docLink = document.createElement('div');\n",
              "          docLink.innerHTML = docLinkHtml;\n",
              "          element.appendChild(docLink);\n",
              "        }\n",
              "      </script>\n",
              "    </div>\n",
              "  </div>\n",
              "  "
            ]
          },
          "metadata": {},
          "execution_count": 8
        }
      ],
      "source": [
        "#Datos que usaremos para entrenar el output del modelo\n",
        "Datos_predecir = {}\n",
        "Datos_predecir['seccional'] =Datos['SECCIONAL']\n",
        "pd.DataFrame(Datos_predecir['seccional'].value_counts()[:10])\n"
      ]
    },
    {
      "cell_type": "markdown",
      "source": [
        "**La mediana en la seccional**\n",
        "***\n",
        "Como podemos ver muchas seccionales solo han atendido de menos de 1000 casos atnedido, estos seccionales al ser tan poco productivo es mejor determinar que seccionales son utiles pra nuestro modelo."
      ],
      "metadata": {
        "id": "x-QX8f_8tj27"
      }
    },
    {
      "cell_type": "code",
      "source": [
        "def Plot(df,colm=None,as_colum=True):\n",
        "  if as_colum:\n",
        "    fig,(axis_1,axis_2)= plt.subplots(2,1)\n",
        "    sns.distplot(df[colm],ax = axis_1)\n",
        "    sns.boxplot(df[colm],ax = axis_2)\n",
        "  else:\n",
        "    fig,(axis_1,axis_2)= plt.subplots(2,1)\n",
        "    sns.distplot(df,ax = axis_1)\n",
        "    sns.boxplot(df,ax = axis_2)\n",
        "#Cantidad de casos atendidos por  cada seccional ORIGINAL\n",
        "Plot(Datos_predecir['seccional'].value_counts(),as_colum=False)"
      ],
      "metadata": {
        "colab": {
          "base_uri": "https://localhost:8080/",
          "height": 373
        },
        "id": "QSc3prRIrIJ8",
        "outputId": "3016708b-b987-4bc1-ebbb-f3427d44a613"
      },
      "execution_count": 9,
      "outputs": [
        {
          "output_type": "stream",
          "name": "stderr",
          "text": [
            "/usr/local/lib/python3.7/dist-packages/seaborn/distributions.py:2619: FutureWarning: `distplot` is a deprecated function and will be removed in a future version. Please adapt your code to use either `displot` (a figure-level function with similar flexibility) or `histplot` (an axes-level function for histograms).\n",
            "  warnings.warn(msg, FutureWarning)\n",
            "/usr/local/lib/python3.7/dist-packages/seaborn/_decorators.py:43: FutureWarning: Pass the following variable as a keyword arg: x. From version 0.12, the only valid positional argument will be `data`, and passing other arguments without an explicit keyword will result in an error or misinterpretation.\n",
            "  FutureWarning\n"
          ]
        },
        {
          "output_type": "display_data",
          "data": {
            "text/plain": [
              "<Figure size 432x288 with 2 Axes>"
            ],
            "image/png": "[encoded data removed]"
          },
          "metadata": {
            "needs_background": "light"
          }
        }
      ]
    },
    {
      "cell_type": "markdown",
      "source": [
        "**Nota**\n",
        "***\n",
        "Una vez determinado aquellas seccionales las cuales no tiene el minimo de caso necesarios para pasar, porcederemos a eliminarlas y quitar sus relativos datos \n"
      ],
      "metadata": {
        "id": "b1XxmKGE0o95"
      }
    },
    {
      "cell_type": "code",
      "source": [
        "# Detrminar la cantidad la mediana de los casos\n",
        "mediana=np.median(Datos_predecir['seccional'].value_counts())\n",
        "Secciones_no = np.where(Datos_predecir['seccional'].value_counts()>=1000,Datos_predecir['seccional'].value_counts(),mediana)\n",
        "\n",
        "#Graficar media\n",
        "Plot(Secciones_no,as_colum=False)"
      ],
      "metadata": {
        "colab": {
          "base_uri": "https://localhost:8080/",
          "height": 358
        },
        "id": "7fXune_SuYml",
        "outputId": "374bdf30-862d-4e3a-b4fc-dff0ab61b702"
      },
      "execution_count": 10,
      "outputs": [
        {
          "output_type": "stream",
          "name": "stderr",
          "text": [
            "/usr/local/lib/python3.7/dist-packages/seaborn/distributions.py:2619: FutureWarning: `distplot` is a deprecated function and will be removed in a future version. Please adapt your code to use either `displot` (a figure-level function with similar flexibility) or `histplot` (an axes-level function for histograms).\n",
            "  warnings.warn(msg, FutureWarning)\n",
            "/usr/local/lib/python3.7/dist-packages/seaborn/_decorators.py:43: FutureWarning: Pass the following variable as a keyword arg: x. From version 0.12, the only valid positional argument will be `data`, and passing other arguments without an explicit keyword will result in an error or misinterpretation.\n",
            "  FutureWarning\n"
          ]
        },
        {
          "output_type": "display_data",
          "data": {
            "text/plain": [
              "<Figure size 432x288 with 2 Axes>"
            ],
            "image/png": "[encoded data removed]"
          },
          "metadata": {
            "needs_background": "light"
          }
        }
      ]
    },
    {
      "cell_type": "markdown",
      "metadata": {
        "id": "jzoGXRIWAGc2"
      },
      "source": [
        "**Vectorizar datos**\n",
        "***\n",
        "Ahora procedermos ha volver los datos de string a un vector para facilitrar el entrenamiento del modelo"
      ]
    },
    {
      "cell_type": "code",
      "execution_count": 11,
      "metadata": {
        "colab": {
          "base_uri": "https://localhost:8080/"
        },
        "id": "1bhC63MqAFxn",
        "outputId": "6b031cf7-327a-4b78-98e5-9ad61ea161c4"
      },
      "outputs": [
        {
          "output_type": "execute_result",
          "data": {
            "text/plain": [
              "(4,)"
            ]
          },
          "metadata": {},
          "execution_count": 11
        }
      ],
      "source": [
        "def Creacion_vector(paquet):\n",
        "  count = 0\n",
        "  result ={}\n",
        "  for variable in paquet.value_counts().keys():\n",
        "    result.setdefault(variable,count)\n",
        "    count +=1 \n",
        "  return result\n",
        "    \n",
        "#diccionario de datos inputs\n",
        "Diccionario=[]\n",
        "Diccionario=np.asarray(list(map(Creacion_vector,Datos_necesarios.values())))\n",
        "\n",
        "Diccionario.shape"
      ]
    },
    {
      "cell_type": "markdown",
      "metadata": {
        "id": "-M1aAGAHlndC"
      },
      "source": [
        "**Datos de salida**\n",
        "***\n",
        "Son las intrituciones que queremos que prediga nuestro modelo"
      ]
    },
    {
      "cell_type": "code",
      "execution_count": 12,
      "metadata": {
        "id": "cT1-gbbLK9BZ"
      },
      "outputs": [],
      "source": [
        "def dict_list(vector):\n",
        "  variables=[]\n",
        "  for variable in vector.value_counts().keys():\n",
        "    variables.append(variable)\n",
        "  return variables\n",
        "\n",
        "def binary_vector(variables):\n",
        "  result ={}\n",
        "  count =0\n",
        "  for v in variables:\n",
        "    binario=[0 for x in range(0,len(variables))]\n",
        "    if(count == variables.index(v)):\n",
        "      binario[count]=1 \n",
        "    count +=1\n",
        "    result.setdefault(v,binario)\n",
        "    #limite de variable\n",
        "  return result\n",
        "\n"
      ]
    },
    {
      "cell_type": "code",
      "execution_count": 13,
      "metadata": {
        "id": "iOXFdQsiURS3"
      },
      "outputs": [],
      "source": [
        "#datos output para entranmiento del modelo\n",
        "prueba=list(map(dict_list,Datos_predecir.values()))\n",
        "diccionario_output=binary_vector(prueba[0])"
      ]
    },
    {
      "cell_type": "code",
      "source": [
        ""
      ],
      "metadata": {
        "id": "F7l75nU3g_sA"
      },
      "execution_count": 13,
      "outputs": []
    },
    {
      "cell_type": "code",
      "execution_count": 14,
      "metadata": {
        "id": "nuWR8d39HvFf",
        "colab": {
          "base_uri": "https://localhost:8080/"
        },
        "outputId": "6830e490-18c0-426d-dfd2-5be51ac0a007"
      },
      "outputs": [
        {
          "output_type": "stream",
          "name": "stdout",
          "text": [
            "[0. 0. 0. 0. 0. 0. 0. 0. 0. 0. 0. 0. 0. 0. 0. 0. 0. 0. 0. 0. 0. 0. 0. 0.\n",
            " 0. 0. 0. 0. 0. 0. 0. 0. 0. 0. 0. 0. 0. 0. 0. 0. 0. 0. 0. 0. 0. 0. 0. 0.\n",
            " 0.]\n",
            "[0. 0. 0. 0. 0. 0. 0. 0. 0. 0. 0. 0. 0. 0. 0. 0. 0. 0. 0. 0. 0. 0. 0. 0.\n",
            " 0. 0. 0. 0. 0. 0. 0. 0. 0. 0. 0. 0. 0. 0. 0. 0. 0. 0. 0. 0. 0. 0. 0. 0.\n",
            " 0.]\n",
            "[0. 0. 0. 0. 0. 0. 0. 0. 0. 0. 0. 0. 0. 0. 0. 0. 0. 0. 0. 0. 0. 0. 0. 0.\n",
            " 0. 0. 0. 0. 0. 0. 0. 0. 0. 0. 0. 0. 0. 0. 0. 0. 0. 0. 0. 0. 0. 0. 0. 0.\n",
            " 0.]\n",
            "[0. 0. 0. 0. 0. 0. 0. 0. 0. 0. 0. 0. 0. 0. 0. 0. 0. 0. 0. 0. 0. 0. 0. 0.\n",
            " 0. 0. 0. 0. 0. 0. 0. 0. 0. 0. 0. 0. 0. 0. 0. 0. 0. 0. 0. 0. 0. 0. 0. 0.\n",
            " 0.]\n",
            "[0. 0. 0. 0. 0. 0. 0. 0. 0. 0. 0. 0. 0. 0. 0. 0. 0. 0. 0. 0. 0. 0. 0. 0.\n",
            " 0. 0. 0. 0. 0. 0. 0. 0. 0. 0. 0. 0. 0. 0. 0. 0. 0. 0. 0. 0. 0. 0. 0. 0.\n",
            " 0.]\n",
            "[0. 0. 0. 0. 0. 0. 0. 0. 0. 0. 0. 0. 0. 0. 0. 0. 0. 0. 0. 0. 0. 0. 0. 0.\n",
            " 0. 0. 0. 0. 0. 0. 0. 0. 0. 0. 0. 0. 0. 0. 0. 0. 0. 0. 0. 0. 0. 0. 0. 0.\n",
            " 0.]\n",
            "[0. 0. 0. 0. 0. 0. 0. 0. 0. 0. 0. 0. 0. 0. 0. 0. 0. 0. 0. 0. 0. 0. 0. 0.\n",
            " 0. 0. 0. 0. 0. 0. 0. 0. 0. 0. 0. 0. 0. 0. 0. 0. 0. 0. 0. 0. 0. 0. 0. 0.\n",
            " 0.]\n",
            "[0. 0. 0. 0. 0. 0. 0. 0. 0. 0. 0. 0. 0. 0. 0. 0. 0. 0. 0. 0. 0. 0. 0. 0.\n",
            " 0. 0. 0. 0. 0. 0. 0. 0. 0. 0. 0. 0. 0. 0. 0. 0. 0. 0. 0. 0. 0. 0. 0. 0.\n",
            " 0.]\n",
            "[0. 0. 0. 0. 0. 0. 0. 0. 0. 0. 0. 0. 0. 0. 0. 0. 0. 0. 0. 0. 0. 0. 0. 0.\n",
            " 0. 0. 0. 0. 0. 0. 0. 0. 0. 0. 0. 0. 0. 0. 0. 0. 0. 0. 0. 0. 0. 0. 0. 0.\n",
            " 0.]\n",
            "[0. 0. 0. 0. 0. 0. 0. 0. 0. 0. 0. 0. 0. 0. 0. 0. 0. 0. 0. 0. 0. 0. 0. 0.\n",
            " 0. 0. 0. 0. 0. 0. 0. 0. 0. 0. 0. 0. 0. 0. 0. 0. 0. 0. 0. 0. 0. 0. 0. 0.\n",
            " 0.]\n",
            "[0. 0. 0. 0. 0. 0. 0. 0. 0. 0. 0. 0. 0. 0. 0. 0. 0. 0. 0. 0. 0. 0. 0. 0.\n",
            " 0. 0. 0. 0. 0. 0. 0. 0. 0. 0. 0. 0. 0. 0. 0. 0. 0. 0. 0. 0. 0. 0. 0. 0.\n",
            " 0.]\n",
            "[0. 0. 0. 0. 0. 0. 0. 0. 0. 0. 0. 0. 0. 0. 0. 0. 0. 0. 0. 0. 0. 0. 0. 0.\n",
            " 0. 0. 0. 0. 0. 0. 0. 0. 0. 0. 0. 0. 0. 0. 0. 0. 0. 0. 0. 0. 0. 0. 0. 0.\n",
            " 0.]\n",
            "[0. 0. 0. 0. 0. 0. 0. 0. 0. 0. 0. 0. 0. 0. 0. 0. 0. 0. 0. 0. 0. 0. 0. 0.\n",
            " 0. 0. 0. 0. 0. 0. 0. 0. 0. 0. 0. 0. 0. 0. 0. 0. 0. 0. 0. 0. 0. 0. 0. 0.\n",
            " 0.]\n",
            "[0. 0. 0. 0. 0. 0. 0. 0. 0. 0. 0. 0. 0. 0. 0. 0. 0. 0. 0. 0. 0. 0. 0. 0.\n",
            " 0. 0. 0. 0. 0. 0. 0. 0. 0. 0. 0. 0. 0. 0. 0. 0. 0. 0. 0. 0. 0. 0. 0. 0.\n",
            " 0.]\n",
            "[0. 0. 0. 0. 0. 0. 0. 0. 0. 0. 0. 0. 0. 0. 0. 0. 0. 0. 0. 0. 0. 0. 0. 0.\n",
            " 0. 0. 0. 0. 0. 0. 0. 0. 0. 0. 0. 0. 0. 0. 0. 0. 0. 0. 0. 0. 0. 0. 0. 0.\n",
            " 0.]\n",
            "[0. 0. 0. 0. 0. 0. 0. 0. 0. 0. 0. 0. 0. 0. 0. 0. 0. 0. 0. 0. 0. 0. 0. 0.\n",
            " 0. 0. 0. 0. 0. 0. 0. 0. 0. 0. 0. 0. 0. 0. 0. 0. 0. 0. 0. 0. 0. 0. 0. 0.\n",
            " 0.]\n",
            "[0. 0. 0. 0. 0. 0. 0. 0. 0. 0. 0. 0. 0. 0. 0. 0. 0. 0. 0. 0. 0. 0. 0. 0.\n",
            " 0. 0. 0. 0. 0. 0. 0. 0. 0. 0. 0. 0. 0. 0. 0. 0. 0. 0. 0. 0. 0. 0. 0. 0.\n",
            " 0.]\n",
            "[0. 0. 0. 0. 0. 0. 0. 0. 0. 0. 0. 0. 0. 0. 0. 0. 0. 0. 0. 0. 0. 0. 0. 0.\n",
            " 0. 0. 0. 0. 0. 0. 0. 0. 0. 0. 0. 0. 0. 0. 0. 0. 0. 0. 0. 0. 0. 0. 0. 0.\n",
            " 0.]\n",
            "[0. 0. 0. 0. 0. 0. 0. 0. 0. 0. 0. 0. 0. 0. 0. 0. 0. 0. 0. 0. 0. 0. 0. 0.\n",
            " 0. 0. 0. 0. 0. 0. 0. 0. 0. 0. 0. 0. 0. 0. 0. 0. 0. 0. 0. 0. 0. 0. 0. 0.\n",
            " 0.]\n",
            "[0. 0. 0. 0. 0. 0. 0. 0. 0. 0. 0. 0. 0. 0. 0. 0. 0. 0. 0. 0. 0. 0. 0. 0.\n",
            " 0. 0. 0. 0. 0. 0. 0. 0. 0. 0. 0. 0. 0. 0. 0. 0. 0. 0. 0. 0. 0. 0. 0. 0.\n",
            " 0.]\n",
            "[0. 0. 0. 0. 0. 0. 0. 0. 0. 0. 0. 0. 0. 0. 0. 0. 0. 0. 0. 0. 0. 0. 0. 0.\n",
            " 0. 0. 0. 0. 0. 0. 0. 0. 0. 0. 0. 0. 0. 0. 0. 0. 0. 0. 0. 0. 0. 0. 0. 0.\n",
            " 0.]\n",
            "[0. 0. 0. 0. 0. 0. 0. 0. 0. 0. 0. 0. 0. 0. 0. 0. 0. 0. 0. 0. 0. 0. 0. 0.\n",
            " 0. 0. 0. 0. 0. 0. 0. 0. 0. 0. 0. 0. 0. 0. 0. 0. 0. 0. 0. 0. 0. 0. 0. 0.\n",
            " 0.]\n",
            "[0. 0. 0. 0. 0. 0. 0. 0. 0. 0. 0. 0. 0. 0. 0. 0. 0. 0. 0. 0. 0. 0. 0. 0.\n",
            " 0. 0. 0. 0. 0. 0. 0. 0. 0. 0. 0. 0. 0. 0. 0. 0. 0. 0. 0. 0. 0. 0. 0. 0.\n",
            " 0.]\n",
            "[0. 0. 0. 0. 0. 0. 0. 0. 0. 0. 0. 0. 0. 0. 0. 0. 0. 0. 0. 0. 0. 0. 0. 0.\n",
            " 0. 0. 0. 0. 0. 0. 0. 0. 0. 0. 0. 0. 0. 0. 0. 0. 0. 0. 0. 0. 0. 0. 0. 0.\n",
            " 0.]\n",
            "[0. 0. 0. 0. 0. 0. 0. 0. 0. 0. 0. 0. 0. 0. 0. 0. 0. 0. 0. 0. 0. 0. 0. 0.\n",
            " 0. 0. 0. 0. 0. 0. 0. 0. 0. 0. 0. 0. 0. 0. 0. 0. 0. 0. 0. 0. 0. 0. 0. 0.\n",
            " 0.]\n",
            "[0. 0. 0. 0. 0. 0. 0. 0. 0. 0. 0. 0. 0. 0. 0. 0. 0. 0. 0. 0. 0. 0. 0. 0.\n",
            " 0. 0. 0. 0. 0. 0. 0. 0. 0. 0. 0. 0. 0. 0. 0. 0. 0. 0. 0. 0. 0. 0. 0. 0.\n",
            " 0.]\n",
            "[0. 0. 0. 0. 0. 0. 0. 0. 0. 0. 0. 0. 0. 0. 0. 0. 0. 0. 0. 0. 0. 0. 0. 0.\n",
            " 0. 0. 0. 0. 0. 0. 0. 0. 0. 0. 0. 0. 0. 0. 0. 0. 0. 0. 0. 0. 0. 0. 0. 0.\n",
            " 0.]\n"
          ]
        }
      ],
      "source": [
        "nombres=list(dict(Datos_predecir['seccional'].value_counts()).keys())\n",
        "zero=np.zeros(len(diccionario_output['DIRECCIÓN SECCIONAL DE BOGOTÁ']))\n",
        "for x in range(len(Secciones_no)):\n",
        "  if Secciones_no[x] == mediana:\n",
        "    diccionario_output[nombres[x]]=zero\n",
        "    print(diccionario_output[nombres[x]])\n",
        "\n"
      ]
    },
    {
      "cell_type": "markdown",
      "metadata": {
        "id": "oFiJakjTTuYA"
      },
      "source": [
        "**Tranformar datos**\n",
        "***\n",
        "ahora que tenemos nuestro traductor de texto a numero debemos traducir todo los datos que vamos a utilizar para proceder a crear y entrenar el modelo"
      ]
    },
    {
      "cell_type": "code",
      "execution_count": 15,
      "metadata": {
        "id": "2FBszWLqPtlr"
      },
      "outputs": [],
      "source": [
        "def string_a_numero(datos,vector):\n",
        "  resultado=[]\n",
        "\n",
        "  for dato in datos:\n",
        "    result=[]\n",
        "    for dicc in vector.keys():\n",
        "      #Seccion numerica\n",
        "        if dato == dicc:\n",
        "          result.append(vector.get(dicc))\n",
        "          resultado += result\n",
        "\n",
        "  return resultado\n"
      ]
    },
    {
      "cell_type": "code",
      "execution_count": 16,
      "metadata": {
        "id": "4OBUlzNZxH7M",
        "colab": {
          "base_uri": "https://localhost:8080/"
        },
        "outputId": "018c693c-e12a-4533-8eb7-e4b75e8e0a58"
      },
      "outputs": [
        {
          "output_type": "execute_result",
          "data": {
            "text/plain": [
              "52239"
            ]
          },
          "metadata": {},
          "execution_count": 16
        }
      ],
      "source": [
        "Datos_X = np.asarray(list(map(string_a_numero,Datos_necesarios.values(),Diccionario)))\n",
        "len(Datos_X[0])#comprobador del tamaño"
      ]
    },
    {
      "cell_type": "markdown",
      "metadata": {
        "id": "PvBQPo_5WSlF"
      },
      "source": [
        "**Vectorizacion**\n",
        "****\n",
        "Para facilitar los dato de resultado lo haremos en forma de vector binario con la longitud del valor del dato mayor"
      ]
    },
    {
      "cell_type": "code",
      "execution_count": 17,
      "metadata": {
        "id": "36YVK_kDx0RE",
        "colab": {
          "base_uri": "https://localhost:8080/"
        },
        "outputId": "bef33de5-0b16-4046-b774-1a9c8f2dfb93"
      },
      "outputs": [
        {
          "output_type": "execute_result",
          "data": {
            "text/plain": [
              "52239"
            ]
          },
          "metadata": {},
          "execution_count": 17
        }
      ],
      "source": [
        "Datos_y = np.array(list(map(string_a_numero,Datos_predecir.values(),[diccionario_output])))\n",
        "len(Datos_y[0])#comprobador de tamaño"
      ]
    },
    {
      "cell_type": "markdown",
      "metadata": {
        "id": "YCvF266cnCAQ"
      },
      "source": [
        "**Modificacion de Datos_X**\n",
        "****\n",
        "Para faciliar el entrenamiento de los datos cambiaremos el formato de (4, X) donde el cuatro representa los vectores de  Departamento, ley, etc y la X la cantidad de elementos en total.\n",
        "\n",
        "No obstante, esto es ambiguo para nuestro modelo, por ello cambiaremos el formato a (X,4) donde expondremos que para cada elemento contara con  4 elemntos los cuales seran el departamento, ley... ; esto con el fin de facilitar y comprender el formato que ingresara a nuestro modelo"
      ]
    },
    {
      "cell_type": "code",
      "execution_count": 18,
      "metadata": {
        "id": "VSvHzewsobYr",
        "colab": {
          "base_uri": "https://localhost:8080/"
        },
        "outputId": "0e159a06-e51d-4cc0-8cf9-67d594ec5c04"
      },
      "outputs": [
        {
          "output_type": "execute_result",
          "data": {
            "text/plain": [
              "(4, 52239)"
            ]
          },
          "metadata": {},
          "execution_count": 18
        }
      ],
      "source": [
        "#datos ambiguos\n",
        "Datos_X.shape"
      ]
    },
    {
      "cell_type": "code",
      "execution_count": 19,
      "metadata": {
        "id": "AGiNnI3EnymW",
        "colab": {
          "base_uri": "https://localhost:8080/"
        },
        "outputId": "c76e247c-c1aa-4622-9239-dd6e9f8f5376"
      },
      "outputs": [
        {
          "output_type": "execute_result",
          "data": {
            "text/plain": [
              "(52239, 4)"
            ]
          },
          "metadata": {},
          "execution_count": 19
        }
      ],
      "source": [
        "#modificacion de datos\n",
        "Datos_X = Datos_X.reshape(Datos_X.shape[-1],Datos_X.shape[0])\n",
        "\n",
        "#quitar dimension en lso datos de output\n",
        "Datos_y=Datos_y.reshape(Datos_y.shape[0]*Datos_y.shape[1],Datos_y.shape[-1])\n",
        "\n",
        "Datos_X.shape"
      ]
    },
    {
      "cell_type": "code",
      "execution_count": 20,
      "metadata": {
        "id": "rNkw88WeoVgS",
        "colab": {
          "base_uri": "https://localhost:8080/"
        },
        "outputId": "54a45af2-74b1-4314-cc17-1f226f07532f"
      },
      "outputs": [
        {
          "output_type": "execute_result",
          "data": {
            "text/plain": [
              "array([ 3,  3, 20,  1])"
            ]
          },
          "metadata": {},
          "execution_count": 20
        }
      ],
      "source": [
        "#datos relacionados\n",
        "Datos_X[0]"
      ]
    },
    {
      "cell_type": "markdown",
      "metadata": {
        "id": "ZmQjZHkE_zmL"
      },
      "source": [
        "***Nota:***\n",
        "****\n",
        "una forma de confirmar que todo salio como lo esperamos cada matriz tenga igual longitud que su original"
      ]
    },
    {
      "cell_type": "code",
      "execution_count": 21,
      "metadata": {
        "id": "BAq4jQDcJ_TN",
        "colab": {
          "base_uri": "https://localhost:8080/"
        },
        "outputId": "a6e97219-4461-47b0-cf51-7af7162448be"
      },
      "outputs": [
        {
          "output_type": "execute_result",
          "data": {
            "text/plain": [
              "True"
            ]
          },
          "metadata": {},
          "execution_count": 21
        }
      ],
      "source": [
        "#comprobador de cantidad de datos\n",
        "Datos_y.shape[0] == Datos_X.shape[0]"
      ]
    },
    {
      "cell_type": "markdown",
      "metadata": {
        "id": "rnML9fgYB3_I"
      },
      "source": [
        "**Distribucion de datos**\n",
        "****\n",
        "por ultimo pero no menos importante es la distibucion en datos de entrenamiento, validacion y evaluacion con el fin de comprobar el estado del modelo"
      ]
    },
    {
      "cell_type": "code",
      "execution_count": 22,
      "metadata": {
        "id": "7P08CjWRTj24",
        "colab": {
          "base_uri": "https://localhost:8080/"
        },
        "outputId": "d937c264-934c-4167-993a-01017409942e"
      },
      "outputs": [
        {
          "output_type": "execute_result",
          "data": {
            "text/plain": [
              "False"
            ]
          },
          "metadata": {},
          "execution_count": 22
        }
      ],
      "source": [
        "len(Datos_X) >round(len(Datos_X)*0.5)+round(len(Datos_X)*0.25) +round(len(Datos_X)*0.25)"
      ]
    },
    {
      "cell_type": "code",
      "execution_count": 23,
      "metadata": {
        "id": "sxWMVUg1YCF_",
        "colab": {
          "base_uri": "https://localhost:8080/"
        },
        "outputId": "104e4fa5-aafc-4532-c4d5-93c1c269fb3c"
      },
      "outputs": [
        {
          "output_type": "execute_result",
          "data": {
            "text/plain": [
              "(13060, 49)"
            ]
          },
          "metadata": {},
          "execution_count": 23
        }
      ],
      "source": [
        "#Distirbucion de datos de entrenamiento\n",
        "prob_train=0.45\n",
        "prob_val=0.25\n",
        "y_train=np.asarray(Datos_y[:round(len(Datos_y)*prob_train)])\n",
        "#distibucion de datos de validacion\n",
        "y_val= np.asarray(Datos_y[round(len(Datos_y)*prob_train):round(len(Datos_y)*prob_train)+round(len(Datos_y)*prob_val)])\n",
        "#distribucion de datos de prueba\n",
        "y_test= np.asarray(Datos_y[round(len(Datos_y)*prob_train)+round(len(Datos_y)*prob_val):round(len(Datos_y)*prob_train)+(round(len(Datos_y)*prob_val))*2])\n",
        "y_val.shape"
      ]
    },
    {
      "cell_type": "code",
      "execution_count": 24,
      "metadata": {
        "id": "dGPtfe7oDDXd",
        "colab": {
          "base_uri": "https://localhost:8080/"
        },
        "outputId": "3c19e912-a37c-41b7-a9ff-862ab124e758"
      },
      "outputs": [
        {
          "output_type": "execute_result",
          "data": {
            "text/plain": [
              "(13060, 4)"
            ]
          },
          "metadata": {},
          "execution_count": 24
        }
      ],
      "source": [
        "#Distirbucion de datos de entrenamiento\n",
        "x_train=np.asarray(Datos_X[:round(len(Datos_X)*prob_train)])\n",
        "#distibucion de datos de validacion\n",
        "x_val= np.asarray(Datos_X[round(len(Datos_X)*prob_train):round(len(Datos_X)*prob_train)+round(len(Datos_X)*0.25)])\n",
        "#distribucion de datos de prueba\n",
        "x_test= np.asarray(Datos_X[round(len(Datos_X)*prob_train)+round(len(Datos_X)*0.25):round(len(Datos_X)*prob_train)+(round(len(Datos_X)*0.25))*2])\n",
        "x_val.shape"
      ]
    },
    {
      "cell_type": "markdown",
      "metadata": {
        "id": "AyGFL9efJ9vQ"
      },
      "source": [
        "**Creacion del modelo**\n",
        "***"
      ]
    },
    {
      "cell_type": "code",
      "execution_count": 25,
      "metadata": {
        "id": "_0Xjg-j2PdN6",
        "colab": {
          "base_uri": "https://localhost:8080/"
        },
        "outputId": "a762deda-9fe3-4826-b39d-51dc2608e8ab"
      },
      "outputs": [
        {
          "output_type": "stream",
          "name": "stdout",
          "text": [
            "Model: \"sequential\"\n",
            "_________________________________________________________________\n",
            " Layer (type)                Output Shape              Param #   \n",
            "=================================================================\n",
            " dense (Dense)               (None, 45)                225       \n",
            "                                                                 \n",
            " dropout (Dropout)           (None, 45)                0         \n",
            "                                                                 \n",
            " dense_1 (Dense)             (None, 45)                2070      \n",
            "                                                                 \n",
            " dropout_1 (Dropout)         (None, 45)                0         \n",
            "                                                                 \n",
            " dense_2 (Dense)             (None, 49)                2254      \n",
            "                                                                 \n",
            "=================================================================\n",
            "Total params: 4,549\n",
            "Trainable params: 4,549\n",
            "Non-trainable params: 0\n",
            "_________________________________________________________________\n"
          ]
        }
      ],
      "source": [
        "from keras import regularizers\n",
        "hide_l=45\n",
        "Model = kr.Sequential([\n",
        "                       kr.layers.Input(4),\n",
        "                       kr.layers.Dense(hide_l,activation='relu',kernel_regularizer=regularizers.l2(0.001)),\n",
        "                       kr.layers.Dropout(0.25),\n",
        "                       kr.layers.Dense(hide_l,activation='relu',kernel_regularizer=regularizers.l2(0.001)),\n",
        "                       kr.layers.Dropout(0.25),\n",
        "                       kr.layers.Dense(y_val.shape[-1],activation='softmax'),\n",
        "])\n",
        "Model.summary()"
      ]
    },
    {
      "cell_type": "code",
      "execution_count": 26,
      "metadata": {
        "id": "Nb1KhauYJBtY"
      },
      "outputs": [],
      "source": [
        "Model.compile(optimizer=kr.optimizer_v2.adam.Adam(0.02),\n",
        "              loss='categorical_crossentropy',\n",
        "              metrics='accuracy')"
      ]
    },
    {
      "cell_type": "code",
      "execution_count": 90,
      "metadata": {
        "id": "jwdJ8GicTF1t",
        "colab": {
          "base_uri": "https://localhost:8080/"
        },
        "outputId": "c86d9078-335d-4ce7-8d4f-b5ea427fe376"
      },
      "outputs": [
        {
          "output_type": "stream",
          "name": "stdout",
          "text": [
            "Epoch 1/23\n",
            "46/46 [==============================] - 1s 13ms/step - loss: 2.6986 - accuracy: 0.0827 - val_loss: 2.6997 - val_accuracy: 0.0679\n",
            "Epoch 2/23\n",
            "46/46 [==============================] - 1s 12ms/step - loss: 2.6966 - accuracy: 0.0803 - val_loss: 2.6979 - val_accuracy: 0.0679\n",
            "Epoch 3/23\n",
            "46/46 [==============================] - 1s 11ms/step - loss: 2.6944 - accuracy: 0.0921 - val_loss: 2.6966 - val_accuracy: 0.0679\n",
            "Epoch 4/23\n",
            "46/46 [==============================] - 1s 12ms/step - loss: 2.6934 - accuracy: 0.0804 - val_loss: 2.6951 - val_accuracy: 0.0679\n",
            "Epoch 5/23\n",
            "46/46 [==============================] - 0s 7ms/step - loss: 2.6922 - accuracy: 0.0804 - val_loss: 2.6928 - val_accuracy: 0.0679\n",
            "Epoch 6/23\n",
            "46/46 [==============================] - 0s 6ms/step - loss: 2.6908 - accuracy: 0.0804 - val_loss: 2.6923 - val_accuracy: 0.0679\n",
            "Epoch 7/23\n",
            "46/46 [==============================] - 0s 6ms/step - loss: 2.6897 - accuracy: 0.0986 - val_loss: 2.6910 - val_accuracy: 0.0679\n",
            "Epoch 8/23\n",
            "46/46 [==============================] - 0s 7ms/step - loss: 2.6884 - accuracy: 0.0849 - val_loss: 2.6903 - val_accuracy: 0.1995\n",
            "Epoch 9/23\n",
            "46/46 [==============================] - 0s 7ms/step - loss: 2.6876 - accuracy: 0.1147 - val_loss: 2.6886 - val_accuracy: 0.0679\n",
            "Epoch 10/23\n",
            "46/46 [==============================] - 0s 7ms/step - loss: 2.6870 - accuracy: 0.0803 - val_loss: 2.6891 - val_accuracy: 0.0679\n",
            "Epoch 11/23\n",
            "46/46 [==============================] - 0s 7ms/step - loss: 2.6862 - accuracy: 0.0924 - val_loss: 2.6873 - val_accuracy: 0.1995\n",
            "Epoch 12/23\n",
            "46/46 [==============================] - 0s 7ms/step - loss: 2.6856 - accuracy: 0.1258 - val_loss: 2.6869 - val_accuracy: 0.0679\n",
            "Epoch 13/23\n",
            "46/46 [==============================] - 0s 7ms/step - loss: 2.6847 - accuracy: 0.0804 - val_loss: 2.6865 - val_accuracy: 0.0679\n",
            "Epoch 14/23\n",
            "46/46 [==============================] - 0s 7ms/step - loss: 2.6836 - accuracy: 0.1040 - val_loss: 2.6859 - val_accuracy: 0.0679\n",
            "Epoch 15/23\n",
            "46/46 [==============================] - 0s 6ms/step - loss: 2.6826 - accuracy: 0.1096 - val_loss: 2.6839 - val_accuracy: 0.1995\n",
            "Epoch 16/23\n",
            "46/46 [==============================] - 0s 9ms/step - loss: 2.6820 - accuracy: 0.0890 - val_loss: 2.6841 - val_accuracy: 0.0679\n",
            "Epoch 17/23\n",
            "46/46 [==============================] - 0s 8ms/step - loss: 2.6814 - accuracy: 0.1178 - val_loss: 2.6848 - val_accuracy: 0.0679\n",
            "Epoch 18/23\n",
            "46/46 [==============================] - 0s 7ms/step - loss: 2.6807 - accuracy: 0.0898 - val_loss: 2.6823 - val_accuracy: 0.1995\n",
            "Epoch 19/23\n",
            "46/46 [==============================] - 0s 7ms/step - loss: 2.6805 - accuracy: 0.0866 - val_loss: 2.6825 - val_accuracy: 0.0679\n",
            "Epoch 20/23\n",
            "46/46 [==============================] - 0s 7ms/step - loss: 2.6796 - accuracy: 0.0804 - val_loss: 2.6817 - val_accuracy: 0.0679\n",
            "Epoch 21/23\n",
            "46/46 [==============================] - 0s 7ms/step - loss: 2.6793 - accuracy: 0.1039 - val_loss: 2.6810 - val_accuracy: 0.0679\n",
            "Epoch 22/23\n",
            "46/46 [==============================] - 0s 8ms/step - loss: 2.6783 - accuracy: 0.0804 - val_loss: 2.6806 - val_accuracy: 0.0679\n",
            "Epoch 23/23\n",
            "46/46 [==============================] - 0s 7ms/step - loss: 2.6783 - accuracy: 0.1002 - val_loss: 2.6814 - val_accuracy: 0.0679\n"
          ]
        }
      ],
      "source": [
        "history=Model.fit(x_train,y_train,epochs=23,batch_size=512,validation_data=(x_val,y_val))"
      ]
    },
    {
      "cell_type": "code",
      "execution_count": 91,
      "metadata": {
        "id": "j_bm0B8gw7yy",
        "colab": {
          "base_uri": "https://localhost:8080/",
          "height": 283
        },
        "outputId": "71d30fc2-b59a-43a9-dd22-e88a99b358ea"
      },
      "outputs": [
        {
          "output_type": "execute_result",
          "data": {
            "text/plain": [
              "<matplotlib.legend.Legend at 0x7fbcef073410>"
            ]
          },
          "metadata": {},
          "execution_count": 91
        },
        {
          "output_type": "display_data",
          "data": {
            "text/plain": [
              "<Figure size 432x288 with 1 Axes>"
            ],
            "image/png": "[encoded data removed]"
          },
          "metadata": {
            "needs_background": "light"
          }
        }
      ],
      "source": [
        "loss = history.history['loss']\n",
        "val_loss= history.history['val_loss']\n",
        "acc = history.history['accuracy']\n",
        "val_acc = history.history['val_accuracy']\n",
        "epcohs= range(1,len(acc)+1)\n",
        "\n",
        "#Grafica de accuracy\n",
        "plt.plot(epcohs,acc, label='acc')\n",
        "plt.legend()\n"
      ]
    },
    {
      "cell_type": "code",
      "source": [
        "plt.plot(epcohs,loss,'--' ,label='Perdida')\n",
        "plt.plot(epcohs,val_loss,'-.',label='validacion de perdida')\n",
        "plt.legend()\n"
      ],
      "metadata": {
        "colab": {
          "base_uri": "https://localhost:8080/",
          "height": 283
        },
        "id": "7T7otz7wj_uo",
        "outputId": "028e42f8-216d-43ac-dd65-05039f9608f4"
      },
      "execution_count": 92,
      "outputs": [
        {
          "output_type": "execute_result",
          "data": {
            "text/plain": [
              "<matplotlib.legend.Legend at 0x7fbcef05b690>"
            ]
          },
          "metadata": {},
          "execution_count": 92
        },
        {
          "output_type": "display_data",
          "data": {
            "text/plain": [
              "<Figure size 432x288 with 1 Axes>"
            ],
            "image/png": "[encoded data removed]"
          },
          "metadata": {
            "needs_background": "light"
          }
        }
      ]
    },
    {
      "cell_type": "code",
      "execution_count": 93,
      "metadata": {
        "id": "2ow7RxVmZYGt",
        "colab": {
          "base_uri": "https://localhost:8080/"
        },
        "outputId": "a4bd2fb1-a8bb-42df-f925-6a6ebbcd3b25"
      },
      "outputs": [
        {
          "output_type": "stream",
          "name": "stdout",
          "text": [
            "409/409 [==============================] - 1s 1ms/step - loss: 2.6668 - accuracy: 0.0701\n"
          ]
        }
      ],
      "source": [
        "evaluate=Model.evaluate(x_test,y_test)"
      ]
    },
    {
      "cell_type": "code",
      "source": [
        "int(evaluate[-1]*1000)"
      ],
      "metadata": {
        "colab": {
          "base_uri": "https://localhost:8080/"
        },
        "id": "hxA4Z-tZlweu",
        "outputId": "a7c90e95-2629-460b-bb52-39c787346921"
      },
      "execution_count": 31,
      "outputs": [
        {
          "output_type": "execute_result",
          "data": {
            "text/plain": [
              "70"
            ]
          },
          "metadata": {},
          "execution_count": 31
        }
      ]
    },
    {
      "cell_type": "markdown",
      "metadata": {
        "id": "OPO-kexi1O30"
      },
      "source": [
        "**Glosario y modelo**\n",
        "***\n"
      ]
    },
    {
      "cell_type": "code",
      "source": [
        "indices={}\n",
        "for columna in Datos_necesarios.keys():\n",
        "  indices.setdefault(columna,list(dict(Datos_necesarios[columna].value_counts()).keys()))\n",
        "  print(list(dict(Datos_necesarios[columna].value_counts()).keys()))"
      ],
      "metadata": {
        "colab": {
          "base_uri": "https://localhost:8080/"
        },
        "id": "4NAw5f9sn2YO",
        "outputId": "46b3272d-5a47-4fd3-f3c8-174a67d2ec35"
      },
      "execution_count": 74,
      "outputs": [
        {
          "output_type": "stream",
          "name": "stdout",
          "text": [
            "['Antioquia', 'Valle del Cauca', 'Cundinamarca', 'Santander', 'Tolima', 'BOGOTÁ, D. C.', 'Boyaca', 'Cauca', 'Huila', 'Norte de Santander', 'Meta', 'Bolívar', 'Nariño', 'Córdoba', 'Atlántico', 'Risaralda', 'Cesar', 'Magdalena', 'Caldas', 'Sucre', 'Quindío', 'Casanare', 'Caquetá', 'La Guajira', 'Chocó', 'Arauca', 'Putumayo', 'Guaviare', 'Archipiélago de San Andrés, Providencia y Santa Catalina', 'Amazonas', 'Vichada', 'Guainía', 'Vaupés']\n",
            "['BOGOTÁ, D.C.', 'MEDELLÍN', 'CALI', 'IBAGUÉ', 'BUCARAMANGA', 'BARRANQUILLA', 'CÚCUTA', 'PASTO', 'CARTAGENA', 'VILLAVICENCIO', 'POPAYÁN', 'NEIVA', 'PEREIRA', 'SANTA MARTA', 'MONTERÍA', 'SOACHA', 'PALMIRA', 'BELLO', 'ARMENIA', 'VALLEDUPAR', 'BARRANCABERMEJA', 'MANIZALES', 'SINCELEJO', 'ITAGUI', 'FLORENCIA', 'TUNJA', 'SOLEDAD', 'TULUÁ', 'QUIBDO', 'FLORIDABLANCA', 'ENVIGADO', 'FUSAGASUGÁ', 'SOGAMOSO', 'RIONEGRO', 'GIRARDOT', 'DUITAMA', 'YOPAL', 'PITALITO', 'BUENAVENTURA', 'GUADALAJARA DE BUGA', 'SANTANDER DE QUILICHAO', 'OCANA', 'RIOHACHA', 'ESPINAL', 'CARTAGO', 'ARAUCA', 'PIEDECUESTA', 'ZIPAQUIRÁ', 'DOSQUEBRADAS', 'FACATATIVÁ', 'JAMUNDÍ', 'AGUACHICA', 'BARBOSA', 'GIRÓN', 'APARTADÓ', 'ACACÍAS', 'YUMBO', 'LA DORADA', 'CHIQUINQUIRÁ', 'GRANADA', 'MOSQUERA', 'MAGANGUÉ', 'COPACABANA', 'CHAPARRAL', 'CHÍA', 'TUMACO', 'SABANETA', 'CANDELARIA', 'LA ESTRELLA', 'TURBO', 'CALARCA', 'MELGAR', 'MAICAO', 'SANTA ROSA DE CABAL', 'SABANALARGA', 'IPIALES', 'LA UNIÓN', 'SAN ANDRÉS', 'SAN JOSÉ DEL GUAVIARE', 'CAUCASIA', 'SAN GIL', 'LA PLATA', 'MARIQUITA', 'PUERTO TEJADA', 'CALDAS', 'SAN MARTÍN', 'MOCOA', 'COROZAL', 'MADRID', 'PUERTO BERRÍO', 'LÍBANO', 'CERETÉ', 'VILLA DE SAN DIEGO DE UBATE', 'GARZÓN', 'LETICIA', 'SAHAGÚN', 'DAGUA', 'LORICA', 'PRADERA', 'ZARZAL', 'PAMPLONA', 'GUAMO', 'FLANDES', 'LOS PATIOS', 'SARAVENA', 'HONDA', 'TAME', 'CHINCHINÁ', 'GIRARDOTA', 'PAZ DE ARIPORO', 'SAN PEDRO', 'EL CERRITO', 'VILLANUEVA', 'PUERTO BOYACÁ', 'CIÉNAGA', 'TIERRALTA', 'EL TAMBO', 'PUERTO ASÍS', 'FUNDACIÓN', 'ROLDANILLO', 'VILLA DEL ROSARIO', 'VILLETA', 'CAJICÁ', 'GUADUAS', 'FUNZA', 'CAMPOALEGRE', 'PLANETA RICA', 'PUERTO GAITÁN', 'TIBÚ', 'RIOSUCIO', 'EL CARMEN DE VIBORAL', 'SEVILLA', 'SAN VICENTE DEL CAGUÁN', 'TURBACO', 'SANTIAGO DE TOLÚ', 'PUERTO RICO', 'AGUAZUL', 'TIMBÍO', 'MONTELÍBANO', 'ORTEGA', 'SAN AGUSTÍN', 'EL BANCO', 'SABANA DE TORRES', 'PIENDAMÓ', 'SAN LUIS', 'EL CARMEN DE BOLÍVAR', 'MONIQUIRÁ', 'CALOTO', 'FLORIDA', 'ANDES', 'BOLÍVAR', 'LA VIRGINIA', 'TOCANCIPÁ', 'RESTREPO', 'TARAZÁ', 'GUARNE', 'PUERTO LÓPEZ', 'PALESTINA', 'FRESNO', 'CAJAMARCA', 'PACHO', 'CHIGORODÓ', 'YARUMAL', 'BUGALAGRANDE', 'LA CEJA', 'RIVERA', 'AMAGÁ', 'GUACARÍ', 'ISNOS', 'AGUSTÍN CODAZZI', 'LA VEGA', 'PURIFICACIÓN', 'ROVIRA', 'SAN PABLO', 'SEGOVIA', 'MALAMBO', 'SAN MARCOS', 'MARINILLA', 'SOCORRO', 'ISTMINA', 'TAURAMENA', 'MONTENEGRO', 'QUIMBAYA', 'SILVANIA', 'CIMITARRA', 'SONSON', 'SIBATÉ', 'SAN VICENTE DE CHUCURÍ', 'MOMPÓS', 'FONSECA', 'PUERTO CARREÑO', 'EL BAGRE', 'ANSERMA', 'LA CALERA', 'FREDONIA', 'LA TEBAIDA', 'ARJONA', 'ARAUQUITA', 'INÍRIDA', 'VENECIA', 'MONTERREY', 'CIUDAD BOLÍVAR', 'SAMPUÉS', 'CONCORDIA', 'CIRCASIA', 'LA MESA', 'EL COLEGIO', 'CAICEDONIA', 'MIRANDA', 'SAN ONOFRE', 'SAN ALBERTO', 'BELÉN DE UMBRÍA', 'PAIPA', 'ARACATACA', 'BUENAVISTA', 'COYAIMA', 'CORINTO', 'ITUANGO', 'ARGELIA', 'COGUA', 'SALDAÑA', 'SAN VICENTE', 'RICAURTE', 'PATÍA', 'ALVARADO', 'VILLAGARZÓN', 'EL ZULIA', 'CAREPA', 'GINEBRA', 'ARMERO', 'SAN JUAN DEL CESAR', 'LÉRIDA', 'SANTAFÉ DE ANTIOQUIA', 'CHINÚ', 'PUERTO WILCHES', 'CALIMA', 'SANTA ROSA DE OSOS', 'NATAGAIMA', 'CAQUEZA', 'PUERTO TRIUNFO', 'NARIÑO', 'SAN JUAN NEPOMUCENO', 'GUASCA', 'SOPÓ', 'LA PAZ', 'AYAPEL', 'LEGUÍZAMO', 'ORITO', 'RETIRO', 'BARBACOAS', 'GUAMAL', 'ALCALÁ', 'PUERTO COLOMBIA', 'GACHANCIPÁ', 'ACEVEDO', 'VISTAHERMOSA', 'SANTA ROSA', 'COTA', 'MANÍ', 'CIÉNAGA DE ORO', 'NOBSA', 'ZONA BANANERA', 'CAJIBÍO', 'SAN LUIS DE SINCÉ', 'GALAPA', 'EL SANTUARIO', 'ABEJORRAL', 'MÁLAGA', 'TIBASOSA', 'SUÁREZ', 'AIPE', 'CHOCONTÁ', 'VILLA DE LEYVA', 'PLATO', 'PALERMO', 'CALAMAR', 'PLANADAS', 'DON MATÍAS', 'MITÚ', 'GUADALUPE', 'GARAGOA', 'TIMANÁ', 'TÚQUERRES', 'GIGANTE', 'VÉLEZ', 'CARTAGENA DEL CHAIRÁ', 'BETULIA', 'LEBRÍJA', 'PAILITAS', 'BOSCONIA', 'REMEDIOS', 'MERCADERES', 'YOTOCO', 'CÁCERES', 'CÓMBITA', 'CHIRIGUANÁ', 'BELÉN DE LOS ANDAQUIES', 'BALBOA', 'TENJO', 'NEMOCÓN', 'EL ROSAL', 'MESETAS', 'ZARAGOZA', 'PUERTO LIBERTADOR', 'SAN ROQUE', 'SAMANIEGO', 'FRONTINO', 'CUMARAL', 'PORE', 'CURUMANÍ', 'SANTANA', 'LA CUMBRE', 'VILLAMARÍA', 'NILO', 'JERICÓ', 'SAN JOSÉ DEL FRAGUA', 'ATACO', 'GUAPI', 'VENADILLO', 'NECOCLÍ', 'COVEÑAS', 'PUERTO SALGAR', 'URRAO', 'AMBALEMA', 'SAN CARLOS', 'SAN ANTONIO', 'SILVIA', 'MIRAFLORES', 'DIBULLA', 'SUPÍA', 'PUENTE NACIONAL', 'ANDALUCÍA', 'ALGECIRAS', 'CARMEN DE APICALÁ', 'SAMACÁ', 'SAN ANTERO', 'MORALES', 'TRUJILLO', 'LA MONTAÑITA', 'GUACHENE', 'PIVIJAY', 'VENTAQUEMADA', 'PAEZ', 'ABREGO', 'YAGUARÁ', 'TADÓ', 'CUNDAY', 'LA JAGUA DE IBIRICO', 'SALENTO', 'SOPETRÁN', 'ANSERMANUEVO', 'PUERTO NARE', 'ALBANIA', 'BUENOS AIRES', 'TESALIA', 'PUERTO LLERAS', 'SIMITÍ', 'RIOFRÍO', 'TAMINANGO', 'INZÁ', 'EL DONCELLO', 'LA MACARENA', 'CÓRDOBA', 'SAN FRANCISCO', 'GÓMEZ PLATA', 'RIOBLANCO', 'PITAL', 'QUINCHÍA', 'CHACHAGÜÍ', 'EL RETORNO', 'SAN PELAYO', 'TITIRIBÍ', 'CHINÁCOTA', 'PURACÉ', 'CACHIPAY', 'YOLOMBÓ', 'VILLA RICA', 'MARSELLA', 'SANTA ROSA DEL SUR', 'VALLE DEL GUAMUEZ', 'TOLÚ VIEJO', 'URIBIA', 'TRINIDAD', 'OIBA', 'EL TARRA', 'HATO COROZAL', 'LOS PALMITOS', 'CALDONO', 'TABIO', 'APÍA', 'SUCRE', 'SAN JERÓNIMO', 'CONDOTO', 'AMALFI', 'SUBACHOQUE', 'SANTA BARBARA', 'BAHÍA SOLANO', 'SUAITA', 'OVEJAS', 'LA PALMA', 'SAN RAFAEL', 'AGRADO', 'MARÍA LA BAJA', 'ARBELÁEZ', 'SANTA ROSA DE VITERBO', 'EL CARMEN DE CHUCURÍ', 'SUESCA', 'CUMARIBO', 'BARRANCAS', 'VALDIVIA', 'ANAPOIMA', 'SARDINATA', 'URIBE', 'BELÉN', 'FUENTE DE ORO', 'OBANDO', 'TOCAIMA', 'ICONONZO', 'FILANDIA', 'AGUADAS', 'FORTUL', 'SAN ANDRÉS SOTAVENTO', 'PEÑOL', 'OTANCHE', 'PIAMONTE', 'PUERTO CAICEDO', 'YONDÓ', 'GUATAPE', 'PANDI', 'ARBOLETES', 'BOYACÁ', 'MANAURE', 'CISNEROS', 'PELAYA', 'TOTORÓ', 'TÁMESIS', 'EL PEÑÓN', 'VILLAPINZÓN', 'EL COPEY', 'SAN PEDRO DE URABA', 'MUTATÁ', 'LANDÁZURI', 'EL PAUJIL', 'SALGAR', 'VIJES', 'CUMBAL', 'SOLANO', 'MAPIRIPÁN', 'MANZANARES', 'RÍO DE ORO', 'COCORNÁ', 'AQUITANIA', 'EL CHARCO', 'SAN PABLO DE BORBUR', 'MAHATES', 'SANTO DOMINGO', 'DISTRACCIÓN', 'SABANAGRANDE', 'PUERTO SANTANDER', 'SAN JACINTO', 'UBALÁ', 'ACANDÍ', 'SAN BERNARDO DEL VIENTO', 'NEIRA', 'MOMIL', 'ALTAMIRA', 'PESCA', 'SABOYÁ', 'YACOPÍ', 'SAN DIEGO', 'VALPARAÍSO', 'FALAN', 'MORELIA', 'EL PASO', 'SESQUILÉ', 'ALGARROBO', 'TERUEL', 'EL RETÉN', 'SIMACOTA', 'GUATEQUE', 'MORROA', 'LA VICTORIA', 'SAN JUAN DE RÍO SECO', 'CHOACHÍ', 'LENGUAZAQUE', 'CLEMENCIA', 'CHARALÁ', 'VILLAHERMOSA', 'VIOTÁ', 'CARMEN DE CARUPA', 'LA ESPERANZA', 'APULO', 'DABEIBA', 'PUERTO GUZMÁN', 'PUEBLORRICO', 'SAN ANDRÉS DE CUERQUÍA', 'MEDINA', 'LA SIERRA', 'CURITÍ', 'GACHETÁ', 'PUEBLO NUEVO', 'SOATÁ', 'RAMIRIQUÍ', 'CUBARRAL', 'ANORÍ', 'MOGOTES', 'LA PLAYA', 'SAN CAYETANO', 'CAPARRAPÍ', 'CUCUNUBÁ', 'ALMAGUER', 'SIMIJACA', 'CHIMICHAGUA', 'BECERRIL', 'OROCUÉ', 'PASCA', 'CONVENCIÓN', 'CANTAGALLO', 'TOLEDO', 'TEORAMA', 'TÁMARA', 'ALPUJARRA', 'SOTARA', 'OPORAPA', 'LURUACO', 'TARQUI', 'LA CRUZ', 'SANDONÁ', 'CASTILLA LA NUEVA', 'GUACHETÁ', 'LOS SANTOS', 'FLORIÁN', 'PUERTO ESCONDIDO', 'BOJACÁ', 'SAN JUAN DE BETULIA', 'PARATEBUENO', 'GALERAS', 'COTORRA', 'HOBO', 'SALADOBLANCO', 'VALLE DE SAN JUAN', 'TOCA', 'SOCHA', 'CURILLO', 'SAN JUAN DE ARAMA', 'SAN LUIS DE GACENO', 'BARAYA', 'SALAMINA', 'LA ARGENTINA', 'VALLE DE SAN JOSÉ', 'FOMEQUE', 'SANTA CATALINA', 'SIBUNDOY', 'PALOCABILDO', 'BARANOA', 'SIACHOQUE', 'SANTUARIO', 'LEJANÍAS', 'SANTA MARÍA', 'EBÉJICO', 'PUERTO PARRA', 'PALMITO', 'FÚQUENE', 'EL PLAYÓN', 'SANTA BÁRBARA', 'ROSAS', 'RONCESVALLES', 'EL CASTILLO', 'SOTAQUIRÁ', 'PUERTO NARIÑO', 'TURBANÁ', 'SUAZA', 'ARIGUANÍ', 'COELLO', 'PAUNA', 'MAJAGUAL', 'ENTRERRIOS', 'TORO', 'BARRANCA DE UPÍA', 'JUNÍN', 'PUEBLO RICO', 'HATONUEVO', 'TELLO', 'PROVIDENCIA', 'SAN CALIXTO', 'LA APARTADA', 'PINCHOTE', 'SUTATAUSA', 'MISTRATÓ', 'VITERBO', 'VEGACHÍ', 'MOÑITOS', 'MURILLO', 'TORIBIO', 'SAN ANTONIO DEL TEQUENDAMA', 'ANOLAIMA', 'NUNCHÍA', 'NECHÍ', 'AGUA DE DIOS', 'SAN CARLOS DE GUAROA', 'IQUIRA', 'PADILLA', 'YALÍ', 'SAMANÁ', 'TAUSA', 'CHITAGÁ', 'LIBORINA', 'TUTA', 'JUAN DE ACOSTA', 'CICUCO', 'HACARÍ', 'SASAIMA', 'SAN MIGUEL', 'HERVEO', 'CHÍQUIZA', 'CAMPAMENTO', 'TIQUISIO', 'PURÍSIMA', 'CABRERA', 'MACEO', 'SÁCHICA', 'BELALCÁZAR', 'ARATOCA', 'ALBÁN', 'EL CARMEN', 'VILLAVIEJA', 'BURITICÁ', 'SAN JUAN DE URABA', 'TIMBIQUÍ', 'GUACHUCAL', 'VERGARA', 'POLICARPA', 'SAN BENITO ABAD', 'TASCO', 'COLÓN', 'LA PINTADA', 'TIBANÁ', 'PÁCORA', 'TENA', 'EL CARMEN DE ATRATO', 'LA MERCED', 'PINILLOS', 'CHIPAQUE', 'SANTA ANA', 'GAMARRA', 'PAICOL', 'BRICEÑO', 'FIRAVITOBA', 'SANTO TOMÁS', 'PUERTO CONCORDIA', 'MUZO', 'LA PRIMAVERA', 'EL ÁGUILA', 'DOLORES', 'SANTIAGO', 'TURMEQUÉ', 'ZIPACÓN', 'JENESANO', 'PUEBLOVIEJO', 'CHINAVITA', 'JARDÍN', 'SAN SEBASTIÁN DE BUENAVISTA', 'EL ROBLE', 'BETANIA', 'UNE', 'VALENCIA', 'BARRANCO DE LOBA', 'GUÁTICA', 'CAÑASGORDAS', 'OLAYA', 'LA CELIA', 'TIBACUY', 'ANCUYÁ', 'ANGOSTURA', 'ANGELÓPOLIS', 'QUIPILE', 'LEIVA', 'TOPAIPÍ', 'SAN BERNARDO', 'GÉNOVA', 'SAN SEBASTIÁN', 'QUÍPAMA', 'PALMAR DE VARELA', 'VERSALLES', 'SAN JOSÉ DE PARE', 'CABUYARO', 'UNIÓN PANAMERICANA', 'GAMBITA', 'ATRATO', 'CAMPO DE LA CRUZ', 'UNGUÍA', 'BOCHALEMA', 'SAN JOSÉ DEL PALMAR', 'EL ROSARIO', 'SUTAMARCHÁN', 'GACHALA', 'SITIONUEVO', 'BELMIRA', 'TOGÜÍ', 'SOLITA', 'TARSO', 'SAN MIGUEL DE SEMA', 'LA GLORIA', 'NOCAIMA', 'PUERTO RONDÓN', 'GUAYABETAL', 'GIRALDO', 'UMBITA', 'TAMALAMEQUE', 'RISARALDA', 'VICTORIA', 'CONCEPCIÓN', 'BAJO BAUDÓ', 'PAZ DE RÍO', 'MACHETA', 'PUEBLO BELLO', 'DURANIA', 'ZAMBRANO', 'SUSACÓN', 'ACHÍ', 'PAJARITO', 'CHITARAQUE', 'UBAQUE', 'MANATÍ', 'GAMEZA', 'PENSILVANIA', 'TANGUA', 'BOAVITA', 'MONTEBELLO', 'CAPITANEJO', 'NÓVITA', 'CONTRATACIÓN', 'GÜEPSA', 'ZETAQUIRA', 'BUESACO', 'MALLAMA', 'ALDANA', 'CAROLINA', 'EL LITORAL DEL SAN JUAN', 'YACUANQUER', 'LÓPEZ', 'EL GUAMO', 'GUATAVITA', 'TUTAZÁ', 'LLORÓ', 'NORCASIA', 'SORACÁ', 'PRADO', 'QUETAME', 'SAN ESTANISLAO', 'SAN JOSÉ', 'CHAGUANÍ', 'SAN LUIS DE PALENQUE', 'TUCHIN', 'VIRACACHÁ', 'ALTO BAUDO', 'LABRANZAGRANDE', 'EL CAIRO', 'SAN LORENZO', 'TOTA', 'CARAMANTA', 'SANTA ISABEL', 'RAGONVALIA', 'MATANZA', 'SOCOTÁ', 'JERUSALÉN', 'MUTISCUA', 'ONZAGA', 'COROMORO', 'ARBOLEDAS', 'ELÍAS', 'URAMITA', 'SAN PEDRO DE CARTAGO', 'CHIBOLO', 'QUEBRADANEGRA', 'ANZOÁTEGUI', 'COLOMBIA', 'CERINZA', 'OLAYA HERRERA', 'TARAPACÁ', 'CUBARÁ', 'LA BELLEZA', 'ARCABUCO', 'EL DORADO', 'ÚTICA', 'SOPLAVIENTO', 'EL DOVIO', 'CUMBITARA', 'ANZA', 'EL TABLÓN DE GÓMEZ', 'REPELÓN', 'PAMPLONITA', 'ULLOA', 'SURATÁ', 'TÓPAGA', 'GUATAQUÍ', 'GONZÁLEZ', 'PIJAO', 'PEQUE', 'PIEDRAS', 'TUBARÁ', 'CARACOLÍ', 'LABATECA', 'CONFINES', 'HISPANIA', 'NUQUÍ', 'NUEVO COLÓN', 'COPER', 'SUTATENZA', 'PALMAS DEL SOCORRO', 'VIANÍ', 'TUNUNGUÁ', 'LOURDES', 'JAMBALÓ', 'CACHIRÁ', 'POTOSÍ', 'CAICEDO', 'PONEDERA', 'SUPATÁ', 'SAPUYES', 'ASTREA', 'RONDÓN', 'CUCUTILLA', 'EL MOLINO', 'TENERIFE', 'VILLARRICA', 'CHITA', 'NIMAIMA', 'GUAVATÁ', 'SANTA ROSALÍA', 'OICATÁ', 'MARQUETALIA', 'BARICHARA', 'CRAVO NORTE', 'SALAZAR', 'SAN JOSE DE URE', 'MONGUA', 'GUAYABAL DE SIQUIMA', 'VIGÍA DEL FUERTE', 'TONA', 'PUERRES', 'ARANZAZU', 'MANTA', 'CUCAITA', 'SANTACRUZ', 'SAN MARTÍN DE LOBA', 'SAN CRISTÓBAL', 'GACHANTIVÁ', 'MONGUÍ', 'LA PEÑA', 'CERRO SAN ANTONIO', 'BAGADÓ', 'GUTIÉRREZ', 'TINJACÁ', 'IMUÉS', 'SAN JOSÉ DE MIRANDA', 'CUÍTIVA', 'MARIPÍ', 'MARULANDA', 'PACHAVITA', 'CARMEN DEL DARIEN', 'CASABIANCA', 'CERRITO', 'RÁQUIRA', 'CONTADERO', 'ZAPATOCA', 'EL ESPINO', 'LOS CÓRDOBAS', 'MURINDÓ', 'SANTA BÁRBARA DE PINTO', 'TIPACOQUE', 'NÁTAGA', 'MARGARITA', 'MONTECRISTO', 'LA CAPILLA', 'BUCARASICA', 'PANQUEBA', 'ALMEIDA', 'MAGÜI', 'FLORESTA', 'HELICONIA', 'MILÁN', 'CHIPATÁ', 'CORRALES', 'BARRANCO MINAS', 'CALIFORNIA', 'SANTA SOFÍA', 'COLOSO', 'ARBOLEDA', 'EL COCUY', 'VILLA CARO', 'GAMA', 'PAYA', 'HATILLO DE LOBA', 'CHIMÁ', 'PÁRAMO', 'SAN FERNANDO', 'MOTAVITA', 'SATIVANORTE', 'CANALETE', 'ALEJANDRÍA', 'ROBERTO PAYÁN', 'GUACA', 'FOSCA', 'ILES', 'GRAMALOTE', 'SAN JACINTO DEL CAUCA', 'GUAPOTÁ', 'CARURU', 'MARMATO', 'CÉRTEGUI', 'MEDIO SAN JUAN', 'CAMPOHERMOSO', 'SÁCAMA', 'LA PEDRERA', 'SORA', 'CHIVATÁ', 'AGUADA', 'POLONUEVO', 'GUARANDA', 'CÁCOTA', 'LINARES', 'CONSACA', 'GUAYATÁ', 'FILADELFIA', 'GUALMATÁN', 'MOLAGAVITA', 'MEDIO BAUDÓ', 'PEDRAZA', 'CHAMEZA', 'BOJAYA', 'EL CALVARIO', 'PUPIALES', 'LA JAGUA DEL PILAR', 'REGIDOR', 'TALAIGUA NUEVO', 'BELTRÁN', 'JURADÓ', 'HERRÁN', 'SANTA HELENA DEL OPÓN', 'OCAMONTE', 'BETÉITIVA', 'RÍO VIEJO', 'HATO', 'JESÚS MARÍA', 'SAN MATEO', 'USIACURÍ', 'TIBIRITA', 'TENZA', 'LA FLORIDA', 'PÁEZ', 'EL CANTÓN DEL SAN PABLO', 'SIPÍ', 'MACANAL', 'SILOS', 'SABANAS DE SAN ANGEL', 'SAN ZENÓN', 'MEDIO ATRATO', 'SUSA', 'SAN JOSE DE LA MONTAÑA', 'CHIMA', 'URUMITA', 'SANTA LUCÍA', 'ARROYOHONDO', 'PIJIÑO DEL CARMEN', 'CARCASÍ', 'LA LLANADA', 'CHISCAS', 'CIÉNEGA', 'BUSBANZÁ', 'GUACAMAYAS', 'LA TOLA', 'LOS ANDES', 'IZA', 'ALTOS DEL ROSARIO', 'PULÍ', 'SAN BENITO', 'BELÉN DE BAJIRÁ', 'ENCINO', 'CUASPUD', 'FUNES', 'SATIVASUR', 'JORDÁN', 'OSPINA', 'SOMONDOCO', 'CHALÁN', 'PACOA', 'PAIME', 'ABRIAQUÍ', 'RÍO QUITO', 'EL ENCANTO', 'PISBA', 'SUAN', 'EL PIÑON', 'NUEVA GRANADA', 'ARENAL', 'GALÁN', 'GÜICÁN', 'SAN JOAQUÍN', 'ZAPAYÁN', 'GUAITARILLA', 'PALMAR', 'EL GUACAMAYO', 'CEPITÁ', 'LA UVITA', 'SAN JUANITO', 'MIRITI - PARANÁ', 'REMOLINO', 'CAIMITO', 'SAN FELIPE', 'YAVARATÉ', 'PUERTO ARICA', 'LA SALINA', 'COVARACHÍA', 'PAPUNAUA', 'TARAIRA', 'CHARTA', 'MACARAVITA', 'RÍO IRO', 'EL PEÑOL', 'SAN EDUARDO', 'NOROSI', 'NECHI', 'VILLAGÓMEZ', 'LA GUADALUPE', 'PIOJÓ', 'RECETOR', 'FRANCISCO PIZARRO', 'ENCISO']\n",
            "['Ley 906', 'Ley 1098', 'Jurisdicción Menores', 'LEY 600']\n",
            "['INASISTENCIA ALIMENTARIA ART. 233 C.P.', 'LESIONES ART. 111 C.P.', 'VIOLENCIA INTRAFAMILIAR ART. 229 C.P.', 'HOMICIDIO ART. 103 C.P.', 'LESIONES CULPOSAS ART. 120 C.P. INCISO 1', 'AMENAZAS ART. 347 C.P.', 'HURTO. ART. 239 C.P.', 'HURTO CALIFICADO ART. 240 C.P. MENOR CUANTIA', 'HURTO ART. 239 C.P. MENOR CUANTIA', 'ACTOS SEXUALES CON MENOR DE CATORCE AÑOS. ART. 209 C.P.', 'DAÑO EN BIEN AJENO. ART. 265 C.P.', 'ACCESO CARNAL ABUSIVO CON MENOR DE CATORCE AÑOS. ART. 208 C.P.', 'ESTAFA. ART. 246 C.P. MENOR CUANTIA', 'LESIONES PERSONALES CON INCAPACIDAD MENOR 60 DIAS', 'HOMICIDIO CULPOSO ART. 109 C.P.', 'HURTO CALIFICADO. ART. 240 C.P.', 'ABUSO DE CONFIANZA. ART. 249 C.P.', 'DESPLAZAMIENTO FORZADO ART. 180  C.P.', 'INJURIA. ART. 220 C.P.', 'CALUMNIA. ART. 221 C.P.', 'ESTAFA. ART. 246 C.P.', 'LESIONES PERSONALES SIN SECUELAS', 'FALSEDAD PERSONAL. ART. 296 C.P.', 'VIOLENCIA INTRAFAMILIAR ART. 229 C.P.AGRAVADO POR TRATARSE DE MENOR, MUJER, ANCIANO O DISCAPACITADO', 'HURTO AGRAVADO ART. 239 C.P. MENOR CUANTIA', 'FABRICACION, TRAFICO Y PORTE DE ARMAS DE FUEGO O MUNICIONES ART. 365 C.P.', 'LESIONES CULPOSAS ART. 120 C.P. MEDIO MOTORIZADO INCISO 2', 'ACCESO CARNAL VIOLENTO. ART. 205 C.P.', 'CONSTREÑIMIENTO ILEGAL ART. 182 C.P.', 'EJERCICIO ARBITRARIO DE LA CUSTODIA DE HIJO MENOR DE EDAD ART. 230A C.P. AD. LEY 890/2004 ART.7', 'VIOLENCIA CONTRA SERVIDOR PUBLICO ART. 429 C.P.', 'FALSEDAD EN DOCUMENTO PRIVADO. ART. 289 C.P.', 'INJURIA POR VIAS DE HECHO ART. 226 C.P.', 'ABUSO DE AUTORIDAD POR ACTO ARBITRARIO O INJUSTO ART. 416', 'ACTO SEXUAL VIOLENTO. ART. 206 C.P.', 'DESAPARICION FORZADA ART. 165 C.P.', 'HURTO POR MEDIOS INFORMATICOS Y SEMEJANTES ART. 269I LEY 1273 DE 2009', 'HURTO CALIFICADO ART. 240 C.P.  AGRAVADO POR LA DESTREZA ART. 241 C.P. N.10', 'EXTORSION ART. 244 C.P. MODIF.', 'EXTORSION. ART. 244 C.P.', 'FRAUDE PROCESAL ART. 453 C.P.', 'VIOLACION DE HABITACION AJENA. ART. 189 C.P.', 'DE LA INJURIA Y LA CALUMNIA', 'FRAUDE A RESOLUCION JUDICIAL ART. 454 C.P.', 'HURTO CALIFICADO ART. 240 C.P.  AGRAVADO CUANDO LO HURTADO SON MEDIOS MOTORIZADOS O LO QUE ESTOS TRANSPORTEN  ART. 241 C', 'ACOSO SEXUAL ART. 210A', 'HURTO CALIFICADO MENOR CUANTIA ART. 240 C.P.  AGRAVADO POR LA DESTREZA ART. 241 C.P. N.10', 'FALSEDAD MATERIAL EN DOCUMENTO PUBLICO. ART. 287 C.P.', 'ACTO SEXUAL CON MENOR DE CATORCE AÑOS ART. 209 C.P. AGRAVADO ART. 211 N.4. SE REALIZARE SOBRE PERSONA MENOR DE 14 AÑOS', 'HURTO ART. 239 C.P. DE AUTOMOTOR MENOR CUANTIA', 'SECUESTRO SIMPLE ART. 168 C.P.', 'HURTO MENOR CUANTIA. ART. 239 C.P. AGRAVADO POR LA DESTREZA ART. 241 C.P. N.10', 'EXTORSION. ART. 244 C.P MENOR CUANTIA', 'FALSEDAD EN DOCUMENTOS', 'DAÑO EN BIEN AJENO. ART. 265 C.P. MENOR CUANTIA', 'ACCESO ABUSIVO A UN SISTEMA INFORMATICO ART 269A LEY 1273 DE 2009', 'ACCESO CARNAL O ACTO SEXUAL ABUSIVOS CON INCAPAZ DE RESISTIR. ART. 210 C.P.', 'LESIONES PERSONALES AGRAVADAS POR CIRCUNSTANCIAS ART 104 C.P. ART. 119 C.P.', 'INVASION DE TIERRAS O EDIFICACIONES. ART. 263 C.P.', 'DE LAS LESIONES PERSONALES', 'HURTO. ART. 239 C.P. AGRAVADO POR LA CONFIANZA ART. 241 C.P. N.2', 'PERTURBACION DE LA POSESION SOBRE INMUEBLE. ART. 264 C.P.', 'HURTO. ART. 239 C.P. AGRAVADO CUANDO LO HURTADO SON MEDIOS MOTORIZADOS O LO QUE ESTOS TRANSPORTEN  ART. 241 C.P. N.6', 'RECEPTACION ART. 447 C.P.', 'VIOLACION DE DATOS PERSONALES ART 269F LEY 1273 DE 2009', 'HOMICIDIO ART. 103 C.P. AGRAVADO', 'HURTO CALIFICADO ART. 240 C.P.  AGRAVADO POR ESTABLECIMIENTO PUBLICO ART. 241 C.P. N.11', 'LESIONES CULPOSAS ART. 120 C.P. AGRAVADO POR FUGA ART. 110 N.2 C.P.', 'CONCIERTO PARA DELINQUIR ART. 340 C.P.', 'ACCESO CARNAL ABUSIVO CON MENOR DE CATORCE AÑOS ART.208 C.P. AGRAVADO ART. 211 N.4. SE REALIZARE SOBRE PERSONA MENOR DE 14 AÑOS', 'FALSEDAD IDEOLOGICA EN DOCUMENTO PUBLICO. ART. 286 C.P.', 'AMENAZAS CONTRA DEFENSORES DE DERECHOS HUMANOS Y SERVIDORES PUBLICOS ART. 188E', 'HURTO. ART. 239 C.P. AGRAVADO POR LA DESTREZA ART. 241 C.P. N.10', 'PORNOGRAFIA CON MENORES ART. 218 C.P.', 'TRAFICO FABRICACION O PORTE DE ESTUPEFACIENTES ART. 376 C..', 'LESIONES PERSONALES CON DEFORMIDAD FISICA PERMANENTE ART. 113 C.P.INCISO 2', 'HURTO MENOR CUANTIA. ART. 239 C.P. AGRAVADO POR LA CONFIANZA ART. 241 C.P. N.2', 'INCENDIO ART. 350 C.P.', 'HURTO MENOR CUANTIA. ART. 239 C.P. AGRAVADO POR ESTABLECIMIENTO PUBLICO ART. 241 C.P. N.11', 'FABRICACION, TRAFICO Y PORTE DE ARMAS DE FUEGO O MUNICIONES POR PORTE ART. 365 C.P.', 'HURTO CALIFICADO DE AUTOMOTOR MENOR CUANTIA  ART. 240 C.P.  AGRAVADO POR LA DESTREZA ART. 241 C.P. N.10', 'TERRORISMO ART. 343 C.P.', 'HURTO ART. 239 C.P. MAYOR CUANTIA', 'HURTO CALIFICADO ART. 240 C.P. MAYOR CUANTIA', 'DELITOS CONTRA LA VIDA Y LA INTEGRIDAD PERSONAL', 'DESTRUCCION, SUPRESION U OCULTAMIENTO DE DOCUMENTO PUBLICO. ART. 292 C.P.', 'HURTO CALIFICADO MENOR CUANTIA ART. 240 C.P.  AGRAVADO POR ESTABLECIMIENTO PUBLICO ART. 241 C.P. N.11', 'RECLUTAMIENTO ILICITO ART. 162 C.P.', 'ESTAFA. ART. 246 C.P. MAYOR CUANTIA', 'LESIONES CULPOSAS ART. 120 C.P.AGRAVADO POR EMBRIAGUEZ ART. 110 N. 1 C.P.', 'PREVARICATO POR ACCION ART. 413 C.P.', 'USO DE MENORES DE EDAD LA COMISION DE DELITO ART 188D LEY 1453 DE 2011', 'LESIONES PERSONALES CON DEFORMIDAD FISICA AFECTA ROSTRO ART. 113 C.P.', 'TRANSFERENCIA NO CONSENTIDA DE ACTIVOS VALIENDOSE DE ALGUNA MANIPULACION INFORMATICA O ARTIFICIO SEMEJANTE ART. 269J LEY 1273 DE 2009', 'FALSO TESTIMONIO ART. 442 C.P.', 'ABUSO DE CONFIANZA CALIFICADO. ART. 250 C.P.', 'DE LA VIOLENCIA INTRAFAMILIAR', 'ACTO SEXUAL VIOLENTO. ART.206 C.P. AGRAVADO ART. 211 N.4. SE REALIZARE SOBRE PERSONA MENOR DE 14 AÑOS', 'DE LOS DELITOS CONTRA LA ASISTENCIA ALIMENTARIA', 'HURTO CALIFICADO ART. 240 C.P. AGRAVADO POR LA CONFIANZA ART. 241 C.P. N.2', 'HURTO. ART. 239 C.P. AGRAVADO POR ESTABLECIMIENTO PUBLICO ART. 241 C.P. N.11', 'ACCESO CARNAL O ACTO SEXUAL EN PERSONA PUESTA EN INCAPACIDAD DE RESISTIR. ART. 207 C.P.', 'FALSA DENUNCIA ART. 435 C.P.', 'LESIONES PERSONALES CULPOSAS ART 120 C.P. CON INCAPACIDAD MENOR 30 DIAS ART.112 C.P. INCISO 1', 'ABUSO DE CONFIANZA CALIFICADO. ART. 250 C.P.  MENOR CUANTIA', 'SECUESTRO EXTORSIVO ART. 169 C.P.', 'AMENAZAS A TESTIGOS ART. 454A C.P. AD. LEY 890 DE 2004 ART.13', 'HURTO CALIFICADO ART. 240 C.P.  AGRAVADO POR LUGAR DESPOBLADO ART. 241 C.P. N.9', 'FALSEDAD MARCARIA. ART. 285 C.P. DE AUTOMOTOR', 'ACTO SEXUAL CON MENOR DE CATORCE AÑOS ART. 209 C.P. AGRAVADO ART. 211 N.5. SE REALIZARE SOBRE PARIENTES,  CONYUGE, COMPAÑERA O COMPAÑERO PERMANENTES, O PERSONA INTEGRADA A LA UNIDAD DOMESTICA O APROVECHANDO CONFIANZA', 'EMISION Y TRANSFERENCIA ILEGAL DE CHEQUE. ART. 248 C.P.', 'PREVARICATO POR OMISION ART. 414 C.P.', 'LESIONES PERSONALES CON DEFORMIDAD FISICA TRANSITORIA ART 113 CP INCISO 1', 'ESTAFA. ART. 246 C.P. AGRAVADA CUANDO LA CONDUCTA ESTE RELACIONADA CON CONTRATOS DE SEGUROS O CON TRANSACCIONES SOBRE VEHICULOS AUTOMOTORES Art. 247 numeral 4 Adicionado por la Ley 1142 de 2007', 'ACCESO CARNAL ABUSIVO CON MENOR DE CATORCE AÑOS ART.208 C.P. AGRAVADO ART. 211 N.6 . SE PRODUJERE EMBARAZO', 'HOMICIDIO ART. 103 C.P. AGRAVADO  POR VICTIMA EN SITUACION DE INFERIORIDAD ART. 104 N. 7 C.P.', 'ABUSO DE CONDICIONES DE INFERIORIDAD. ART. 251 C.P.', 'APROVECHAMIENTO DE ERROR AJENO O CASO FORTUITO. ART. 252 C.P.', 'ACCESO CARNAL VIOLENTO. ART. 205 C.P. AGRAVADO ART. 211 N.4. SE REALIZARE SOBRE PERSONA MENOR DE 14 AÑOS', 'CONCUSION ART. 404 C.P.', 'LESIONES PERSONALES CON INCAPACIDAD MAYOR 30 DIAS MENOR 90 DIAS ART. 112 C.P. INCISO 2', 'DESTRUCCION, SUPRESION Y OCULTAMIENTO DE DOCUMENTO PRIVADO. ART. 293 C.P.', 'ABANDONO ART 128 C.P. SEGUIDO DE LESIONES PERSONALES ART 130', 'INDUCCION A LA PROSTITUCION ART. 213 C.P.', 'ESTAFA. ART. 246 C.P.  MENOR CUANTIA AGRAVADA CUANDO LA ESTAFA SE REALICE POR INDUCCION A ERROR ART. 247 C.P. N.2', 'ABANDONO ART. 127 C.P.', 'FEMINICIDIO ART. 104A C.P.', 'FABRICACION, TRAFICO Y PORTE DE ARMAS DE USO PRIVATIVO DE LAS FUERZAS ARMADAS ART. 366 C.P.', 'EXTORSION MENOR CUANTIA ART. 244 C.P. AGRAVADA ART. 245 N.3', 'USURPACION DE TIERRAS. ART. 261 C.P.', 'FALSEDAD MATERIAL EN DOCUMENTO PUBLICO. ART. 287 C.P. AGRAVADA POR EL USO', 'SUPLANTACION DE SITIOS WEB PARA CAPTURAR DATOS PERSONALES ART 269G LEY 1273 DE 2009', 'DEMANDA DE EXPLOTACIÓN SEXUAL COMERCIAL CON MENOR DE 18 AÑOS Art 217A', 'USURA ART. 305 C.P. INCISO 1 A CAMBIO DE PRESTAMO DE DINERO O POR CONCEPTO DE VENTA DE BIENES O SERVICIOS A PLAZO', 'ABIGEATO ART. 243 C.P.', 'USO DE DOCUMENTO FALSO. ART. 291 C.P.', 'MALTRATO ANIMAL ART. 339A C.P.', 'HURTO CALIFICADO MENOR CUANTIA ART. 240 C.P.  AGRAVADO POR LUGAR DESPOBLADO ART. 241 C.P. N.9', 'LESIONES PERSONALES ART 120 C.P. CON INCAPACIDAD MENOR 30 DIAS ART.112 C.P. INCISO 1', 'CONCIERTO PARA DELINQUIR AGRAVADO POR DARSE PARA HOMICIDIO ART. 340 C.P. INC.2', 'INJURIA INDIRECTA ART. 222 CP.P', 'HURTO ART. 239 C.P. AUTOMOTOR MAYOR CUANTIA', 'ACCESO CARNAL VIOLENTO. ART. 205 C.P. AGRAVADO ART. 211 N.5. SE REALIZARE SOBRE PARIENTES ,  CONYUGE , COMPAÑERA O COMPAÑERO PERMANENTES, O PERSONA INTEGRADA A LA UNIDAD DOMESTICA', 'ACTO SEXUAL CON MENOR DE CATORCE AÑOS ART. 209 C.P. AGRAVADO ART. 211 N.2.RESPONSABLE CARACTER, POSICION O CARGO QUE LE DE PARTICULAR AUTORIDAD SOBRE LA VICTIMA O LA IMPULSE A DEPOSITAR EN EL SU CONFIANZA', 'FALSEDAD MARCARIA. ART. 285 C.P. INCISO 1', 'DELITOS CONTRA LA LIBERTAD, INTEGRIDAD Y FORMACION SEXUALES', 'DEFRAUDACION DE FLUIDOS. ART. 256 C.P.', 'HURTO CALIFICADO MENOR CUANTIA ART. 240 C.P. AGRAVADO POR LA CONFIANZA ART. 241 C.P. N.2', 'CONTRATO SIN CUMPLIMIENTO DE REQUISITOS LEGALES ART. 410 C.P.', 'PECULADO POR APROPIACION ART. 397 C.P.', 'LESIONES ART. 111 C.P.AGRAVADO POR TERRORISMO ART. 104 N. 8 C.P.', 'HOMICIDIO ART. 103 C.P. AGRAVADO POR FINES TERRORISTAS ART. 104 N.8 C.P.', 'SUMINISTRO A MENOR ART. 381 C.P.', 'FALSA DENUNCIA CONTRA PERSONA DETERMINADA ART. 436 C.P.', 'DISPARO DE ARMA DE FUEGO ART. 356A CP LEY 1453 DE 2011', 'CAPTACION MASIVA Y HABITUAL DE DINEROS ART. 316 C.P.', 'DAÑO EN BIEN AJENO. ART. 265 C.P. AGRAVADO INCISO 3° ART. 266 EN DESPOBLADO o LUGAR SOLITARIO', 'LESIONES ART. 111 C.P. AGRAVADO  EN SERVIDOR PUBLICO PERIODISTA ART. 104 N.10 C.P.', 'HURTO CALIFICADO MAYOR CUANTIA ART. 240 C.P.  AGRAVADO POR LA DESTREZA ART. 241 C.P. N.10', 'HOMICIDIO ART. 103 C.P. AGRAVADO  EN SERVIDOR PUBLICO PERIODISTA ART. 104 N.10 C.P.', 'TRAFICO DE MONEDA FALSIFICADA. ART. 274 C.P.', 'CONCIERTO PARA DELINQUIR AGRAVADO POR DARSE PARA EXTORSION ART. 340 C.P. INC.2', 'DE LA DESAPARICION FORZADA', 'CONCIERTO PARA DELINQUIR AGRAVADO POR DARSE PARA GRUPOS AL MARGEN DE LA LEY ART. 340 C.P. INC.2', 'ABORTO ART. 122 C.P.', 'OMISION DEL AGENTE RETENEDOR O RECAUDADOR ART. 402 C.P.', 'ACTOS DE RACISMO O DISCRIMINACIÓNART. 134 A', 'EXTORSION MENOR CUANTIA ART. 244 C.P. AGRAVADA ART. 245 N.1', 'INFIDELIDAD A LOS DEBERES PROFESIONALES ART. 445 C.P.', 'ABUSO DE CONDICIONES DE INFERIORIDAD. ART. 251 C.P. MENOR CUANTIA', 'CONSTREÑIMIENTO ILEGAL ART. 182 C.P. AGRAVADO', 'ESTAFA. ART. 246 C.P.  MENOR CUANTIA AGRAVADA POR RELACION CON VIVIENDA DE INTERES SOCIAL. ART. 247 C.P. N.1', 'LESIONES PERSONALES CULPOSAS ART 120 C.P. CON INCAPACIDAD MAYOR 30 DIAS MENOR 90 DIAS ART. 112 C.P.INCISO 2', 'DEPORTACION, EXPULSION, TRASLADO O DESPLAZAMIENTO FORZADO DE POBLACION CIVIL ART. 159 C.P.', 'ACCESO CARNAL ABUSIVO CON MENOR DE CATORCE AÑOS ART.208 C.P. AGRAVADO ART. 211 N.2.RESPONSABLE CARACTER, POSICION O CARGO QUE LE DE PARTICULAR AUTORIDAD SOBRE LA VICTIMA O LA IMPULSE A DEPOSITAR EN EL SU CONFIANZA', 'ESTAFA. ART. 246 C.P. MAYOR CUANTIA AGRAVADA CUANDO LA CONDUCTA ESTE RELACIONADA CON CONTRATOS DE SEGUROS O CON TRANSACCIONES SOBRE VEHICULOS AUTOMOTORES Art. 247 numeral 4 Adicionado por la Ley 1142 de 2007', 'OBTENCION DE DOCUMENTO PUBLICO FALSO ART. 288 C.P.', 'EXTORSION. ART. 244 C.P.  MAYOR CUANTIA', 'REBELION ART. 467 C.P.', 'ALZAMIENTO DE BIENES. ART. 253 C.P.', 'HURTO CALIFICADO DE AUTOMOTOR MENOR CUANTIA  ART. 240 C.P.  AGRAVADO POR LUGAR DESPOBLADO ART. 241 C.P. N.9', 'ACCESO CARNAL O ACTO SEXUAL ABUSIVOS CON INCAPAZ DE RESISTIR ART. 210 C.P. AGRAVADO ART. 211 N.4. SE REALIZARE SOBRE PERSONA MENOR DE 14 AÑOS', 'UTILIZAC.O FACILITAC.MEDIOS DE COMUNICAC.PARA OFRECER ACTIV. SEXUALES CON MENORES DE 18 AÑOS Adic. Ley 679de 2001 Modificado Art. 4 Ley 1329 de 2009', 'HURTO CALIFICADO MAYOR CUANTIA ART. 240 C.P.  AGRAVADO POR ESTABLECIMIENTO PUBLICO ART. 241 C.P. N.11', 'HURTO CALIFICADO ART. 240 C.P.  AGRAVADO POR REALIZARSE EN PREDIO RURAL Y OBJETOS DE LABRANZA ART. 241 C.P. N.8', 'LESIONES CULPOSAS ART. 120 C.P. CON PERTURBACION FUNCIONAL PERMANENTE ART.114 INCISO 2', 'LESIONES CON PERTURBACION FUNCIONAL PERMANENTE ART.114 INCISO 2', 'ADMINISTRACION DESLEAL ART. 250B C.P.', 'ESTAFA. ART. 246 C.P. AGRAVADA POR RELACION CON VIVIENDA DE INTERES SOCIAL. ART. 247 C.P. N.1', 'ASONADA ART. 469 C.P.', 'ACTO SEXUAL CON MENOR DE CATORCE AÑOS ART. 209 C.P. AGRAVADO ART. 211 N.1. CON EL CONCURSO DE OTRA U OTRAS PERSONAS', 'ESTAFA. ART. 246 C.P. AGRAVADA CUANDO LA ESTAFA SE REALICE POR INDUCCION A ERROR ART. 247 C.P. N.2', 'CONCIERTO PARA DELINQUIR AGRAVADO POR DARSE PARA NARCOTRAFICO ART. 340 C.P. INC.2', 'CONSTREÑIMIENTO PARA DELINQUIR ART. 184 C.P.', 'RECEPTACION ART. 447 C.P.  DE AUTOMOTOR', 'LESIONES PERSONALES CULPOSAS ART. 120 C.P CON DEFORMIDAD FISICA PERMANENTE ART. 113 C.P.INCISO 2', 'HURTO CALIFICADO DE AUTOMOTOR MAYOR CUANTIA  ART. 240 C.P.  AGRAVADO POR LA DESTREZA ART. 241 C.P. N.10', 'DE LOS ACTOS SEXUALES ABUSIVOS', 'FUGA DE PRESOS ART. 448 C.P.', 'HURTO MAYOR CUANTIA. ART. 239 C.P. AGRAVADO POR LA DESTREZA ART. 241 C.P. N.10', 'CALUMNIA INDIRECTA ART. 222 C.P.', 'ACTO SEXUAL VIOLENTO. ART.206 C.P. AGRAVADO ART. 211 N.5. SE REALIZARE SOBRE PARIENTES,  CONYUGE, COMPAÑERA O COMPAÑERO PERMANENTES, O PERSONA INTEGRADA A LA UNIDAD DOMESTICA O APROVECHANDO LA CONFIANZA', 'LESIONES CULPOSAS ART. 120 C.P. CON PERTURBACION FUNCIONAL TRANSITORIA ART.114 INCISO 1', 'DISPARO DE ARMA DE FUEGO CONTRA VEHICULO ART. 356 C.P.', 'DAÑO EN LOS RECURSOS NATURALES ART. 331 C.P.', 'LESIONES CULPOSAS ART. 120 C.P.AGRAVADO POR NO LICENCIA O LICENCIA SUSPENDIDA ART. 110 N. 3 C.P.', 'LESIONES CULPOSAS ART. 120 C.P. CON PERDIDA ANATOMICA O FUNCIONAL DE UN ORGANO O MIEMBRO ART.116', 'HOMICIDIO CULPOSO ART. 109 C.P. AGRAVADO POR FUGA ART. 110 N.2 C.P.', 'ACCESO CARNAL VIOLENTO. ART. 205 C.P. AGRAVADO ART. 211 N.6 . SE PRODUJERE EMBARAZO', 'HURTO. MAYOR CUANTIA ART. 239 C.P. ATENUADO ENTRE CONDUEÑOS ART. 242 C.P. INCISO 2', 'HOMICIDIO CULPOSO ART. 109 C.P. INCISO 2DO. CUANDO LA CONDUCTA CULPOSA SEA COMETIDA UTILIZANDO MEDIOS MOTORIZADOS O ARMA DE FUEGO', 'USO DE SOFTWARE MALICIOSO ART 269E LEY 1273 DE 2009', 'ABUSO DE FUNCION PUBLICA ART. 428 C.P.', 'VIOLACION DE MEDIDAS SANITARIAS ART. 368 C.P.', 'HURTO MAYOR CUANTIA. ART. 239 C.P. AGRAVADO POR ESTABLECIMIENTO PUBLICO ART. 241 C.P. N.11', 'VIOLACION DE LOS DERECHOS DE REUNION Y ASOCIACION. ART. 200 C.P.', 'HOMICIDIO CULPOSO ART. 109 C.P.AGRAVADO POR EMBRIAGUEZ ART. 110 N. 1 C.P.', 'VIOLACION DE HABITACION AJENA ART. 189 C.P. POR VIOLACION EN LUGAR DE TRABAJO ART. 191 C.P.', 'HURTO CALIFICADO AUTOMOTOR ART. 240 C.P. MAYOR CUANTIA', 'EXPLOTACION ILICITA DE YACIMIENTO MINERO Y OTROS MATERIALES ART. 338 C.P.', 'LESIONES CON PERTURBACION PSIQUICA TRANSITORIA ART.115', 'UTILIZAC.O FACILITAC.MEDIOS DE COMUNICAC.PARA OFRECER ACTIV. SEXUALES CON MENORES DE 18 AÑOS Art. 219 A', 'TORTURA ART. 178 C.P.', 'ACTOS DE TERRORISMO ART. 144 C.P.', 'HURTO CALIFICADO DE AUTOMOTOR MENOR CUANTIA  ART. 240 C.P. AGRAVADO POR LA CONFIANZA ART. 241 C.P. N.2', 'DEL HOMICIDIO', 'ACCESO CARNAL ABUSIVO CON MENOR DE CATORCE AÑOS ART.208 C.P. AGRAVADO ART. 211 N.1. CON EL CONCURSO DE OTRA U OTRAS PERSONAS', 'HURTO CALIFICADO ART. 240 C.P.  AGRAVADO CUANDO LO HURTADO ES EQUIPAJE ART. 241 C.P. N.5', 'ILICITO APROVECHAMIENTO DE LOS RECURSOS NATURALES RENOVABLES ART. 328 C.P.', 'EJERCICIO ILICITO DE ACTIVIDAD MONOPOLISTICA DE ARBITRIO RENTISTICO ART. 312 C.P.', 'URBANIZACION ILEGAL ART. 318 C.P.', 'ACCESO CARNAL VIOLENTO. ART. 205 C.P. AGRAVADO ART. 211 N.1. CON EL CONCURSO DE OTRA U OTRAS PERSONAS', 'TRATA DE PERSONAS ART. 188A C.P.', 'MALTRATO MEDIANTE RESTRICCION A AL LIBERTAD FISICA. ART. 230 C.P.', 'FABRICACION, TRAFICO Y PORTE DE ARMAS DE FUEGO O MUNICIONES POR TRAFICO ART. 365 C.P.', 'ACTO SEXUAL CON MENOR DE CATORCE AÑOS ART. 209 C.P. AGRAVADO ART. 211 N.8 . CON INTENCIÓN DE GENERAR CONTROL SOCIAL, TEMOR U OBEDIENCIA EN LA COMUNIDAD', 'COHECHO POR DAR U OFRECER ART. 407 C.P.', 'HURTO CALIFICADO MENOR CUANTIA ART. 240 C.P.  AGRAVADO POR REALIZARSE EN PREDIO RURAL Y OBJETOS DE LABRANZA ART. 241 C.P. N.8', 'DEMANDA DE EXPLOT.SEX. COMERC. MENOR DE 18 AÑOS  Art 217A AGRAVADO N.4 VICTIMA MENOR DE 14 AÑOS', 'ACCESO CARNAL VIOLENTO. ART. 205 C.P. AGRAVADO ART. 211 N.7 . SE COMETIERE SOBRE PERSONAS EN SITUACIÓN DE VULNERABILIDAD', 'TRAFICO DE MIGRANTES ART. 188 C.P. MOD. LEY 747/2002 ART.1', 'ACTO SEXUAL CON MENOR DE CATORCE AÑOS ART. 209 C.P. AGRAVADO ART. 211 N.7 . SE COMETIERE SOBRE PERSONAS EN SITUACIÓN DE VULNERABILIDAD', 'HURTO MAYOR CUANTIA. ART. 239 C.P. AGRAVADO POR LA CONFIANZA ART. 241 C.P. N.2', 'UTILIZACION DE MEDIOS Y METODOS DE GUERRA ILICITOS ART. 142 C.P.', 'FAVORECIMIENTO ART. 446 C.P.', 'LESIONES PERSONALES CULPOSAS ART. 120 C.P. CON DEFORMIDAD FISICA TRANSITORIA ART. 113 C.P.INCISO 1', 'PROXENETISMO CON MENOR DE EDAD ART. 213A C.P.', 'CONTAMINACION AMBIENTAL ART. 332 C.P.', 'ACCESO CARNAL O ACTO SEXUAL EN PERSONA PUESTA EN INCAPACIDAD DE RESISTIR ART.207 C.P. AGRAVADO ART. 211 N.8 . CON INTENCIÓN DE GENERAR CONTROL SOCIAL, TEMOR U OBEDIENCIA EN LA COMUNIDAD', 'INDUCCION A LA PROSTITUCION ART.213 C.P. AGRAVADO ART. 216 N. 1.  CUANDO SE REALIZARE EN PERSONA MENOR DE CATORCE (14) ANOS', 'HOMICIDIO EN PERSONA PROTEGIDA ART. 135 C.P.', 'HURTO CALIFICADO ART. 240 C.P.  AGRAVADO CUANDO LO HURTADO ES OBJETO EXPUESTO A LA CONFIANZA PUBLICA ART. 241 C.P. N.7', 'ABUSO DE AUTORIDAD POR OMISION DE DENUNCIA ART. 417 C.P. INCISO 1', 'HURTO ART. 239 C.P.  AUTOMOTOR MENOR CUANTIA', 'HURTO. ART. 239 C.P. AGRAVADO POR LUGAR DESPOBLADO ART. 241 C.P. N.9', 'LESIONES CON PERDIDA ANATOMICA O FUNCIONAL DE UN ORGANO O MIEMBRO ART.116', 'DAÑO EN BIEN AJENO. ART. 265 C.P. AGRAVADO INCISO 4° ART. 266 SOBRE OBJETOS DE INTERES CIENTIFICO, HISTORICO, ...DE USO PUBLICO O QUE CONFORMEN PATRIMONIO CULTURAL DE LA NACION', 'FABRICACION, TRAFICO Y PORTE DE ARMAS DE USO PRIVATIVO DE LAS FUERZAS ARMADAS ART. 366 C.P. AGRAVADO', 'FALSEDAD EN DOCUMENTO PRIVADO. ART. 289 C.P. AGRAVADA CUANDO LA CONDUCTA RECAE SOBRE DOCUMENTOS RELACIONADOS CON MEDIOS MOTORIZADOS Adicionada art. 53 Ley 1142 de 2007', 'DEFRAUDACION DE FLUIDOS. ART. 256 C.P.  MENOR CUANTIA', 'HURTO MENOR CUANTIA. ART. 239 C.P. AGRAVADO POR LUGAR DESPOBLADO ART. 241 C.P. N.9', 'HOSTIGAMIENTO POR MOTIVOS DE RAZA, RELIGIÓN, IDEOLOGÍA, POLÍTICA, U ORIGEN NACIONAL, ÉTNICO O CULTURAL 134 B', 'ACCESO CARNAL O ACTO SEXUAL ABUSIVOS CON INCAPAZ DE RESISTIR ART. 210 C.P. AGRAVADO ART. 211 N.6 . SE PRODUJERE EMBARAZO', 'HURTO  MENOR CUANTIA ART. 239 C.P. ATENUADO CON EL FIN DE USARLO Y SE RESTITUYE ART.242 C.P.INCISO1', 'ABUSO DE AUTORIDAD POR OMISION DE DENUNCIA ART. 417 C.P. INCISO 2. AGRAVADO POR DELITO DE OMISION DE PARTICULAR', 'INTERCEPTACION DE DATOS INFORMATICOS, ART 269C LEY 1273 DE 2009', 'ACCESO CARNAL ABUSIVO CON MENOR DE CATORCE AÑOS ART.208 C.P. AGRAVADO ART. 211 N.3. SE PRODUJERE CONTAMINACION DE ENFERMEDAD DE TRANSMISION SEXUAL', 'MALTRATO POR DESCUIDO, NEGLICENCIA O BANDONO EN PERSONA MAYOR DE 60 AÑOS', 'ACCESO CARNAL O ACTO SEXUAL ABUSIVOS CON INCAPAZ DE RESISTIR ART. 210 C.P. AGRAVADO ART. 211 N.1. CON EL CONCURSO DE OTRA U OTRAS PERSONAS', 'HOMICIDIO ART. 103 C.P. AGRAVADO  CON SEVICIA ART. 104 N.6 C.P.', 'DAÑO INFORMATICO ART 269D LEY 1273 DE 2009', 'LESIONES PERSONALES CULPOSAS ART 120 C.P. CON INCAPACIDAD MAYOR 90 DIAS ART. 112 C.P. INCISO 3', 'ABIGEATO ART. 243A C.P. AGRAVADO', 'ACCESO CARNAL O ACTO SEXUAL ABUSIVOS CON INCAPAZ DE RESISTIR ART. 210 C.P. AGRAVADO ART. 211 N.5. SE REALIZARE SOBRE PARIENTES ,  CONYUGE , COMPAÑERA O COMPAÑERO PERMANENTES, O PERSONA INTEGRADA A LA UNIDAD DOMESTICA', 'ACCESO CARNAL O ACTO SEXUAL ABUSIVOS CON INCAPAZ DE RESISTIR ART. 210 C.P. AGRAVADO ART. 211 N.7 . SE COMETIERE SOBRE PERSONAS EN SITUACIÓN DE VULNERABILIDAD', 'LESIONES PERSONALES CULPOSAS ART. 120 C.P CON DEFORMIDAD FISICA AFECTA ROSTRO ART. 113 C.P.', 'VIOLACION DE LA LIBERTAD DE TRABAJO. ART. 198 C.P.', 'HURTO. ART. 239 C.P. AGRAVADO POR REALIZARSE EN PREDIO RURAL Y OBJETOS DE LABRANZA ART. 241 C.P. N.8', 'HURTO MENOR CUANTIA. ART. 239 C.P. AGRAVADO POR SIMULAR AUTORIDAD ART. 241 C.P. N.4', 'HURTO CALIFICADO ART. 240 C.P.  DE AUTOMOTOR MAYOR CUANTIA', 'LESIONES EN PERSONA PROTEGIDA ART. 136 C.P.', 'ABUSO DE CONFIANZA CALIFICADO. ART. 250 C.P.  MAYOR CUANTIA', 'APLICACION FRAUDULENTA DE CREDITO OFICIALMENTE REGULADO ART. 311 C.P.', 'OMISION DE SOCORRO ART. 131 C.P.', 'DELITOS CONTRA LA LIBERTAD INDIVIDUAL Y OTRAS GARANTIAS', 'OBSTRUCCION A VIAS PUBLICAS QUE AFECTAN EL ORDEN PUBLICO. ART.353A C.P. LEY 1453 DE 2011', 'HURTO MENOR CUANTIA. ART. 239 C.P. AGRAVADO POR REALIZARSE EN PREDIO RURAL Y OBJETOS DE LABRANZA ART. 241 C.P. N.8', 'TRAFICO FABRICACION O PORTE DE ESTUPEFACIENTES ART. 376 C. AGRAVADO N.1 ART. 384 C.P.', 'VIOLACION ILICITA DE COMUNICACIONES. ART. 192 C.P.', 'LAVADO DE ACTIVOS ART. 323 C.P.CUANTIA INFERIOR A 100 SMLM', 'ACCESO CARNAL O ACTO SEXUAL EN PERSONA PUESTA EN INCAPACIDAD DE RESISTIR ART.207 C.P. AGRAVADO ART. 211 N.5. SE REALIZARE SOBRE PARIENTES ,  CONYUGE , COMPAÑERA O COMPAÑERO PERMANENTES, O PERSONA INTEGRADA A LA UNIDAD DOMESTICA', 'DESPLAZAMIENTO FORZADO ART. 180  C.P. AGRAVADO EN PERSONA DISCAPACITADA, MENOR O EMBARAZADA ART. 181 N.2', 'USURPACION DE AGUAS. ART. 262 C.P.', 'EVASION FISCAL ART. 313 C.P.', 'VOTO FRAUDULENTO ART. 391 C.P', 'OCULTAMIENTO, ALTERACION O DESTRUCCION DE ELEMENTO MATERIAL PROBATORIO ART.454B C.P. AD. LEY 890/2004 ART.13', 'HURTO CALIFICADO ART. 240 C.P.  AGRAVADO POR SIMULAR AUTORIDAD ART. 241 C.P. N.4', 'PECULADO POR APLICACION OFICIAL DIFERENTE ART. 399 C.P.', 'MALTRATO POR DESCUIDO O ABANDONO EN PERSONA MAYOR DE 60 AÑOS', 'INCESTO. ART. 237 C.P.', 'VIOLACION DE DATOS PERSONALES ART 269F LEY 1273 DE 2009, AGRAVADO POR REVELAR O DAR A CONOCER EL CONTENIDO DE LA INFORMACION EN PERJUICIO DE OTRO ART. 269H N4', 'OCULTAMIENTO, RETENCION Y POSESION ILICITA DE CEDULA ART. 395 C.P.', 'HURTO. ART. 239 C.P. AGRAVADO CUANDO LO HURTADO ES OBJETO EXPUESTO A LA CONFIANZA PUBLICA ART. 241 C.P. N.7', 'PRIVACION ILEGAL DE LA LIBERTAD ART. 174 C.P.', 'LESIONES AL FETO ART. 125 C.P.', 'ACTO SEXUAL VIOLENTO. ART.206 C.P. AGRAVADO ART. 211 N.2.RESPONSABLE CARACTER, POSICION O CARGO QUE LE DE PARTICULAR AUTORIDAD SOBRE LA VICTIMA O LA IMPULSE A DEPOSITAR EN EL SU CONFIANZA', 'ACCESO CARNAL O ACTO SEXUAL ABUSIVOS CON INCAPAZ DE RESISTIR ART. 210 C.P. AGRAVADO ART. 211 N.2.RESPONSABLE CARACTER, POSICION O CARGO QUE LE DE PARTICULAR AUTORIDAD SOBRE LA VICTIMA O LA IMPULSE A DEPOSITAR EN EL SU CONFIANZA', 'HURTO CALIFICADO ART. 240 C.P.  AGRAVADO CUANDO LO HURTADO SON ARMAS DESTINADAS A LA SEGURIDAD PUBLICA ART. 241 C.P. N.1', 'DELITOS CONTRA LA ADMINISTRACION DE PUBLICA', 'HURTO CALIFICADO MENOR CUANTIA ART. 240 C.P.  AGRAVADO CUANDO LO HURTADO ES OBJETO EXPUESTO A LA CONFIANZA PUBLICA ART. 241 C.P. N.7', 'EXTORSION. ART. 244 C.P CUANTIA SUPERIOR A 500 SMLM', 'HURTO CALIFICADO MENOR CUANTIA ART. 240 C.P. AGRAVADO POR APROVECHAMIENTO DE CALAMIDAD ART. 241 C.P. N.1', 'LESIONES CULPOSAS ART. 120 C.P. CON PERTURBACION PSIQUICA TRANSITORIA ART.115', 'CONCIERTO PARA DELINQUIR AGRAVADO POR DARSE PARA TERRORISMO ART. 340 C.P. INC.2', 'HOMICIDIO ART. 103 C.P. AGRAVADO POR FACILITAR OCULTAR O CONSUMAR OTRA CONDUCTA PUNIBLE ART. 104 N.2 C.P.', 'HOMICIDIO PRETERINTENCIONAL ART. 105 C.P.', 'FABRICACION, TRAFICO Y PORTE DE ARMAS DE FUEGO O MUNICIONES POR VENTA ART. 365 C.P.', 'USURPACION DE FUNCIONES PUBLICAS ART. 425 C.P.', 'HURTO. ART. 239 C.P. AGRAVADO CUANDO LO HURTADO ES EQUIPAJE ART. 241 C.P. N.5', 'SECUESTRO SIMPLE ART. 168 C.P. AGRAVADO POR TORTURA FISICA OMORAL O VIOLENCIA SEXUAL ART. 170 N.2', 'USURA ART. 305 C.P. INCISO 2  POR COMPRA DE CHEQUE, SUELDO , SALARIO O PRESTACION SOCIAL', 'HURTO CALIFICADO MENOR CUANTIA ART. 240 C.P.  AGRAVADO CUANDO LO HURTADO ES EQUIPAJE ART. 241 C.P. N.5', 'VIOLACION A LOS DERECHOS PATRIMONIALES DE AUTOR Y DERECHOS CONEXOS ART. 271 C.P. Modificado art. 2 ley 1032 de 2006', 'DESPLAZAMIENTO FORZADO ART. 180  C.P. AGRAVADO TRATOS CRUELES ART. 181 N.5', 'HURTO. ART. 239 C.P. AGRAVADO POR SIMULAR AUTORIDAD ART. 241 C.P. N.4', 'DE LOS ACTOS DE DISCRIMINACION', 'HURTO MENOR CUANTIA. ART. 239 C.P. AGRAVADO CUANDO LO HURTADO ES EQUIPAJE ART. 241 C.P. N.5', 'VIOLACION DE DATOS PERSONALES ART 269F LEY 1273 DE 2009, AGRAVADO POR APROVECHARSE DE LA CONFIANZA DEPOSITADA POR EL POSEEDOR DE LA INFORMACION O POR QUIEN TUVIERE UN VINCULO CONTRACTUAL CON ESTE. ART. 269H N3', 'HURTO MENOR CUANTIA. ART. 239 C.P. AGRAVADO CUANDO LO HURTADO ES OBJETO EXPUESTO A LA CONFIANZA PUBLICA ART. 241 C.P. N.7', 'ACTO SEXUAL CON MENOR DE CATORCE AÑOS ART. 209 C.P. AGRAVADO ART. 211 N.3. SE PRODUJERE CONTAMINACION DE ENFERMEDAD DE TRANSMICION SEXUAL', 'ABUSO DE CONFIANZA. ART. 249 C.P.  MENOR CUANTIA', 'USURPACION DE DERECHOS DE PROPIEDAD INDUSTRIAL Y DERECHOS DE OBTENTORES DE VARIEDADES VEGETALES ART. 306 C.P. Modificado Art. 4 ley 1032 de 2006', 'ACCESO ABUSIVO A UN SISTEMA INFORMATICO ART 269A LEY 1273 DE 2009, AGRAVADO POR REALIZARSE SOBRE REDES O SISTEMAS INFORMATICOS O DE COMUNICACIONES ESTATALES U OFICIALES O DEL SECTOR FINANCIERO, NACIONALES O EXTRANJEROS ART. 269H N1', 'ESTIMULO A LA PROSTITUCION DE MENORES. ART. 217 C.P.', 'FEMINICIDIO ART. 104A C.P. AGRAVADO NUM. 1, 3, 5, 7 Y 8 DEL ART. 104. ART. 104B L.G', 'HURTO MENOR CUANTIA ART. 239 C.P. ATENUADO ENTRE CONDUEÑOS ART. 242 C.P. INCISO 2', 'FABRICACION, TRAFICO Y PORTE DE ARMAS DE FUEGO O MUNICIONES POR ALMACENAMIENTO ART. 365 C.P.', 'ACTO SEXUAL VIOLENTO. ART.206 C.P. AGRAVADO ART. 211 N.7 . SE COMETIERE SOBRE PERSONAS EN SITUACIÓN DE VULNERABILIDAD', 'HOMICIDIO ART. 103 C.P. AGRAVADO EN PERSONA INTERNACIONALMENTE PROTEGIDA ART. 104 N.9 C.P.', 'ABUSO DE CONDICIONES DE INFERIORIDAD. ART. 251 C.P. MAYOR CUANTIA', 'ACCESO CARNAL O ACTO SEXUAL EN PERSONA PUESTA EN INCAPACIDAD DE RESISTIR ART.207 C.P. AGRAVADO ART. 211 N.6 . SE PRODUJERE EMBARAZO', 'FABRICACION, TRAFICO Y PORTE DE USO PRIVATIVO DE LAS FUERZAS ARMADAS POR PORTE ART. 366 C.P.', 'FABRICACION, TRAFICO Y PORTE DE ARMAS DE FUEGO O MUNICIONES POR DISTRIBUCION ART. 365 C.P.', 'ACTOS DE DISCRIMINACION RACIAL ART. 147 C.P.', 'COHECHO IMPROPIO ART. 406 C.P.', 'LESIONES CULPOSAS AL FETO ART. 126 C.P.', 'HURTO AUTOMOTOR MENOR CUANTIA ART. 239 C.P. ATENUADO CON EL FIN DE USARLO Y SE RESTITUYE ART.242 C.P.INCISO1', 'INDUCCION A AYUDA AL SUICIDIO ART. 107 C.P.', 'DAÑO EN BIEN AJENO. ART. 265 C.P. MAYOR CUANTIA', 'VIOLACION DE DATOS PERSONALES ART 269F LEY 1273 DE 2009, AGRAVADO POR REALIZARSE SOBRE REDES O SISTEMAS INFORMATICOS O DE COMUNICACIONES ESTATALES U OFICIALES O DEL SECTOR FINANCIERO, NACIONALES O EXTRANJEROS ART. 269H N1', 'HOMICIDIO ART. 103 C.P. AGRAVADO COMO CONSECUENCIA DE UN DELITO DE PELIGRO COMUN O CONTRA LA SALUD PUBLICA ART. 104 N.3', 'HURTO. ART. 239 C.P. AGRAVADO POR APROVECHAMIENTO DE CALAMIDAD ART. 241 C.P. N.1', 'SUPRESION, ALTERACION O SUPOSICION DEL ESTADO CIVIL. ART. 238 C.P.', 'PARTO O ABORTO PRETERINTENCIONAL ART. 118 C.P.', 'PERTURBACION EN SERVICIO DE TRANSPORTE COLECTIVO U OFICIAL ART. 353 C.P.', 'APODERAMIENTO DE LOS HIDROCARBUROS, SUS DERIVADOS, BIOCOMBUSTIBLES O MEZCLAS QUE LOS CONTENGAN ART. 327A C.P.', 'DAÑO EN BIEN AJENO. ART. 265 C.P. AGRAVADO INCISO 1° ART. 266 PRODUCIENDO INFECCION O CONTAGIO EN PLANTAS O ANIMALES', 'CONCIERTO PARA DELINQUIR AGRAVADO POR DARSE PARA DESPLAZAMIENTO FORZADO ART. 340 C.P. INC.2', 'LESIONES CON PERTURBACION PSIQUICA PERMANENTE ART.115', 'ESTAFA. ART. 246 C.P. AGRAVADA CUANDO SE INVOQUEN INFLUENCIAS CON SERVIDOR. ART. 247 C.P. N.3', 'ACCESO CARNAL O ACTO SEXUAL EN PERSONA PUESTA EN INCAPACIDAD DE RESISTIR ART.207 C.P. AGRAVADO ART. 211 N.2.RESPONSABLE CARACTER, POSICION O CARGO QUE LE DE PARTICULAR AUTORIDAD SOBRE LA VICTIMA O LA IMPULSE A DEPOSITAR EN EL SU CONFIANZA', 'ACCESO CARNAL O ACTO SEXUAL EN PERSONA PUESTA EN INCAPACIDAD DE RESISTIR ART. 207 C.P. AGRAVADO ART. 211 N.1. CON EL CONCURSO DE OTRA U OTRAS PERSONAS', 'TRATA DE PERSONAS ART. 188A C.P. CUANDO LA FINALIDAD SEA LA PROSTITUCION', 'DELITOS CONTRA EL ORDEN ECONOMICO SOCIAL', 'ACCESO ABUSIVO A UN SISTEMA INFORMATICO ART 269A LEY 1273 DE 2009, AGRAVADO POR REVELAR O DAR A CONOCER EL CONTENIDO DE LA INFORMACION EN PERJUICIO DE OTRO ART. 269H N4', 'UTILIZACION ILEGAL DE UNIFORMES E INSIGNIAS ART. 346 C.P.', 'CONSTREÑIMIENTO ILEGAL ART. 182 C.P. AGRAVADO PORQUE EL AGENTE ES INTEGRANTE DE LA FAMILIA ART. 183 C.P. N.2', 'DELITOS CONTRA LA FAMILIA', 'HURTO MAYOR CUANTIA. ART. 239 C.P. AGRAVADO POR LUGAR DESPOBLADO ART. 241 C.P. N.9', 'CONSERVACION O FINANCIACION DE PLANTACIONES ART. 375 C.P.', 'RECEPTACION ART. 327 C C.P. ADICIONADO POR LA LEY 1028 DE 2006', 'ABUSO DE CONFIANZA CALIFICADO. ART. 250 C.P.N 2. En caso de depósito necesario', 'ACCESO ABUSIVO A UN SISTEMA INFORMATICO ART 269A LEY 1273 DE 2009, AGRAVADO POR OBTENER PROVECHO PARA SI O PARA UN TERCERO. ART. 269H N5', 'FALSIFICACION O USO FRAUDULENTO DE SELLO OFICIAL. ART. 279 C.P.', 'EXTORSION MENOR CUANTIA ART. 244 C.P. AGRAVADA ART. 245 N.8', 'FABRICACION, TRAFICO Y PORTE DE ARMAS DE FUEGO O MUNICIONES POR TRASPORTE ART. 365 C.P.', 'ACCESO CARNAL O ACTO SEXUAL EN PERSONA PUESTA EN INCAPACIDAD DE RESISTIR ART.207C.P. AGRAVADO ART. 211 N.4. SE REALIZARE SOBRE PERSONA MENOR DE 14 AÑOS', 'PECULADO POR USO ART. 398 C.P.', 'SUPLANTACION DE SITIOS WEB PARA CAPTURAR DATOS PERSONALES ART 269G LEY 1273 DE 2009, AGRAVADO POR OBTENER PROVECHO PARA SI O PARA UN TERCERO. ART. 269H N5', 'FRAUDE EN LA INSCRIPCION DE CEDULAS ART. 389 C.P.', 'EXPLOTACION DE MENORES DE EDAD', 'TORTURA ART. 178 C.P. AGRAVADO AGENTE SERVIDOR PUBLICO ART. 179 N.2', 'SECUESTRO SIMPLE ART. 168 C.P. AGRAVADO PERSONA DISCAPACITADA ENFERMA O MENOR DE 18, MUJER EMBARAZADA  ART. 170 N.1', 'AMENAZAS A TESTIGOS ART. 454A C.P. AD. LEY 890 DE 2004 ART.13 PERITOS', 'OMISION DE MEDIDAS DE SOCORRO Y ASISTENCIA HUMANITARIAS ART. 152 C.P.', 'HOMICIDIO ART. 103 C.P. AGRAVADO POR ANIMO DE LUCRO ART. 104 N. 4 C.P.', 'OBSTACULIZACION ILEGITIMA DEL SISTEMA INFORMATICO O RED DE TELECOMUNICACION ART 269B LEY 1273 DE 2009', 'HURTO CALIFICADO MENOR CUANTIA ART. 240 C.P.  AGRAVADO POR SIMULAR AUTORIDAD ART. 241 C.P. N.4', 'FABRICACION, TRAFICO Y PORTE DE ARMAS DE FUEGO O MUNICIONES POR REPARACION ART. 365 C.P.', 'DESPLAZAMIENTO FORZADO ART. 180  C.P. AGRAVADO AGENTE SERVIDOR PUBLICO ART. 181 N.1', 'INSTIGACION A DELINQUIR ART. 348 C.P. INCISO 1', 'TRAFICO FABRICACION O PORTE DE ESTUPEFACIENTES ART. 376 C. AGRAVADO N.3 ART. 384 C.P.', 'SECUESTRO SIMPLE ART. 168 C.P. AGRAVADO AMENAZA DE MUERTE O LESION ART. 170 N.6', 'EMPLEO O LANZAMIENTO DE SUSTANCIAS U OBJETOS PELIGROSOS ART. 359 C.P.', 'ACCESO CARNAL ABUSIVO CON MENOR DE CATORCE AÑOS ART.208 C.P. AGRAVADO ART. 211 N.7 . SE COMETIERE SOBRE PERSONAS EN SITUACIÓN DE VULNERABILIDAD', 'ACCESO ABUSIVO A UN SISTEMA INFORMATICO. ART. 195 C.P.', 'VIOLACION DE HABITACION AJENA POR SERVIDOR PUBLICO ART. 190 C.P.', 'FABRICACION, TRAFICO Y PORTE DE USO PRIVATIVO DE LAS FUERZAS ARMADAS POR TRAFICO ART. 366 C.P.', 'IMITACION O SIMULACION DE ALIMENTOS, PRODUCTOS O SUSTANCIAS ART. 373 C.P.', 'DAÑO EN LOS RECURSOS NATURALES ART. 331 C.P. MODALIDAD CULPOSA ART. 339', 'HURTO AUTOMOTOR MAYOR CUANTIA ART. 239 C.P. ATENUADO CON EL FIN DE USARLO Y SE RESTITUYE ART.242 C.P.INCISO1', 'DAÑO EN OBRAS DE UTILIDAD SOCIAL ART. 351 C.P.', 'TRATA DE PERSONAS ART. 188A C.P. CUANDO LA FINALIDAD SEA EL TRABAJO FORZADO', 'DESTRUCCION Y APROPIACION DE BIENES PROTEGIDOS ART. 154 C.P.', 'VIOLACION A LA LIBERTAD RELIGIOSA. ART. 201 C.P.', 'LESIONES PERSONALES ART 120 C.P. CON INCAPACIDAD MAYOR 90 DIAS ART. 112 C.P. INCISO 3', 'FALSA DENUNCIA ART. 435 C.P. AGRAVADA ART. 438', 'COHECHO PROPIO ART. 405 C.P.', 'ACOSO SEXUAL ART. 210A AGRAVADO ART. 211 N.4. SE REALIZARE SOBRE PERSONA MENOR DE 14 AÑOS', 'DE LOS ATENTADOS CONTRA LA CONFIDENCIALIDAD, LA INTEGRIDAD Y LA DISPONIBILIDAD DE LOS DATOS Y DE LOS SISTEMAS INFORMATICOS', 'FRAUDE AL SUFRAGANTE ART. 388 C.P.', 'DIVULGACION Y EMPLEO DE DOCUMENTOS RESERVADOS. ART. 194 C.P.', 'HURTO CALIFICADO DE AUTOMOTOR MAYOR CUANTIA  ART. 240 C.P.  AGRAVADO POR LUGAR DESPOBLADO ART. 241 C.P. N.9', 'HOMICIDIO CULPOSO ART. 109 C.P. NO TENER LICENCIA O TENERLA SUSPENDIDA ART. 110 N.3 C.P.', 'VIOLACION DE DATOS PERSONALES ART 269F LEY 1273 DE 2009, AGRAVADO POR OBTENER PROVECHO PARA SI O PARA UN TERCERO. ART. 269H N5', 'ABUSO DE CONFIANZA CALIFICADO. ART. 250 C.P. N 3. Sobre bienes pertenecientes a empresas o instituciones en que el Estado tenga la totalidad o la mayor parte, o recibidos a cualquier título de éste', 'ENRIQUECIMIENTO ILICITO ART. 412 C.P.', 'SIMULACION DE INVESTIDURA O CARGO ART. 426 C.P.', 'ENRIQUECIMIENTO ILICITO DE PARTICULARES ART. 327 C.P. CUANTIA SUPERIOR A 100 SMLM', 'SUMINISTRO A MENOR ART. 381 C.P.Agravado N.1 Art 384', 'RECEPTACION ART. 447 C.P.  DE ELEMENTOS DESTINADOS A COMUNICACIONES TELEFONICAS', 'RECEPTACION ART. 327 C C.P.', 'CONSTREÑIMIENTO PARA DELINQUIR ART. 184 C.P. AGRAVADO POR VICTIMA MENOR DE 18 AÑOS, MIEMBROS ACTIVOS O RETIRADOS DE LA F', 'DESAPARICION FORZADA ART. 165 C.P. AGRAVADO POR MAYOR DE 60, MENOR DE 18 O MUJER EMBARAZADA ART.  166 C.P. N.3', 'ESTAFA. ART. 246 C.P. MENOR CUANTIA AGRAVADA CUANDO SE INVOQUEN INFLUENCIAS CON SERVIDOR. ART. 247 C.P. N.3', 'CONSERVACION O FINANCIACION DE PLANTACIONES ART. 375 C.P. MAS DE 8000 UNIDADES O 10,000 GRAMOS', 'PARTO O ABORTO PRETERINTENCIONAL ART. 118 C.P. POR TERRORISMO ART. 104 N. 8 C.P.', 'ACCESO CARNAL O ACTO SEXUAL ABUSIVOS CON INCAPAZ DE RESISTIR ART. 210 C.P. AGRAVADO ART. 211 N.3. SE PRODUJERE CONTAMINACION DE ENFERMEDAD DE TRANSMISION SEXUAL', 'CORRUPCION DE ALIMENTOS, PRODUCTOS MEDICOS O MATERIAL PROFILACTICO ART. 372 C.P.', 'INVASION DE TIERRAS O EDIFICACIONES. ART. 263 C.P. AGRAVADO ART. 267 N.1 SOBRE UNA COSA CUYO VALOR FUERE SUPERIOR A CIEN (100) SALARIOS MINIMOS LEGALES VIGENTES, O QUE SIENDO INGERIOR, HAYA OCASIONADO GRAVE DAÑO A LA VICTIMA, ATENDIDA SU SITUACIÓN ECONOMICA', 'INJURIAS RECIPROCAS ART 227 C.P', 'GENOCIDIO ART. 101 C.P.', 'TRAFICO DE SUSTANCIAS PARA PROCESAMIENTO DE NARCOTICOS ART. 382 C.P.', 'HURTO AUTOMOTOR MENOR CUANTIA ART. 239 C.P. ATENUADO ENTRE CONDUEÑOS ART. 242 C.P. INCISO 2', 'DAÑO INFORMATICO ART 269D LEY 1273 DE 2009, AGRAVADO POR OBTENER PROVECHO PARA SI O PARA UN TERCERO. ART. 269H N5', 'ACCESO CARNAL VIOLENTO. ART. 205 C.P. AGRAVADO ART. 211 N.2.RESPONSABLE CARACTER, POSICION O CARGO QUE LE DE PARTICULAR AUTORIDAD SOBRE LA VICTIMA O LA IMPULSE A DEPOSITAR EN EL SU CONFIANZA', 'MALVERSACION Y DILAPIDACION DE BIENES FAMILIARES. ART. 236 C.P.', 'DESTRUCCION, SUPRESION U OCULTAMIENTO DE DOCUMENTO PUBLICO. ART. 292 C.P. POR SERVIDOR PUBLICO EN EJERCICIO DE SUS FUNCIONES', 'ACCESO CARNAL O ACTO SEXUAL ABUSIVOS CON INCAPAZ DE RESISTIR ART. 210 C.P. AGRAVADO ART. 211 N.8 . CON INTENCIÓN DE GENERAR CONTROL SOCIAL, TEMOR U OBEDIENCIA EN LA COMUNIDAD', 'TRAFICO DE INFLUENCIAS DE SERVIDOR PUBLICO ART. 411 C.P.', 'HURTO CALIFICADO MAYOR CUANTIA ART. 240 C.P. AGRAVADO POR LA CONFIANZA ART. 241 C.P. N.2', 'LESIONES ART. 111 C.P. AGRAVADO EN PERSONA INTERNACIONALMENTE PROTEGIDA ART. 104 N.9 C.P.', 'CONSTREÑIMIENTO ILEGAL ART. 182 C.P. AGRAVADO POR FIN TERRORISTA ART. 183 C.P. N.1', 'SINIESTRO O DAÑO DE NAVE ART. 354 C.P.', 'HOMICIDIO ART. 103 C.P. AGRAVADO SI SE COMETIERE CONTRA MUJER POR EL HECHO DE SER MUJER ART. 104 N.11 C.P. Adic Ley 1257 de 2008', 'EMPLEO ILEGAL DE LA FUERZA PUBLICA ART. 423 C.P.', 'SECUESTRO EXTORSIVO ART. 169 C.P.  CUANDO SOBREVENGA LA MUERTE O LESION ART. 170 C.P. 10', 'INTERES INDEBIDO EN LA CELEBRACION DE CONTRATOS ART. 409 C.P.', 'CONSTREÑIMIENTO ILEGAL POR PARTE DE MIEMBROS DE GRUPO DELICTIVO ORGANIZADOS Y GRUPOS ARMADOS ORGANIZADOS ART. 182A', 'PROPAGACION DEL VIRUS DE INMUNODEFICIENCIA HUMANA O DE LA HEPATITIS B ART. 370 C.P.', 'DE LOS DELITOS CONTRA LA AUTONOMIA PERSONAL', 'OMISION DE MEDIDAS DE PROTECCION A LA POBLACION CIVIL ART. 161 C.P.', 'SUPLANTACION DE SITIOS WEB PARA CAPTURAR DATOS PERSONALES ART 269G LEY 1273 DE 2009, AGRAVADO POR UTILIZAR COMO INSTRUMENTO A UN TERCERO DE BUENA FE ART. 269H N7', 'FABRICACION, TRAFICO Y PORTE DE ARMAS DE FUEGO O MUNICIONES POR FABRICACION ART. 365 C.P.', 'ACTO SEXUAL VIOLENTO. ART.206 C.P. AGRAVADO ART. 211 N.8 . CON INTENCIÓN DE GENERAR CONTROL SOCIAL, TEMOR U OBEDIENCIA EN LA COMUNIDAD', 'SECUESTRO SIMPLE ART. 168 C.P. AGRAVADO PARIENTES ART. 170 N.4', 'HURTO CALIFICADO DE AUTOMOTOR MAYOR CUANTIA  ART. 240 C.P. AGRAVADO POR LA CONFIANZA ART. 241 C.P. N.2', 'DEL ABUSO DE AUTORIDAD Y OTRAS INFRACCIONES', 'SECUESTRO SIMPLE ART. 168 C.P. AGRAVADO AGRAVADO MAS DE 15 DIAS ART. 170 N.3', 'TRAFICO FABRICACION O PORTE DE ESTUPEFACIENTES ART. 376 C. AGRAVADO N.2 ART. 384 C.P.', 'PECULADO CULPOSO ART. 400 C.P.', 'FRAUDE DE SUBVENCIONES', 'DEL ABUSO DE CONFIANZA', 'CONSTREÑIMIENTO A LA PROSTITUCION ART. 214 C.P.', 'SECUESTRO EXTORSIVO ART. 169 C.P. AGRAVADO AMENAZA DE MUERTE O LESION ART. 170 N.6', 'HURTO CALIFICADO MENOR CUANTIA ART. 240 C.P.  AGRAVADO CUANDO LO HURTADO SON ARMAS DESTINADAS A LA SEGURIDAD PUBLICA ART. 241 C.P. N.12', 'DISPOSICION DE BIEN PROPIO GRAVADO CON PRENDA. ART. 255 C.P.', 'DEL FRAUDE PROCESAL Y OTRAS INFRACCIONES', 'DEMANDA DE EXPLOT.SEX. COMERC. MENOR DE 18 AÑOS  Art 217A AGRAVADO N.1 EJECUTADA POR TURISTA O VIAJERO NACIONAL O EXTRANJERO', 'SECUESTRO EXTORSIVO ART. 169 C.P. AGRAVADO PERSONA DISCAPACITADA ENFERMA O MENOR DE 18, MUJER EMBARAZADA  ART. 170 N.1', 'HOMICIDIO ART. 103 C.P. AGRAVADO POR SER CONTRA EL GRUPO FAMILIAR ART. 104 N.1 C.P. Modificado Ley 1257 de 2008', 'PROLONGACION ILICITA DE LA PRIVACION DE LA LIBERTAD ART. 175 C.P.', 'FEMINICIDIO ART. 104A C.P. AGRAVADO POR VICTIMA MENOR DE 18 AÑOS, MAYOR DE 60 O EMBARAZO. ART. 104B L.B', 'HURTO CALIFICADO DE AUTOMOTOR MAYOR CUANTIA  ART. 240 C.P. AGRAVADO VALIENDOSE DE ACTIVIDAD DE INIMPUTABLE ART. 241 C.P. N.3', 'SIMULACION DE INVESTIDURA O CARGO ART. 426 C.P. AGRAVADO POR FINES TERRORISTAS ART. 427 C.P.', 'PORTE DE SUSTANCIAS ART. 383 C.P.', 'CONTRABANDO ART. 319 C.P.', 'FALSA DENUNCIA CONTRA PERSONA DETERMINADA ART. 436 C.P.AGRAVADA ART.438 C.P.', 'ACTOS SEXUALES VIOLENTOS EN PERSONA PROTEGIDA ART. 139 C.P.', 'PROXENETISMO CON MENOR DE EDAD ART. 213A AGRAVADO ART. 216 N. 1.  CUANDO SE REALIZARE EN PERSONA MENOR DE CATORCE (14) ANOS', 'MALVERSACION Y DILAPIDACION DE BIENES. ART. 259 C.P.', 'ACCESO CARNAL VIOLENTO EN PERSONA PROTEGIDA ART. 138 C.P.', 'GESTION INDEBIDA DE LOS RECURSOS SOCIALES. ART. 260 C.P. MAYOR CUANTIA', 'HURTO CALIFICADO MAYOR CUANTIA ART. 240 C.P.  AGRAVADO POR REALIZARSE EN PREDIO RURAL Y OBJETOS DE LABRANZA ART. 241 C.P. N.8', 'TRATA DE PERSONAS TRANSNACIONAL ART. 188A C.P. CUANDO LA FINALIDAD SEA EL TURISMO SEXUAL', 'DE LA CELEBRACION INDEBIDA DE CONTRATOS', 'SUPLANTACION DE SITIOS WEB PARA CAPTURAR DATOS PERSONALES ART 269G LEY 1273 DE 2009, AGRAVADO POR APROVECHARSE DE LA CONFIANZA DEPOSITADA POR EL POSEEDOR DE LA INFORMACION O POR QUIEN TUVIERE UN VINCULO CONTRACTUAL CON ESTE. ART. 269H N3', 'FRAUDULENTA INTERNACION EN ASILO, CLINICA O ESTABLECIMIENTO SIMILAR. ART. 186 C.P.', 'ADOPCION IRREGULAR. ART. 232', 'DEL PREVARICATO', 'UTILIZACION INDEBIDA DE INFORMACION PRIVILEGIADA. ART. 258 C.P.', 'SECUESTRO EXTORSIVO ART. 169 C.P.  EN PERSONA INTERNACIONALMENTE PROTEGIDA ART. 170 C.P. N. 16', 'LESIONES CULPOSAS ART. 120 C.P. CON PERTURBACION PSIQUICA PERMANENTE ART.115', 'ENRIQUECIMIENTO ILICITO DE PARTICULARES ART. 327 C.P. INFERIOR 100 SMLM', 'CORRUPCION DE SUFRAGANTE ART. 390 C.P.', 'USO ILEGITIMO DE PATENTES ART. 307 C.P. INCISO 1. EL QUE FABRIQUE PRODUCTO SIN AUTORIZACION DE QUIEN TIENE EL DERECHO', 'ASESORAMIENTO Y OTRAS ACTUACIONES ILEGALES ART. 421 C.P. INCISO 2 RESPONSABLE SERVIDOR DE LA RAMA JUDICIAL O DEL MINISTERIO PUBLICO', 'FEMINICIDIO ART. 104A C.P. AGRAVADO POR CONCURSO DE PERSONAS. ART. 104B L.C', 'PERTURBACION FUNCIONAL TRANSITORIA', 'INVASION DE AREAS DE ESPECIAL IMPORTANCIA ECOLOGICA ART. 337 C.P.', 'MALTRATO ANIMAL ART. 339A C.P. AGRAVADO POR VALERSE DE INIMPUTABLES, MENORES DE EDAD O EN PRESENCIA DE ELLOS ART. 339B L. C', 'CONSTREÑIMIENTO PARA DELINQUIR ART. 184 C.P. AGRAVADO POR FINALIDAD INGRESO A GRUPOS TERRORISTAS, SICARIOS, JUSTICIA PRI', 'INDUCCION A LA PROSTITUCION ART.213 C.P. AGRAVADO ART. 216 N. 3.  SE REALIZARE EN CONTRA DE PARIENTE, MIEMBRO DE UNIDAD DOMESTICA O APROVECHANDO LA CONFIANZA', 'SECUESTRO EXTORSIVO ART. 169 C.P. AGRAVADO CUANDO SE OBTENGA LA FINALIDAD ART. 170 C.P. N.7', 'DE LA VIOLACION A LA INTIMIDAD, RESERVA E INTERCEPTACION DE', 'OMISION DE APOYO ART. 424 C.P.', 'FALSEDAD PARA OBTENER PRUEBA DE HECHO VERDADERO. ART. 295 C.P.', 'ESTIMULO AL USO ILICITO ART. 378 C.P.', 'SECUESTRO SIMPLE ART. 168 C.P. AGRAVADO CUANDO SE TRAFIQUE CON LA PERSONA SECUESTRADA DURANTE EL TIEMPO  DE PRIVACION DE LA LIBERTAD ART. 170 N.15', 'PROPAGACION DE EPIDEMIA ART. 369 C.P.', 'ACOSO SEXUAL ART. 210A AGRAVADO ART. 211 N.1. CON EL CONCURSO DE OTRA U OTRAS PERSONAS', 'FEMINICIDIO ART. 104A C.P. AGRAVADO POR COMETERSE EN PRESENCIA DE UNA PERSONA INTEGRANTE DE LA UNIDAD DOMESTICA. ART. 104B L.E', 'HURTO. ART. 239 C.P. AGRAVADO CUANDO LO HURTADO SON MATERIALES NUCLEARES O RADIOACTIVOS ART. 241 C.P. N.15', 'ATAQUE CONTRA OBRAS E INSTALACIONES QUE CONTIENEN FUERZAS PELIGROSAS ART. 157 C.P.', 'AGIOTAJE. ART. 301', 'HURTO CALIFICADO MENOR CUANTIA ART. 240 C.P. AGRAVADO VALIENDOSE DE ACTIVIDAD DE INIMPUTABLE ART. 241 C.P. N.3', 'DEL SECUESTRO', 'DE LOS DELITOS CONTRA EL SISTEMA FINANCIERO', 'ACCESO CARNAL ABUSIVO EN PERSONA PROTEGIDA MENOR DE CATORCE AÑOS ART. 138A', 'SECUESTRO EXTORSIVO ART. 169 C.P.  AGRAVADO POR COMETERSE PARCIALMENTE EN EL EXTRAJERO ART. 170 C.P. N.14', 'CONCIERTO PARA DELINQUIR AGRAVADO POR DARSE PARA SECUESTRO EXTORSIVO ART. 340 C.P. INC.2', 'ACCESO CARNAL O ACTO SEXUAL EN PERSONA PUESTA EN INCAPACIDAD DE RESISTIR ART.207 C.P. AGRAVADO ART. 211 N.7 . SE COMETIERE SOBRE PERSONAS EN SITUACIÓN DE VULNERABILIDAD', 'HURTO. ART. 239 C.P. AGRAVADO VALIENDOSE DE ACTIVIDAD DE INIMPUTABLE ART. 241 C.P. N.3', 'FALSA AUTOACUSACION ART. 437 C.P. AGRAVADA ART,438 C.P.', 'TRATA DE PERSONAS ART. 188A C.P. CUANDO LA FINALIDAD SEA LA MENDICIDAD', 'HOMICIDIO CULPOSO ART. 109 C.P. TRANSPORTE NIÑOS O ANCIANOS SIN REQUISITOS ART. 110 N.5 C.P.', 'DE LAS LESIONES AL FETO', 'CONSTREÑIMIENTO PARA DELINQUIR ART. 184 C.P. AGRAVADO', 'SUSTRACCION DE BIEN PROPIO. ART. 254 C.P.', 'DAÑO INFORMATICO ART 269D LEY 1273 DE 2009, AGRAVADO POR UTILIZAR COMO INSTRUMENTO A UN TERCERO DE BUENA FE ART. 269H N7', 'TOMA DE REHENES ART. 148 C.P.', 'VIOLACION DE LA RESERVA INDUSTRIAL O COMERCIAL ART. 308 C.P.', 'VIOLACION DE DATOS PERSONALES ART 269F LEY 1273 DE 2009, AGRAVADO POR SER COMETIDO POR SERVIDOR PUBLICO EN EJERCICIO DE SUS FUNCIONES ART. 269H N2', 'ESTAFA. ART. 246. AGRAVADA CUANDO LA CONDUCTA SE RELACIONA CON BIENES PERTENECIENTES A EMPRESAS O INSTITUCIONES EN QUE EL ESTADO TENGA LA TOTALIDAD O LA MAYOR PARTE, O RECIBIDOS A CUALQUIER TÍTULO DE ESTE. ART. 247 N. 5', 'FRAUDE MEDIANTE CHEQUE', 'ALTERACION DE RESULTADOS ELECTORALES ART. 394  C.P.', 'HURTO MAYOR CUANTIA. ART. 239 C.P. AGRAVADO POR SIMULAR AUTORIDAD ART. 241 C.P. N.4', 'SECUESTRO SIMPLE ART. 168 C.P. AGRAVADO POR AFECTACION A ACTIVIDAD PATRIMONIAL VICTIMA ART. 170 N.8', 'CORRUPCION PRIVADA ART. 250A C.P.', 'DE LOS DELITOS CONTRA LA LIBERTAD DE TRABAJO Y ASOCIACION', 'INTERCEPTACION DE DATOS INFORMATICOS ART 269C LEY 1273 DE 2009 AGRAVADO POR OBTENER PROVECHO PARA SI O PARA UN TERCERO. ART. 269H N5', 'CONSTREÑIMIENTO A APOYO BELICO ART. 150 C.P.', 'APROVECHAMIENTO DE ERROR AJENO O CASO FORTUITO. ART. 252 C.P. MENOR CUANTIA', 'TERRORISMO ART. 343 C.P. AGRAVADO POR INVOLUCRAR A UN MENOR ART. 344 C.P. N. 1', 'IRRESPETO A CADAVERES. ART. 204 C.P.', 'EMISION Y TRANSFERENCIA ILEGAL DE CHEQUE. ART. 248 C.P. MAYOR CUANTIA', 'VIOLACION ILICITA DE COMUNICACIONES O CORRESPONDENCIA DE CARACTER OFICIAL. ART. 196 C.P.', 'SECUESTRO EXTORSIVO ART. 169 C.P. AGRAVADO CUANDO SE OBTENGA LA FINALIDAD ART. 170 C.P. N.8', 'REVELACION DE SECRETO ART. 418 C.P. INCISO 1', 'DEMANDA DE EXPLOT.SEX. COMERC. MENOR DE 18 AÑOS Art 217A AGRAVADO N.2. SI CONSTITUYERE MATRIMONIO O CONVIVENCIA SERVIL O FORZADO', 'SECUESTRO EXTORSIVO ART. 169 C.P. AGRAVADO AMENAZA DE MUERTE O LESION ART. 170 N.5', 'CONSTREÑIMIENTO A LA PROSTITUCION ART. 214.AGRAVADO ART. 216 N. 4. VICTIMA VULNERABLE POR EDAD, ETNIA, DISCAPACIDAD, OCUPACION U OFICIO', 'ESPIONAJE ART. 463 C.P.', 'DE LA DETENCION ARBITRARIA', 'HURTO CALIFICADO MAYOR CUANTIA ART. 240 C.P.  AGRAVADO CUANDO LO HURTADO SON ARMAS DESTINADAS A LA SEGURIDAD PUBLICA ART. 241 C.P. N.12', 'MORA EN LA ENTREGA DE DOCUMENTOS RELACIONADOS CON UNA VOTACION ART. 393 C.P.', 'VIOLACION DE HABITACION AJENA POR SERVIDOR PUBLICO ART. 190 C.P. POR VIOLACION DE LUGAR DE TRABAJO ART. 191 C.P.', 'LESIONES CULPOSAS ART. 120 C.P.AGRAVADO POR TRANSPORTE NIÑOS o ANCIANOS SIN REQUISITOS ART. 110 N. 5 C.P.', 'EXTORSION MENOR CUANTIA ART. 244 C.P. AGRAVADA ART. 245 N.2', 'ACCESO ABUSIVO A UN SISTEMA INFORMATICO ART 269A LEY 1273 DE 2009, AGRAVADO POR APROVECHARSE DE LA CONFIANZA DEPOSITADA POR EL POSEEDOR DE LA INFORMACION O POR QUIEN TUVIERE UN VINCULO CONTRACTUAL CON ESTE. ART. 269H N3', 'CONCIERTO PARA DELINQUIR AGRAVADO POR DARSE PARA TORTURA ART. 340 C.P. INC.2', 'SUPLANTACION DE SITIOS WEB PARA CAPTURAR DATOS PERSONALES ART 269G LEY 1273 DE 2009, AGRAVADO POR REALIZARSE SOBRE REDES O SISTEMAS INFORMATICOS O DE COMUNICACIONES ESTATALES U OFICIALES O DEL SECTOR FINANCIERO, NACIONALES O EXTRANJEROS ART. 269H N1', 'HURTO CALIFICADO DE AUTOMOTOR MENOR CUANTIA  ART. 240 C.P.  AGRAVADO POR SIMULAR AUTORIDAD ART. 241 C.P. N.4', 'LESIONES CON AGENTES QUIMICOS ACIDO SUSTANCIAS SIMILARES', 'FABRICACION, TRAFICO Y PORTE DE USO PRIVATIVO DE LAS FUERZAS ARMADAS POR ALMACENAMIENTO ART. 366 C.P.', 'TRAFICO DE NIÑAS, NIÑOS Y ADOLESCENTES ART 188 C LEY 1453 DE 2011', 'DEL CONCIERTO, EL TERRORISMO, LAS AMENAZAS Y LA INSTIGACION', 'FALSIFICACION DE MONEDA NACIONAL O EXTRANJERA. ART. 273 C.P.', 'VIOLACION A LOS DERECHOS MORALES DE AUTOR. ART. 270 C.P.  N.2', 'SECUESTRO EXTORSIVO ART. 169 C.P. AGRAVADO AGRAVADO MAS DE 15 DIAS ART. 170 N.2', 'DEL FALSO TESTIMONIO', 'HURTO AUTOMOTOR MAYOR CUANTIA ART. 239 C.P. ATENUADO ENTRE CONDUEÑOS ART. 242 C.P. INCISO 2', 'HURTO CALIFICADO ART. 240 C.P.  AGRAVADO CUANDO LO HURTADO HACE PARTE DEL PATRIMONIO CULTURAL DE LA NACION ART. 241 C.P.', 'DESAPARICION FORZADA ART. 165 C.P. AGRAVADO POR CUANDO SE COMETA ALGUNA ACCION SOBRE EL CADAVER DE LA VICTIMA PARA EVITAR IDENTIFICACION', 'DAÑO EN MATERIA PRIMA, PRODUCTO AGROPECUARIO O INDUSTRIAL. ART. 304 C.P.', 'DESPLAZAMIENTO FORZADO ART. 180  C.P. AGRAVADO CON CALIDADES ENUMERADAS EN ART. 181 N.3', 'SECUESTRO EXTORSIVO ART. 168 C.P. AGRAVADO POR TORTURA FISICA OMORAL O VIOLENCIA SEXUAL ART. 170 N.2', 'EXTORSION MENOR CUANTIA ART. 244 C.P. AGRAVADA ART. 245 N.11', 'USO DE DOCUMENTO FALSO. ART. 291 C.P.AGRAVADA CUANDO LA CONDUCTA RECAE SOBRE DOCUMENTOS RELACIONADOS CON UN MEDIO MOTORIZADO Adicionado art. 54 Ley 1142 de 2007', 'HURTO  MAYOR CUANTIA ART. 239 C.P. ATENUADO CON EL FIN DE USARLO Y SE RESTITUYE ART.242 C.P.INCISO1', 'ACCESO CARNAL O ACTO SEXUAL EN PERSONA PUESTA EN INCAPACIDAD DE RESISTIR ART.207 C.P. AGRAVADO ART. 211 N.5. SE REALIZARE SOBRE PARIENTES ,  CONYUGE , COMPAÑERA O COMPAÑERO PERMANENTES, O PERSONA INTEGRADA A LA UNIDAD DOMESTICA O APROVECHANDO LA CONFIANZA', 'EXTORSION MENOR CUANTIA ART. 244 C.P. AGRAVADA ART. 245 N.6', 'HURTO CALIFICADO ART. 240 C.P.  AGRAVADO CUANDO LO HURTADO SON MATERIALES NUCLEARES O RADIOACTIVOS ART. 241 C.P. N.15', 'PROVOCACION DE INUNDACION O DERRUMBE ART. 352 C.P.', 'SECUESTRO SIMPLE ART. 168 C.P. AGRAVADO PARIENTES O GRUPO FAMILIAR ART. 170 N.4 Modificado Ley 1257 de 2008', 'VIOLACION A LOS DERECHOS PATRIMONIALES DE AUTOR Y DERECHOS CONEXOS ART. 271 C.P. Modificado art. 2 ley 1032 de 2006 POR REPRODUCCION', 'DESAPARICION FORZADA ART. 165 C.P. AGRAVADO POR PERSONA RELACIONADA EN  ART.  166 C.P. N.4', 'VIOLACION A LOS DERECHOS MORALES DE AUTOR. ART. 270 C.P. N.1', 'CONCIERTO PARA DELINQUIR ART. 340 C.P. AGRAVADO ART. 342 cometido por miembros activos o retirados de la Fuerza Pública o de organismos de seguridad del Estado', 'AMENAZAS A TESTIGOS ART. 454A C.P. AD. LEY 890 DE 2004 ART.13 ADMITIDOS JUDICIALMENTE', 'HURTO MAYOR CUANTIA. ART. 239 C.P. AGRAVADO CUANDO LO HURTADO ES OBJETO EXPUESTO A LA CONFIANZA PUBLICA ART. 241 C.P. N.7', 'TERRORISMO ART. 343 C.P. AGRAVADO POR SER MIEMBRO DE LA FUERZA PUBLICA U ORGANISMO DE SEGURIDAD ART. 344 C.P. N. 4', 'ACCESO CARNAL VIOLENTO. ART. 205 C.P. AGRAVADO ART. 211 N.8 . CON INTENCIÓN DE GENERAR CONTROL SOCIAL, TEMOR U OBEDIENCIA EN LA COMUNIDAD', 'DAÑO INFORMATICO ART 269D LEY 1273 DE 2009, AGRAVADO POR APROVECHARSE DE LA CONFIANZA DEPOSITADA POR EL POSEEDOR DE LA INFORMACION O POR QUIEN TUVIERE UN VINCULO CONTRACTUAL CON ESTE. ART. 269H N3', 'ACOSO SEXUAL ART. 210A AGRAVADO ART. 211 N.2.RESPONSABLE CARACTER, POSICION O CARGO QUE LE DE PARTICULAR AUTORIDAD SOBRE LA VICTIMA O LA IMPULSE A DEPOSITAR EN EL SU CONFIANZA', 'DEL HURTO', 'DELITOS CONTRA EL PATRIMONIO ECONOMICO', 'DEFORESTACION ART.330 C.P.', 'HURTO MENOR CUANTIA. ART. 239 C.P. AGRAVADO POR APROVECHAMIENTO DE CALAMIDAD ART. 241 C.P. N.1', 'DELITOS CONTRA MECANISMOS DE PARTICIPACION DEMOCRATICA', 'TERRORISMO ART. 343 C.P. AGRAVADO POR ASALTAR INSTALACIONES DE LA FUERZA PUBLICA, CUERPOS DE SEGURIDAD O SEDES DIPLOMATI', 'CONCIERTO PARA DELINQUIR AGRAVADO POR DARSE PARA DESAPARICION FORZADA ART. 340 C.P. INC.2', 'INCENDIO ART. 350 C.P.  MODALIDAD CULPOSA ART.360 C.P.', 'LESIONES CULPOSAS ART. 120 C.P.AGRAVADO POR TRANSPORTE PASAJEROS SIN REQUISITOS ART. 110 N. 4 C.P.', 'HURTO CALIFICADO DE AUTOMOTOR MENOR CUANTIA  ART. 240 C.P. AGRAVADO VALIENDOSE DE ACTIVIDAD DE INIMPUTABLE ART. 241 C.P. N.3', 'TORTURA ART. 178 C.P. AGRAVADO VICTIMA CON CALIDADES ENUMERADAS ART. 179 N.4', 'DE LOS DELITOS CONTRA LOS RECURSOS NATURALES Y EL MEDIO AMBIENTE', 'UTILIZACION ILICITA DE EQUIPOS TRANSMISORES O RECEPTORES. ART. 197 C.P.', 'HURTO CALIFICADO DE AUTOMOTOR MAYOR CUANTIA  ART. 240 C.P. AGRAVADO POR APROVECHAMIENTO DE CALAMIDAD ART. 241 C.P. N.1', 'HURTO MENOR CUANTIA. ART. 239 C.P. AGRAVADO CUANDO LO HURTADO SON ARMAS DESTINADAS A LA SEGURIDAD PUBLICA ART. 241 C.P. N.12', 'USURPACION DE DERECHOS DE PROPIEDAD INDUSTRIAL Y DERECHOS DE OBTENTORES DE VARIEDADES VEGETALES ART. 306 C.P. Modificado Art. 4 ley 1032 de 2006 POR FINANCIACION SUMINISTRO O DISTRIBUCION', 'DE LA VIOLACION', 'DELITOS CONTRA LA FE PUBLICA', 'PERTURBACION DE CERTAMEN DEMOCRATICO ART. 386 C.P.', 'VIOLACION AL REGIMEN LEGAL O CONSTITUCIONAL DE INHABILIDADES E INCOMPATIBILIDADES ART. 408 C.P.', 'ABANDONO DE HIJO FRUTO DE ACCESO CARNAL VIOLENTO  ABUSIVO O DE INSEMINACION ARTIFICIAL O TRANSFERENCIA DE OVULO FECUNDADO NO CONSENTIDAS ART. 128 C.P.', 'ALZAMIENTO DE BIENES. ART. 253 C.P. MAYOR CUANTIA']\n"
          ]
        }
      ]
    },
    {
      "cell_type": "code",
      "source": [
        "indices"
      ],
      "metadata": {
        "colab": {
          "base_uri": "https://localhost:8080/"
        },
        "id": "dbIh9GNtT2RN",
        "outputId": "417cf70b-efd9-4e3b-b6ad-988213816d4a"
      },
      "execution_count": 77,
      "outputs": [
        {
          "output_type": "execute_result",
          "data": {
            "text/plain": [
              "['Ley 906', 'Ley 1098', 'Jurisdicción Menores', 'LEY 600']"
            ]
          },
          "metadata": {},
          "execution_count": 77
        }
      ]
    },
    {
      "cell_type": "code",
      "source": [
        "with open('Glorasio.json','w') as file:\n",
        "  file.write(str(indices))"
      ],
      "metadata": {
        "id": "1F5Q1Mr5NacI"
      },
      "execution_count": 81,
      "outputs": []
    },
    {
      "cell_type": "code",
      "source": [
        "Model.save(f'Modelo_acc_{str(int(evaluate[-1]*1000))}.h5')#modelo util para backend"
      ],
      "metadata": {
        "id": "ZLS5Mxq2loKY"
      },
      "execution_count": 33,
      "outputs": []
    },
    {
      "cell_type": "markdown",
      "source": [
        "# Guardar modelo tenserflow js\n",
        "***\n",
        "guardaremos nuestor modelo en un archivo *.json* con el fin de poder incluirlos en el frontend."
      ],
      "metadata": {
        "id": "V1VFkDYApuRL"
      }
    },
    {
      "cell_type": "code",
      "source": [
        "model_json=Model.to_json()#crear modelo json\n",
        "\n",
        "#guardar modelo\n",
        "with open('model_json.json','w') as file:\n",
        "  file.write(model_json)"
      ],
      "metadata": {
        "id": "cOT204xoqB5i"
      },
      "execution_count": 34,
      "outputs": []
    }
  ],
  "metadata": {
    "colab": {
      "name": "feminicidios.ipynb",
      "provenance": [],
      "authorship_tag": "ABX9TyMMuz8wwl35TrFV36okq2rc",
      "include_colab_link": true
    },
    "kernelspec": {
      "display_name": "Python 3",
      "name": "python3"
    },
    "language_info": {
      "name": "python"
    }
  },
  "nbformat": 4,
  "nbformat_minor": 0
}