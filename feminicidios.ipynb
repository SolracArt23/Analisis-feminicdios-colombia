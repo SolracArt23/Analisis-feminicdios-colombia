{
  "cells": [
    {
      "cell_type": "markdown",
      "metadata": {
        "id": "view-in-github",
        "colab_type": "text"
      },
      "source": [
        "<a href=\"https://colab.research.google.com/github/SolracArt23/Analisis-feminicdios-colombia/blob/main/feminicidios.ipynb\" target=\"_parent\"><img src=\"https://colab.research.google.com/assets/colab-badge.svg\" alt=\"Open In Colab\"/></a>"
      ]
    },
    {
      "cell_type": "markdown",
      "metadata": {
        "id": "TZBOVygPRVGm"
      },
      "source": [
        "# Analisis de feminicidios colombia 2015-2020"
      ]
    },
    {
      "cell_type": "markdown",
      "metadata": {
        "id": "VB9NsEIARiBc"
      },
      "source": [
        "**Objetivo principal:**\n",
        "****\n",
        "Analizaremos los tipos de violencia presentes en los distintos municipios, teniendo como conocimiento la edad de la victima, tipo de daño y leyes aplicadas, con el fin de graficar relacion departamento tipo de agresiones femeninas."
      ]
    },
    {
      "cell_type": "code",
      "execution_count": null,
      "metadata": {
        "id": "7hYiCNJHRRys"
      },
      "outputs": [],
      "source": [
        "#Importaciones\n",
        "import pandas as pd\n",
        "import numpy as np\n",
        "import matplotlib.pyplot as plt\n",
        "import keras as kr\n",
        "import seaborn as sns"
      ]
    },
    {
      "cell_type": "markdown",
      "metadata": {
        "id": "93XnidpZTDon"
      },
      "source": [
        "**Datos**\n",
        "****\n",
        "Datos recolectados de [datos feminiciodios](https://www.datos.gov.co/Justicia-y-Derecho/FEMINICIDIOS-EN-COLOMBIA-2015-2020-/besk-ypw5)"
      ]
    },
    {
      "cell_type": "code",
      "execution_count": null,
      "metadata": {
        "colab": {
          "base_uri": "https://localhost:8080/",
          "height": 661
        },
        "id": "YNxYVW-DV7Ra",
        "outputId": "1b77a796-0235-49f1-c3f0-619e89834aed"
      },
      "outputs": [
        {
          "output_type": "execute_result",
          "data": {
            "text/plain": [
              "       HECHO RUPTURA CONEXO ESTADO_NOTICIA        ETAPA  ANIO_DENUNCIA  \\\n",
              "0         SI      NO     NO       INACTIVO  QUERELLABLE           2016   \n",
              "1         SI      NO     NO       INACTIVO  QUERELLABLE           2019   \n",
              "2         SI      NO     NO       INACTIVO  QUERELLABLE           2017   \n",
              "3         NO      NO     NO       INACTIVO   INDAGACIÓN           2019   \n",
              "4         SI      NO     NO       INACTIVO  QUERELLABLE           2020   \n",
              "...      ...     ...    ...            ...          ...            ...   \n",
              "931561    SI      NO     NO       INACTIVO  QUERELLABLE           2013   \n",
              "931562    SI      NO     NO       INACTIVO  QUERELLABLE           2016   \n",
              "931563    SI      NO     NO       INACTIVO   INDAGACIÓN           2019   \n",
              "931564    NO      NO     NO       INACTIVO   INDAGACIÓN           2018   \n",
              "931565    SI      NO     NO       INACTIVO  QUERELLABLE           2019   \n",
              "\n",
              "        ANIO_ENTRADA  ANIO_HECHO       LEY      PAIS  ... IMPUTACION CONDENA  \\\n",
              "0               2016        2016   Ley 906  Colombia  ...         NO      NO   \n",
              "1               2019        2019   Ley 906  Colombia  ...         NO      NO   \n",
              "2               2017        2017   Ley 906  Colombia  ...         NO      NO   \n",
              "3               2019        2019   Ley 906  Colombia  ...         NO      NO   \n",
              "4               2020        2019   Ley 906  Colombia  ...         NO      NO   \n",
              "...              ...         ...       ...       ...  ...        ...     ...   \n",
              "931561          2013        2013   Ley 906  Colombia  ...         NO      NO   \n",
              "931562          2016        2016  Ley 1098  Colombia  ...         NO      NO   \n",
              "931563          2019        2019   Ley 906  Colombia  ...         NO      NO   \n",
              "931564          2018        2018   Ley 906  Colombia  ...         NO      NO   \n",
              "931565          2019        2018   Ley 906  Colombia  ...         NO      NO   \n",
              "\n",
              "       ATIPICIDAD_INEXISTENCIA ACUSACION CAPTURA SEXO_VICTIMA  \\\n",
              "0                           NO        NO      NO     FEMENINO   \n",
              "1                           NO        NO      NO    MASCULINO   \n",
              "2                           NO        NO      NO    MASCULINO   \n",
              "3                           SI        NO      NO          NaN   \n",
              "4                           NO        NO      NO     FEMENINO   \n",
              "...                        ...       ...     ...          ...   \n",
              "931561                      NO        NO      NO          NaN   \n",
              "931562                      NO        NO      NO     FEMENINO   \n",
              "931563                      NO        NO      SI    MASCULINO   \n",
              "931564                      SI        NO      NO    MASCULINO   \n",
              "931565                      NO        NO      NO       MASCUL   \n",
              "\n",
              "        GRUPO_EDAD_VICTIMA PAIS_NACIMIENTO HOMICIDIO_DOLOSO_CONSUMADO  \\\n",
              "0          ADULTEZ 29 - 59        Colombia                         NO   \n",
              "1          ADULTEZ 29 - 59        Colombia                         NO   \n",
              "2         JUVENTUD 18 - 28        Colombia                         NO   \n",
              "3                 SIN DATO             NaN                         NO   \n",
              "4         JUVENTUD 18 - 28        Colombia                         NO   \n",
              "...                    ...             ...                        ...   \n",
              "931561            SIN DATO        Colombia                         NO   \n",
              "931562     ADULTEZ 29 - 59        Colombia                         NO   \n",
              "931563  ADULTO MAYOR DE 60        Colombia                         NO   \n",
              "931564     ADULTEZ 29 - 59        Colombia                         NO   \n",
              "931565                 NaN             NaN                        NaN   \n",
              "\n",
              "       TOTAL_VICTIMAS  \n",
              "0               143.0  \n",
              "1                28.0  \n",
              "2                 1.0  \n",
              "3                28.0  \n",
              "4                12.0  \n",
              "...               ...  \n",
              "931561            1.0  \n",
              "931562            1.0  \n",
              "931563            1.0  \n",
              "931564            1.0  \n",
              "931565            NaN  \n",
              "\n",
              "[931566 rows x 25 columns]"
            ],
            "text/html": [
              "\n",
              "  <div id=\"df-773d9bc5-e4d1-4998-b34c-39147846cc7a\">\n",
              "    <div class=\"colab-df-container\">\n",
              "      <div>\n",
              "<style scoped>\n",
              "    .dataframe tbody tr th:only-of-type {\n",
              "        vertical-align: middle;\n",
              "    }\n",
              "\n",
              "    .dataframe tbody tr th {\n",
              "        vertical-align: top;\n",
              "    }\n",
              "\n",
              "    .dataframe thead th {\n",
              "        text-align: right;\n",
              "    }\n",
              "</style>\n",
              "<table border=\"1\" class=\"dataframe\">\n",
              "  <thead>\n",
              "    <tr style=\"text-align: right;\">\n",
              "      <th></th>\n",
              "      <th>HECHO</th>\n",
              "      <th>RUPTURA</th>\n",
              "      <th>CONEXO</th>\n",
              "      <th>ESTADO_NOTICIA</th>\n",
              "      <th>ETAPA</th>\n",
              "      <th>ANIO_DENUNCIA</th>\n",
              "      <th>ANIO_ENTRADA</th>\n",
              "      <th>ANIO_HECHO</th>\n",
              "      <th>LEY</th>\n",
              "      <th>PAIS</th>\n",
              "      <th>...</th>\n",
              "      <th>IMPUTACION</th>\n",
              "      <th>CONDENA</th>\n",
              "      <th>ATIPICIDAD_INEXISTENCIA</th>\n",
              "      <th>ACUSACION</th>\n",
              "      <th>CAPTURA</th>\n",
              "      <th>SEXO_VICTIMA</th>\n",
              "      <th>GRUPO_EDAD_VICTIMA</th>\n",
              "      <th>PAIS_NACIMIENTO</th>\n",
              "      <th>HOMICIDIO_DOLOSO_CONSUMADO</th>\n",
              "      <th>TOTAL_VICTIMAS</th>\n",
              "    </tr>\n",
              "  </thead>\n",
              "  <tbody>\n",
              "    <tr>\n",
              "      <th>0</th>\n",
              "      <td>SI</td>\n",
              "      <td>NO</td>\n",
              "      <td>NO</td>\n",
              "      <td>INACTIVO</td>\n",
              "      <td>QUERELLABLE</td>\n",
              "      <td>2016</td>\n",
              "      <td>2016</td>\n",
              "      <td>2016</td>\n",
              "      <td>Ley 906</td>\n",
              "      <td>Colombia</td>\n",
              "      <td>...</td>\n",
              "      <td>NO</td>\n",
              "      <td>NO</td>\n",
              "      <td>NO</td>\n",
              "      <td>NO</td>\n",
              "      <td>NO</td>\n",
              "      <td>FEMENINO</td>\n",
              "      <td>ADULTEZ 29 - 59</td>\n",
              "      <td>Colombia</td>\n",
              "      <td>NO</td>\n",
              "      <td>143.0</td>\n",
              "    </tr>\n",
              "    <tr>\n",
              "      <th>1</th>\n",
              "      <td>SI</td>\n",
              "      <td>NO</td>\n",
              "      <td>NO</td>\n",
              "      <td>INACTIVO</td>\n",
              "      <td>QUERELLABLE</td>\n",
              "      <td>2019</td>\n",
              "      <td>2019</td>\n",
              "      <td>2019</td>\n",
              "      <td>Ley 906</td>\n",
              "      <td>Colombia</td>\n",
              "      <td>...</td>\n",
              "      <td>NO</td>\n",
              "      <td>NO</td>\n",
              "      <td>NO</td>\n",
              "      <td>NO</td>\n",
              "      <td>NO</td>\n",
              "      <td>MASCULINO</td>\n",
              "      <td>ADULTEZ 29 - 59</td>\n",
              "      <td>Colombia</td>\n",
              "      <td>NO</td>\n",
              "      <td>28.0</td>\n",
              "    </tr>\n",
              "    <tr>\n",
              "      <th>2</th>\n",
              "      <td>SI</td>\n",
              "      <td>NO</td>\n",
              "      <td>NO</td>\n",
              "      <td>INACTIVO</td>\n",
              "      <td>QUERELLABLE</td>\n",
              "      <td>2017</td>\n",
              "      <td>2017</td>\n",
              "      <td>2017</td>\n",
              "      <td>Ley 906</td>\n",
              "      <td>Colombia</td>\n",
              "      <td>...</td>\n",
              "      <td>NO</td>\n",
              "      <td>NO</td>\n",
              "      <td>NO</td>\n",
              "      <td>NO</td>\n",
              "      <td>NO</td>\n",
              "      <td>MASCULINO</td>\n",
              "      <td>JUVENTUD 18 - 28</td>\n",
              "      <td>Colombia</td>\n",
              "      <td>NO</td>\n",
              "      <td>1.0</td>\n",
              "    </tr>\n",
              "    <tr>\n",
              "      <th>3</th>\n",
              "      <td>NO</td>\n",
              "      <td>NO</td>\n",
              "      <td>NO</td>\n",
              "      <td>INACTIVO</td>\n",
              "      <td>INDAGACIÓN</td>\n",
              "      <td>2019</td>\n",
              "      <td>2019</td>\n",
              "      <td>2019</td>\n",
              "      <td>Ley 906</td>\n",
              "      <td>Colombia</td>\n",
              "      <td>...</td>\n",
              "      <td>NO</td>\n",
              "      <td>NO</td>\n",
              "      <td>SI</td>\n",
              "      <td>NO</td>\n",
              "      <td>NO</td>\n",
              "      <td>NaN</td>\n",
              "      <td>SIN DATO</td>\n",
              "      <td>NaN</td>\n",
              "      <td>NO</td>\n",
              "      <td>28.0</td>\n",
              "    </tr>\n",
              "    <tr>\n",
              "      <th>4</th>\n",
              "      <td>SI</td>\n",
              "      <td>NO</td>\n",
              "      <td>NO</td>\n",
              "      <td>INACTIVO</td>\n",
              "      <td>QUERELLABLE</td>\n",
              "      <td>2020</td>\n",
              "      <td>2020</td>\n",
              "      <td>2019</td>\n",
              "      <td>Ley 906</td>\n",
              "      <td>Colombia</td>\n",
              "      <td>...</td>\n",
              "      <td>NO</td>\n",
              "      <td>NO</td>\n",
              "      <td>NO</td>\n",
              "      <td>NO</td>\n",
              "      <td>NO</td>\n",
              "      <td>FEMENINO</td>\n",
              "      <td>JUVENTUD 18 - 28</td>\n",
              "      <td>Colombia</td>\n",
              "      <td>NO</td>\n",
              "      <td>12.0</td>\n",
              "    </tr>\n",
              "    <tr>\n",
              "      <th>...</th>\n",
              "      <td>...</td>\n",
              "      <td>...</td>\n",
              "      <td>...</td>\n",
              "      <td>...</td>\n",
              "      <td>...</td>\n",
              "      <td>...</td>\n",
              "      <td>...</td>\n",
              "      <td>...</td>\n",
              "      <td>...</td>\n",
              "      <td>...</td>\n",
              "      <td>...</td>\n",
              "      <td>...</td>\n",
              "      <td>...</td>\n",
              "      <td>...</td>\n",
              "      <td>...</td>\n",
              "      <td>...</td>\n",
              "      <td>...</td>\n",
              "      <td>...</td>\n",
              "      <td>...</td>\n",
              "      <td>...</td>\n",
              "      <td>...</td>\n",
              "    </tr>\n",
              "    <tr>\n",
              "      <th>931561</th>\n",
              "      <td>SI</td>\n",
              "      <td>NO</td>\n",
              "      <td>NO</td>\n",
              "      <td>INACTIVO</td>\n",
              "      <td>QUERELLABLE</td>\n",
              "      <td>2013</td>\n",
              "      <td>2013</td>\n",
              "      <td>2013</td>\n",
              "      <td>Ley 906</td>\n",
              "      <td>Colombia</td>\n",
              "      <td>...</td>\n",
              "      <td>NO</td>\n",
              "      <td>NO</td>\n",
              "      <td>NO</td>\n",
              "      <td>NO</td>\n",
              "      <td>NO</td>\n",
              "      <td>NaN</td>\n",
              "      <td>SIN DATO</td>\n",
              "      <td>Colombia</td>\n",
              "      <td>NO</td>\n",
              "      <td>1.0</td>\n",
              "    </tr>\n",
              "    <tr>\n",
              "      <th>931562</th>\n",
              "      <td>SI</td>\n",
              "      <td>NO</td>\n",
              "      <td>NO</td>\n",
              "      <td>INACTIVO</td>\n",
              "      <td>QUERELLABLE</td>\n",
              "      <td>2016</td>\n",
              "      <td>2016</td>\n",
              "      <td>2016</td>\n",
              "      <td>Ley 1098</td>\n",
              "      <td>Colombia</td>\n",
              "      <td>...</td>\n",
              "      <td>NO</td>\n",
              "      <td>NO</td>\n",
              "      <td>NO</td>\n",
              "      <td>NO</td>\n",
              "      <td>NO</td>\n",
              "      <td>FEMENINO</td>\n",
              "      <td>ADULTEZ 29 - 59</td>\n",
              "      <td>Colombia</td>\n",
              "      <td>NO</td>\n",
              "      <td>1.0</td>\n",
              "    </tr>\n",
              "    <tr>\n",
              "      <th>931563</th>\n",
              "      <td>SI</td>\n",
              "      <td>NO</td>\n",
              "      <td>NO</td>\n",
              "      <td>INACTIVO</td>\n",
              "      <td>INDAGACIÓN</td>\n",
              "      <td>2019</td>\n",
              "      <td>2019</td>\n",
              "      <td>2019</td>\n",
              "      <td>Ley 906</td>\n",
              "      <td>Colombia</td>\n",
              "      <td>...</td>\n",
              "      <td>NO</td>\n",
              "      <td>NO</td>\n",
              "      <td>NO</td>\n",
              "      <td>NO</td>\n",
              "      <td>SI</td>\n",
              "      <td>MASCULINO</td>\n",
              "      <td>ADULTO MAYOR DE 60</td>\n",
              "      <td>Colombia</td>\n",
              "      <td>NO</td>\n",
              "      <td>1.0</td>\n",
              "    </tr>\n",
              "    <tr>\n",
              "      <th>931564</th>\n",
              "      <td>NO</td>\n",
              "      <td>NO</td>\n",
              "      <td>NO</td>\n",
              "      <td>INACTIVO</td>\n",
              "      <td>INDAGACIÓN</td>\n",
              "      <td>2018</td>\n",
              "      <td>2018</td>\n",
              "      <td>2018</td>\n",
              "      <td>Ley 906</td>\n",
              "      <td>Colombia</td>\n",
              "      <td>...</td>\n",
              "      <td>NO</td>\n",
              "      <td>NO</td>\n",
              "      <td>SI</td>\n",
              "      <td>NO</td>\n",
              "      <td>NO</td>\n",
              "      <td>MASCULINO</td>\n",
              "      <td>ADULTEZ 29 - 59</td>\n",
              "      <td>Colombia</td>\n",
              "      <td>NO</td>\n",
              "      <td>1.0</td>\n",
              "    </tr>\n",
              "    <tr>\n",
              "      <th>931565</th>\n",
              "      <td>SI</td>\n",
              "      <td>NO</td>\n",
              "      <td>NO</td>\n",
              "      <td>INACTIVO</td>\n",
              "      <td>QUERELLABLE</td>\n",
              "      <td>2019</td>\n",
              "      <td>2019</td>\n",
              "      <td>2018</td>\n",
              "      <td>Ley 906</td>\n",
              "      <td>Colombia</td>\n",
              "      <td>...</td>\n",
              "      <td>NO</td>\n",
              "      <td>NO</td>\n",
              "      <td>NO</td>\n",
              "      <td>NO</td>\n",
              "      <td>NO</td>\n",
              "      <td>MASCUL</td>\n",
              "      <td>NaN</td>\n",
              "      <td>NaN</td>\n",
              "      <td>NaN</td>\n",
              "      <td>NaN</td>\n",
              "    </tr>\n",
              "  </tbody>\n",
              "</table>\n",
              "<p>931566 rows × 25 columns</p>\n",
              "</div>\n",
              "      <button class=\"colab-df-convert\" onclick=\"convertToInteractive('df-773d9bc5-e4d1-4998-b34c-39147846cc7a')\"\n",
              "              title=\"Convert this dataframe to an interactive table.\"\n",
              "              style=\"display:none;\">\n",
              "        \n",
              "  <svg xmlns=\"http://www.w3.org/2000/svg\" height=\"24px\"viewBox=\"0 0 24 24\"\n",
              "       width=\"24px\">\n",
              "    <path d=\"M0 0h24v24H0V0z\" fill=\"none\"/>\n",
              "    <path d=\"M18.56 5.44l.94 2.06.94-2.06 2.06-.94-2.06-.94-.94-2.06-.94 2.06-2.06.94zm-11 1L8.5 8.5l.94-2.06 2.06-.94-2.06-.94L8.5 2.5l-.94 2.06-2.06.94zm10 10l.94 2.06.94-2.06 2.06-.94-2.06-.94-.94-2.06-.94 2.06-2.06.94z\"/><path d=\"M17.41 7.96l-1.37-1.37c-.4-.4-.92-.59-1.43-.59-.52 0-1.04.2-1.43.59L10.3 9.45l-7.72 7.72c-.78.78-.78 2.05 0 2.83L4 21.41c.39.39.9.59 1.41.59.51 0 1.02-.2 1.41-.59l7.78-7.78 2.81-2.81c.8-.78.8-2.07 0-2.86zM5.41 20L4 18.59l7.72-7.72 1.47 1.35L5.41 20z\"/>\n",
              "  </svg>\n",
              "      </button>\n",
              "      \n",
              "  <style>\n",
              "    .colab-df-container {\n",
              "      display:flex;\n",
              "      flex-wrap:wrap;\n",
              "      gap: 12px;\n",
              "    }\n",
              "\n",
              "    .colab-df-convert {\n",
              "      background-color: #E8F0FE;\n",
              "      border: none;\n",
              "      border-radius: 50%;\n",
              "      cursor: pointer;\n",
              "      display: none;\n",
              "      fill: #1967D2;\n",
              "      height: 32px;\n",
              "      padding: 0 0 0 0;\n",
              "      width: 32px;\n",
              "    }\n",
              "\n",
              "    .colab-df-convert:hover {\n",
              "      background-color: #E2EBFA;\n",
              "      box-shadow: 0px 1px 2px rgba(60, 64, 67, 0.3), 0px 1px 3px 1px rgba(60, 64, 67, 0.15);\n",
              "      fill: #174EA6;\n",
              "    }\n",
              "\n",
              "    [theme=dark] .colab-df-convert {\n",
              "      background-color: #3B4455;\n",
              "      fill: #D2E3FC;\n",
              "    }\n",
              "\n",
              "    [theme=dark] .colab-df-convert:hover {\n",
              "      background-color: #434B5C;\n",
              "      box-shadow: 0px 1px 3px 1px rgba(0, 0, 0, 0.15);\n",
              "      filter: drop-shadow(0px 1px 2px rgba(0, 0, 0, 0.3));\n",
              "      fill: #FFFFFF;\n",
              "    }\n",
              "  </style>\n",
              "\n",
              "      <script>\n",
              "        const buttonEl =\n",
              "          document.querySelector('#df-773d9bc5-e4d1-4998-b34c-39147846cc7a button.colab-df-convert');\n",
              "        buttonEl.style.display =\n",
              "          google.colab.kernel.accessAllowed ? 'block' : 'none';\n",
              "\n",
              "        async function convertToInteractive(key) {\n",
              "          const element = document.querySelector('#df-773d9bc5-e4d1-4998-b34c-39147846cc7a');\n",
              "          const dataTable =\n",
              "            await google.colab.kernel.invokeFunction('convertToInteractive',\n",
              "                                                     [key], {});\n",
              "          if (!dataTable) return;\n",
              "\n",
              "          const docLinkHtml = 'Like what you see? Visit the ' +\n",
              "            '<a target=\"_blank\" href=https://colab.research.google.com/notebooks/data_table.ipynb>data table notebook</a>'\n",
              "            + ' to learn more about interactive tables.';\n",
              "          element.innerHTML = '';\n",
              "          dataTable['output_type'] = 'display_data';\n",
              "          await google.colab.output.renderOutput(dataTable, element);\n",
              "          const docLink = document.createElement('div');\n",
              "          docLink.innerHTML = docLinkHtml;\n",
              "          element.appendChild(docLink);\n",
              "        }\n",
              "      </script>\n",
              "    </div>\n",
              "  </div>\n",
              "  "
            ]
          },
          "metadata": {},
          "execution_count": 49
        }
      ],
      "source": [
        "Datos=pd.read_csv('/content/Conteo_de_V_ctimas.csv')\n",
        "Datos"
      ]
    },
    {
      "cell_type": "markdown",
      "metadata": {
        "id": "eLWnClN8gRVd"
      },
      "source": [
        "# Relacion de  delitos por depatamento"
      ]
    },
    {
      "cell_type": "markdown",
      "metadata": {
        "id": "3CBXRnBhiMBh"
      },
      "source": [
        "**Eliminar datos inconclusos**\n",
        "***\n",
        "Para proseguir con la creacion de modelo optimo debemos eliminar cualquier tipo de dato incncluso ya sea un **Null** o **Nan**  para eso eliminaremos cada fila de datos inconclusos"
      ]
    },
    {
      "cell_type": "code",
      "execution_count": null,
      "metadata": {
        "colab": {
          "base_uri": "https://localhost:8080/",
          "height": 661
        },
        "id": "bCk-U5qUC7Ro",
        "outputId": "6eb66ace-4222-44fa-aacf-6b20a1ef8779"
      },
      "outputs": [
        {
          "output_type": "execute_result",
          "data": {
            "text/plain": [
              "       HECHO RUPTURA CONEXO ESTADO_NOTICIA        ETAPA  ANIO_DENUNCIA  \\\n",
              "0         SI      NO     NO       INACTIVO  QUERELLABLE           2016   \n",
              "1         SI      NO     NO       INACTIVO  QUERELLABLE           2019   \n",
              "2         SI      NO     NO       INACTIVO  QUERELLABLE           2017   \n",
              "4         SI      NO     NO       INACTIVO  QUERELLABLE           2020   \n",
              "5         SI      NO     NO       INACTIVO  QUERELLABLE           2019   \n",
              "...      ...     ...    ...            ...          ...            ...   \n",
              "931559    NO      NO     NO       INACTIVO   INDAGACIÓN           2016   \n",
              "931560    SI      NO     NO         ACTIVO   INDAGACIÓN           2020   \n",
              "931562    SI      NO     NO       INACTIVO  QUERELLABLE           2016   \n",
              "931563    SI      NO     NO       INACTIVO   INDAGACIÓN           2019   \n",
              "931564    NO      NO     NO       INACTIVO   INDAGACIÓN           2018   \n",
              "\n",
              "        ANIO_ENTRADA  ANIO_HECHO       LEY      PAIS  ... IMPUTACION CONDENA  \\\n",
              "0               2016        2016   Ley 906  Colombia  ...         NO      NO   \n",
              "1               2019        2019   Ley 906  Colombia  ...         NO      NO   \n",
              "2               2017        2017   Ley 906  Colombia  ...         NO      NO   \n",
              "4               2020        2019   Ley 906  Colombia  ...         NO      NO   \n",
              "5               2019        2019   Ley 906  Colombia  ...         NO      NO   \n",
              "...              ...         ...       ...       ...  ...        ...     ...   \n",
              "931559          2016        2016   Ley 906  Colombia  ...         NO      NO   \n",
              "931560          2020        2020   Ley 906  Colombia  ...         NO      NO   \n",
              "931562          2016        2016  Ley 1098  Colombia  ...         NO      NO   \n",
              "931563          2019        2019   Ley 906  Colombia  ...         NO      NO   \n",
              "931564          2018        2018   Ley 906  Colombia  ...         NO      NO   \n",
              "\n",
              "       ATIPICIDAD_INEXISTENCIA ACUSACION CAPTURA SEXO_VICTIMA  \\\n",
              "0                           NO        NO      NO     FEMENINO   \n",
              "1                           NO        NO      NO    MASCULINO   \n",
              "2                           NO        NO      NO    MASCULINO   \n",
              "4                           NO        NO      NO     FEMENINO   \n",
              "5                           NO        NO      NO    MASCULINO   \n",
              "...                        ...       ...     ...          ...   \n",
              "931559                      SI        NO      NO    MASCULINO   \n",
              "931560                      NO        NO      NO     FEMENINO   \n",
              "931562                      NO        NO      NO     FEMENINO   \n",
              "931563                      NO        NO      SI    MASCULINO   \n",
              "931564                      SI        NO      NO    MASCULINO   \n",
              "\n",
              "            GRUPO_EDAD_VICTIMA PAIS_NACIMIENTO HOMICIDIO_DOLOSO_CONSUMADO  \\\n",
              "0              ADULTEZ 29 - 59        Colombia                         NO   \n",
              "1              ADULTEZ 29 - 59        Colombia                         NO   \n",
              "2             JUVENTUD 18 - 28        Colombia                         NO   \n",
              "4             JUVENTUD 18 - 28        Colombia                         NO   \n",
              "5              ADULTEZ 29 - 59        Colombia                         NO   \n",
              "...                        ...             ...                        ...   \n",
              "931559         ADULTEZ 29 - 59        Colombia                         NO   \n",
              "931560  PRIMERA INFANCIA 0 - 5        Colombia                         NO   \n",
              "931562         ADULTEZ 29 - 59        Colombia                         NO   \n",
              "931563      ADULTO MAYOR DE 60        Colombia                         NO   \n",
              "931564         ADULTEZ 29 - 59        Colombia                         NO   \n",
              "\n",
              "       TOTAL_VICTIMAS  \n",
              "0               143.0  \n",
              "1                28.0  \n",
              "2                 1.0  \n",
              "4                12.0  \n",
              "5                 1.0  \n",
              "...               ...  \n",
              "931559            1.0  \n",
              "931560            1.0  \n",
              "931562            1.0  \n",
              "931563            1.0  \n",
              "931564            1.0  \n",
              "\n",
              "[815693 rows x 25 columns]"
            ],
            "text/html": [
              "\n",
              "  <div id=\"df-d2fb72e7-ae4e-4057-bc7c-c81239d0e423\">\n",
              "    <div class=\"colab-df-container\">\n",
              "      <div>\n",
              "<style scoped>\n",
              "    .dataframe tbody tr th:only-of-type {\n",
              "        vertical-align: middle;\n",
              "    }\n",
              "\n",
              "    .dataframe tbody tr th {\n",
              "        vertical-align: top;\n",
              "    }\n",
              "\n",
              "    .dataframe thead th {\n",
              "        text-align: right;\n",
              "    }\n",
              "</style>\n",
              "<table border=\"1\" class=\"dataframe\">\n",
              "  <thead>\n",
              "    <tr style=\"text-align: right;\">\n",
              "      <th></th>\n",
              "      <th>HECHO</th>\n",
              "      <th>RUPTURA</th>\n",
              "      <th>CONEXO</th>\n",
              "      <th>ESTADO_NOTICIA</th>\n",
              "      <th>ETAPA</th>\n",
              "      <th>ANIO_DENUNCIA</th>\n",
              "      <th>ANIO_ENTRADA</th>\n",
              "      <th>ANIO_HECHO</th>\n",
              "      <th>LEY</th>\n",
              "      <th>PAIS</th>\n",
              "      <th>...</th>\n",
              "      <th>IMPUTACION</th>\n",
              "      <th>CONDENA</th>\n",
              "      <th>ATIPICIDAD_INEXISTENCIA</th>\n",
              "      <th>ACUSACION</th>\n",
              "      <th>CAPTURA</th>\n",
              "      <th>SEXO_VICTIMA</th>\n",
              "      <th>GRUPO_EDAD_VICTIMA</th>\n",
              "      <th>PAIS_NACIMIENTO</th>\n",
              "      <th>HOMICIDIO_DOLOSO_CONSUMADO</th>\n",
              "      <th>TOTAL_VICTIMAS</th>\n",
              "    </tr>\n",
              "  </thead>\n",
              "  <tbody>\n",
              "    <tr>\n",
              "      <th>0</th>\n",
              "      <td>SI</td>\n",
              "      <td>NO</td>\n",
              "      <td>NO</td>\n",
              "      <td>INACTIVO</td>\n",
              "      <td>QUERELLABLE</td>\n",
              "      <td>2016</td>\n",
              "      <td>2016</td>\n",
              "      <td>2016</td>\n",
              "      <td>Ley 906</td>\n",
              "      <td>Colombia</td>\n",
              "      <td>...</td>\n",
              "      <td>NO</td>\n",
              "      <td>NO</td>\n",
              "      <td>NO</td>\n",
              "      <td>NO</td>\n",
              "      <td>NO</td>\n",
              "      <td>FEMENINO</td>\n",
              "      <td>ADULTEZ 29 - 59</td>\n",
              "      <td>Colombia</td>\n",
              "      <td>NO</td>\n",
              "      <td>143.0</td>\n",
              "    </tr>\n",
              "    <tr>\n",
              "      <th>1</th>\n",
              "      <td>SI</td>\n",
              "      <td>NO</td>\n",
              "      <td>NO</td>\n",
              "      <td>INACTIVO</td>\n",
              "      <td>QUERELLABLE</td>\n",
              "      <td>2019</td>\n",
              "      <td>2019</td>\n",
              "      <td>2019</td>\n",
              "      <td>Ley 906</td>\n",
              "      <td>Colombia</td>\n",
              "      <td>...</td>\n",
              "      <td>NO</td>\n",
              "      <td>NO</td>\n",
              "      <td>NO</td>\n",
              "      <td>NO</td>\n",
              "      <td>NO</td>\n",
              "      <td>MASCULINO</td>\n",
              "      <td>ADULTEZ 29 - 59</td>\n",
              "      <td>Colombia</td>\n",
              "      <td>NO</td>\n",
              "      <td>28.0</td>\n",
              "    </tr>\n",
              "    <tr>\n",
              "      <th>2</th>\n",
              "      <td>SI</td>\n",
              "      <td>NO</td>\n",
              "      <td>NO</td>\n",
              "      <td>INACTIVO</td>\n",
              "      <td>QUERELLABLE</td>\n",
              "      <td>2017</td>\n",
              "      <td>2017</td>\n",
              "      <td>2017</td>\n",
              "      <td>Ley 906</td>\n",
              "      <td>Colombia</td>\n",
              "      <td>...</td>\n",
              "      <td>NO</td>\n",
              "      <td>NO</td>\n",
              "      <td>NO</td>\n",
              "      <td>NO</td>\n",
              "      <td>NO</td>\n",
              "      <td>MASCULINO</td>\n",
              "      <td>JUVENTUD 18 - 28</td>\n",
              "      <td>Colombia</td>\n",
              "      <td>NO</td>\n",
              "      <td>1.0</td>\n",
              "    </tr>\n",
              "    <tr>\n",
              "      <th>4</th>\n",
              "      <td>SI</td>\n",
              "      <td>NO</td>\n",
              "      <td>NO</td>\n",
              "      <td>INACTIVO</td>\n",
              "      <td>QUERELLABLE</td>\n",
              "      <td>2020</td>\n",
              "      <td>2020</td>\n",
              "      <td>2019</td>\n",
              "      <td>Ley 906</td>\n",
              "      <td>Colombia</td>\n",
              "      <td>...</td>\n",
              "      <td>NO</td>\n",
              "      <td>NO</td>\n",
              "      <td>NO</td>\n",
              "      <td>NO</td>\n",
              "      <td>NO</td>\n",
              "      <td>FEMENINO</td>\n",
              "      <td>JUVENTUD 18 - 28</td>\n",
              "      <td>Colombia</td>\n",
              "      <td>NO</td>\n",
              "      <td>12.0</td>\n",
              "    </tr>\n",
              "    <tr>\n",
              "      <th>5</th>\n",
              "      <td>SI</td>\n",
              "      <td>NO</td>\n",
              "      <td>NO</td>\n",
              "      <td>INACTIVO</td>\n",
              "      <td>QUERELLABLE</td>\n",
              "      <td>2019</td>\n",
              "      <td>2019</td>\n",
              "      <td>2019</td>\n",
              "      <td>Ley 906</td>\n",
              "      <td>Colombia</td>\n",
              "      <td>...</td>\n",
              "      <td>NO</td>\n",
              "      <td>NO</td>\n",
              "      <td>NO</td>\n",
              "      <td>NO</td>\n",
              "      <td>NO</td>\n",
              "      <td>MASCULINO</td>\n",
              "      <td>ADULTEZ 29 - 59</td>\n",
              "      <td>Colombia</td>\n",
              "      <td>NO</td>\n",
              "      <td>1.0</td>\n",
              "    </tr>\n",
              "    <tr>\n",
              "      <th>...</th>\n",
              "      <td>...</td>\n",
              "      <td>...</td>\n",
              "      <td>...</td>\n",
              "      <td>...</td>\n",
              "      <td>...</td>\n",
              "      <td>...</td>\n",
              "      <td>...</td>\n",
              "      <td>...</td>\n",
              "      <td>...</td>\n",
              "      <td>...</td>\n",
              "      <td>...</td>\n",
              "      <td>...</td>\n",
              "      <td>...</td>\n",
              "      <td>...</td>\n",
              "      <td>...</td>\n",
              "      <td>...</td>\n",
              "      <td>...</td>\n",
              "      <td>...</td>\n",
              "      <td>...</td>\n",
              "      <td>...</td>\n",
              "      <td>...</td>\n",
              "    </tr>\n",
              "    <tr>\n",
              "      <th>931559</th>\n",
              "      <td>NO</td>\n",
              "      <td>NO</td>\n",
              "      <td>NO</td>\n",
              "      <td>INACTIVO</td>\n",
              "      <td>INDAGACIÓN</td>\n",
              "      <td>2016</td>\n",
              "      <td>2016</td>\n",
              "      <td>2016</td>\n",
              "      <td>Ley 906</td>\n",
              "      <td>Colombia</td>\n",
              "      <td>...</td>\n",
              "      <td>NO</td>\n",
              "      <td>NO</td>\n",
              "      <td>SI</td>\n",
              "      <td>NO</td>\n",
              "      <td>NO</td>\n",
              "      <td>MASCULINO</td>\n",
              "      <td>ADULTEZ 29 - 59</td>\n",
              "      <td>Colombia</td>\n",
              "      <td>NO</td>\n",
              "      <td>1.0</td>\n",
              "    </tr>\n",
              "    <tr>\n",
              "      <th>931560</th>\n",
              "      <td>SI</td>\n",
              "      <td>NO</td>\n",
              "      <td>NO</td>\n",
              "      <td>ACTIVO</td>\n",
              "      <td>INDAGACIÓN</td>\n",
              "      <td>2020</td>\n",
              "      <td>2020</td>\n",
              "      <td>2020</td>\n",
              "      <td>Ley 906</td>\n",
              "      <td>Colombia</td>\n",
              "      <td>...</td>\n",
              "      <td>NO</td>\n",
              "      <td>NO</td>\n",
              "      <td>NO</td>\n",
              "      <td>NO</td>\n",
              "      <td>NO</td>\n",
              "      <td>FEMENINO</td>\n",
              "      <td>PRIMERA INFANCIA 0 - 5</td>\n",
              "      <td>Colombia</td>\n",
              "      <td>NO</td>\n",
              "      <td>1.0</td>\n",
              "    </tr>\n",
              "    <tr>\n",
              "      <th>931562</th>\n",
              "      <td>SI</td>\n",
              "      <td>NO</td>\n",
              "      <td>NO</td>\n",
              "      <td>INACTIVO</td>\n",
              "      <td>QUERELLABLE</td>\n",
              "      <td>2016</td>\n",
              "      <td>2016</td>\n",
              "      <td>2016</td>\n",
              "      <td>Ley 1098</td>\n",
              "      <td>Colombia</td>\n",
              "      <td>...</td>\n",
              "      <td>NO</td>\n",
              "      <td>NO</td>\n",
              "      <td>NO</td>\n",
              "      <td>NO</td>\n",
              "      <td>NO</td>\n",
              "      <td>FEMENINO</td>\n",
              "      <td>ADULTEZ 29 - 59</td>\n",
              "      <td>Colombia</td>\n",
              "      <td>NO</td>\n",
              "      <td>1.0</td>\n",
              "    </tr>\n",
              "    <tr>\n",
              "      <th>931563</th>\n",
              "      <td>SI</td>\n",
              "      <td>NO</td>\n",
              "      <td>NO</td>\n",
              "      <td>INACTIVO</td>\n",
              "      <td>INDAGACIÓN</td>\n",
              "      <td>2019</td>\n",
              "      <td>2019</td>\n",
              "      <td>2019</td>\n",
              "      <td>Ley 906</td>\n",
              "      <td>Colombia</td>\n",
              "      <td>...</td>\n",
              "      <td>NO</td>\n",
              "      <td>NO</td>\n",
              "      <td>NO</td>\n",
              "      <td>NO</td>\n",
              "      <td>SI</td>\n",
              "      <td>MASCULINO</td>\n",
              "      <td>ADULTO MAYOR DE 60</td>\n",
              "      <td>Colombia</td>\n",
              "      <td>NO</td>\n",
              "      <td>1.0</td>\n",
              "    </tr>\n",
              "    <tr>\n",
              "      <th>931564</th>\n",
              "      <td>NO</td>\n",
              "      <td>NO</td>\n",
              "      <td>NO</td>\n",
              "      <td>INACTIVO</td>\n",
              "      <td>INDAGACIÓN</td>\n",
              "      <td>2018</td>\n",
              "      <td>2018</td>\n",
              "      <td>2018</td>\n",
              "      <td>Ley 906</td>\n",
              "      <td>Colombia</td>\n",
              "      <td>...</td>\n",
              "      <td>NO</td>\n",
              "      <td>NO</td>\n",
              "      <td>SI</td>\n",
              "      <td>NO</td>\n",
              "      <td>NO</td>\n",
              "      <td>MASCULINO</td>\n",
              "      <td>ADULTEZ 29 - 59</td>\n",
              "      <td>Colombia</td>\n",
              "      <td>NO</td>\n",
              "      <td>1.0</td>\n",
              "    </tr>\n",
              "  </tbody>\n",
              "</table>\n",
              "<p>815693 rows × 25 columns</p>\n",
              "</div>\n",
              "      <button class=\"colab-df-convert\" onclick=\"convertToInteractive('df-d2fb72e7-ae4e-4057-bc7c-c81239d0e423')\"\n",
              "              title=\"Convert this dataframe to an interactive table.\"\n",
              "              style=\"display:none;\">\n",
              "        \n",
              "  <svg xmlns=\"http://www.w3.org/2000/svg\" height=\"24px\"viewBox=\"0 0 24 24\"\n",
              "       width=\"24px\">\n",
              "    <path d=\"M0 0h24v24H0V0z\" fill=\"none\"/>\n",
              "    <path d=\"M18.56 5.44l.94 2.06.94-2.06 2.06-.94-2.06-.94-.94-2.06-.94 2.06-2.06.94zm-11 1L8.5 8.5l.94-2.06 2.06-.94-2.06-.94L8.5 2.5l-.94 2.06-2.06.94zm10 10l.94 2.06.94-2.06 2.06-.94-2.06-.94-.94-2.06-.94 2.06-2.06.94z\"/><path d=\"M17.41 7.96l-1.37-1.37c-.4-.4-.92-.59-1.43-.59-.52 0-1.04.2-1.43.59L10.3 9.45l-7.72 7.72c-.78.78-.78 2.05 0 2.83L4 21.41c.39.39.9.59 1.41.59.51 0 1.02-.2 1.41-.59l7.78-7.78 2.81-2.81c.8-.78.8-2.07 0-2.86zM5.41 20L4 18.59l7.72-7.72 1.47 1.35L5.41 20z\"/>\n",
              "  </svg>\n",
              "      </button>\n",
              "      \n",
              "  <style>\n",
              "    .colab-df-container {\n",
              "      display:flex;\n",
              "      flex-wrap:wrap;\n",
              "      gap: 12px;\n",
              "    }\n",
              "\n",
              "    .colab-df-convert {\n",
              "      background-color: #E8F0FE;\n",
              "      border: none;\n",
              "      border-radius: 50%;\n",
              "      cursor: pointer;\n",
              "      display: none;\n",
              "      fill: #1967D2;\n",
              "      height: 32px;\n",
              "      padding: 0 0 0 0;\n",
              "      width: 32px;\n",
              "    }\n",
              "\n",
              "    .colab-df-convert:hover {\n",
              "      background-color: #E2EBFA;\n",
              "      box-shadow: 0px 1px 2px rgba(60, 64, 67, 0.3), 0px 1px 3px 1px rgba(60, 64, 67, 0.15);\n",
              "      fill: #174EA6;\n",
              "    }\n",
              "\n",
              "    [theme=dark] .colab-df-convert {\n",
              "      background-color: #3B4455;\n",
              "      fill: #D2E3FC;\n",
              "    }\n",
              "\n",
              "    [theme=dark] .colab-df-convert:hover {\n",
              "      background-color: #434B5C;\n",
              "      box-shadow: 0px 1px 3px 1px rgba(0, 0, 0, 0.15);\n",
              "      filter: drop-shadow(0px 1px 2px rgba(0, 0, 0, 0.3));\n",
              "      fill: #FFFFFF;\n",
              "    }\n",
              "  </style>\n",
              "\n",
              "      <script>\n",
              "        const buttonEl =\n",
              "          document.querySelector('#df-d2fb72e7-ae4e-4057-bc7c-c81239d0e423 button.colab-df-convert');\n",
              "        buttonEl.style.display =\n",
              "          google.colab.kernel.accessAllowed ? 'block' : 'none';\n",
              "\n",
              "        async function convertToInteractive(key) {\n",
              "          const element = document.querySelector('#df-d2fb72e7-ae4e-4057-bc7c-c81239d0e423');\n",
              "          const dataTable =\n",
              "            await google.colab.kernel.invokeFunction('convertToInteractive',\n",
              "                                                     [key], {});\n",
              "          if (!dataTable) return;\n",
              "\n",
              "          const docLinkHtml = 'Like what you see? Visit the ' +\n",
              "            '<a target=\"_blank\" href=https://colab.research.google.com/notebooks/data_table.ipynb>data table notebook</a>'\n",
              "            + ' to learn more about interactive tables.';\n",
              "          element.innerHTML = '';\n",
              "          dataTable['output_type'] = 'display_data';\n",
              "          await google.colab.output.renderOutput(dataTable, element);\n",
              "          const docLink = document.createElement('div');\n",
              "          docLink.innerHTML = docLinkHtml;\n",
              "          element.appendChild(docLink);\n",
              "        }\n",
              "      </script>\n",
              "    </div>\n",
              "  </div>\n",
              "  "
            ]
          },
          "metadata": {},
          "execution_count": 50
        }
      ],
      "source": [
        "Datos = Datos.dropna()\n",
        "Datos"
      ]
    },
    {
      "cell_type": "markdown",
      "metadata": {
        "id": "SoSR2jGxWkWA"
      },
      "source": [
        "**primer analisis**\n",
        "****\n",
        "Determinar con que frecuencia suceden cada tipo de agresiones con respecto a municipio y ciudades.Para ello usaremos un *diagrama de estratificacion* donde colocamos los tipos de agreciones y municipios presentes en los datos."
      ]
    },
    {
      "cell_type": "code",
      "execution_count": null,
      "metadata": {
        "colab": {
          "base_uri": "https://localhost:8080/",
          "height": 424
        },
        "id": "4s_TeC-DaYCo",
        "outputId": "96552691-40ba-4ecd-b313-8365f601d1c2"
      },
      "outputs": [
        {
          "output_type": "execute_result",
          "data": {
            "text/plain": [
              "              MUNICIPIO\n",
              "BOGOTÁ, D.C.      36602\n",
              "MEDELLÍN          28584\n",
              "CALI              24988\n",
              "IBAGUÉ            13063\n",
              "CÚCUTA            11912\n",
              "...                 ...\n",
              "PAPUNAUA              3\n",
              "CACAHUAL              2\n",
              "UBATÉ                 2\n",
              "LA GUADALUPE          1\n",
              "MAPIRIPANA            1\n",
              "\n",
              "[1039 rows x 1 columns]"
            ],
            "text/html": [
              "\n",
              "  <div id=\"df-88ac7227-6328-4c1d-b4fa-3ef1bce260a8\">\n",
              "    <div class=\"colab-df-container\">\n",
              "      <div>\n",
              "<style scoped>\n",
              "    .dataframe tbody tr th:only-of-type {\n",
              "        vertical-align: middle;\n",
              "    }\n",
              "\n",
              "    .dataframe tbody tr th {\n",
              "        vertical-align: top;\n",
              "    }\n",
              "\n",
              "    .dataframe thead th {\n",
              "        text-align: right;\n",
              "    }\n",
              "</style>\n",
              "<table border=\"1\" class=\"dataframe\">\n",
              "  <thead>\n",
              "    <tr style=\"text-align: right;\">\n",
              "      <th></th>\n",
              "      <th>MUNICIPIO</th>\n",
              "    </tr>\n",
              "  </thead>\n",
              "  <tbody>\n",
              "    <tr>\n",
              "      <th>BOGOTÁ, D.C.</th>\n",
              "      <td>36602</td>\n",
              "    </tr>\n",
              "    <tr>\n",
              "      <th>MEDELLÍN</th>\n",
              "      <td>28584</td>\n",
              "    </tr>\n",
              "    <tr>\n",
              "      <th>CALI</th>\n",
              "      <td>24988</td>\n",
              "    </tr>\n",
              "    <tr>\n",
              "      <th>IBAGUÉ</th>\n",
              "      <td>13063</td>\n",
              "    </tr>\n",
              "    <tr>\n",
              "      <th>CÚCUTA</th>\n",
              "      <td>11912</td>\n",
              "    </tr>\n",
              "    <tr>\n",
              "      <th>...</th>\n",
              "      <td>...</td>\n",
              "    </tr>\n",
              "    <tr>\n",
              "      <th>PAPUNAUA</th>\n",
              "      <td>3</td>\n",
              "    </tr>\n",
              "    <tr>\n",
              "      <th>CACAHUAL</th>\n",
              "      <td>2</td>\n",
              "    </tr>\n",
              "    <tr>\n",
              "      <th>UBATÉ</th>\n",
              "      <td>2</td>\n",
              "    </tr>\n",
              "    <tr>\n",
              "      <th>LA GUADALUPE</th>\n",
              "      <td>1</td>\n",
              "    </tr>\n",
              "    <tr>\n",
              "      <th>MAPIRIPANA</th>\n",
              "      <td>1</td>\n",
              "    </tr>\n",
              "  </tbody>\n",
              "</table>\n",
              "<p>1039 rows × 1 columns</p>\n",
              "</div>\n",
              "      <button class=\"colab-df-convert\" onclick=\"convertToInteractive('df-88ac7227-6328-4c1d-b4fa-3ef1bce260a8')\"\n",
              "              title=\"Convert this dataframe to an interactive table.\"\n",
              "              style=\"display:none;\">\n",
              "        \n",
              "  <svg xmlns=\"http://www.w3.org/2000/svg\" height=\"24px\"viewBox=\"0 0 24 24\"\n",
              "       width=\"24px\">\n",
              "    <path d=\"M0 0h24v24H0V0z\" fill=\"none\"/>\n",
              "    <path d=\"M18.56 5.44l.94 2.06.94-2.06 2.06-.94-2.06-.94-.94-2.06-.94 2.06-2.06.94zm-11 1L8.5 8.5l.94-2.06 2.06-.94-2.06-.94L8.5 2.5l-.94 2.06-2.06.94zm10 10l.94 2.06.94-2.06 2.06-.94-2.06-.94-.94-2.06-.94 2.06-2.06.94z\"/><path d=\"M17.41 7.96l-1.37-1.37c-.4-.4-.92-.59-1.43-.59-.52 0-1.04.2-1.43.59L10.3 9.45l-7.72 7.72c-.78.78-.78 2.05 0 2.83L4 21.41c.39.39.9.59 1.41.59.51 0 1.02-.2 1.41-.59l7.78-7.78 2.81-2.81c.8-.78.8-2.07 0-2.86zM5.41 20L4 18.59l7.72-7.72 1.47 1.35L5.41 20z\"/>\n",
              "  </svg>\n",
              "      </button>\n",
              "      \n",
              "  <style>\n",
              "    .colab-df-container {\n",
              "      display:flex;\n",
              "      flex-wrap:wrap;\n",
              "      gap: 12px;\n",
              "    }\n",
              "\n",
              "    .colab-df-convert {\n",
              "      background-color: #E8F0FE;\n",
              "      border: none;\n",
              "      border-radius: 50%;\n",
              "      cursor: pointer;\n",
              "      display: none;\n",
              "      fill: #1967D2;\n",
              "      height: 32px;\n",
              "      padding: 0 0 0 0;\n",
              "      width: 32px;\n",
              "    }\n",
              "\n",
              "    .colab-df-convert:hover {\n",
              "      background-color: #E2EBFA;\n",
              "      box-shadow: 0px 1px 2px rgba(60, 64, 67, 0.3), 0px 1px 3px 1px rgba(60, 64, 67, 0.15);\n",
              "      fill: #174EA6;\n",
              "    }\n",
              "\n",
              "    [theme=dark] .colab-df-convert {\n",
              "      background-color: #3B4455;\n",
              "      fill: #D2E3FC;\n",
              "    }\n",
              "\n",
              "    [theme=dark] .colab-df-convert:hover {\n",
              "      background-color: #434B5C;\n",
              "      box-shadow: 0px 1px 3px 1px rgba(0, 0, 0, 0.15);\n",
              "      filter: drop-shadow(0px 1px 2px rgba(0, 0, 0, 0.3));\n",
              "      fill: #FFFFFF;\n",
              "    }\n",
              "  </style>\n",
              "\n",
              "      <script>\n",
              "        const buttonEl =\n",
              "          document.querySelector('#df-88ac7227-6328-4c1d-b4fa-3ef1bce260a8 button.colab-df-convert');\n",
              "        buttonEl.style.display =\n",
              "          google.colab.kernel.accessAllowed ? 'block' : 'none';\n",
              "\n",
              "        async function convertToInteractive(key) {\n",
              "          const element = document.querySelector('#df-88ac7227-6328-4c1d-b4fa-3ef1bce260a8');\n",
              "          const dataTable =\n",
              "            await google.colab.kernel.invokeFunction('convertToInteractive',\n",
              "                                                     [key], {});\n",
              "          if (!dataTable) return;\n",
              "\n",
              "          const docLinkHtml = 'Like what you see? Visit the ' +\n",
              "            '<a target=\"_blank\" href=https://colab.research.google.com/notebooks/data_table.ipynb>data table notebook</a>'\n",
              "            + ' to learn more about interactive tables.';\n",
              "          element.innerHTML = '';\n",
              "          dataTable['output_type'] = 'display_data';\n",
              "          await google.colab.output.renderOutput(dataTable, element);\n",
              "          const docLink = document.createElement('div');\n",
              "          docLink.innerHTML = docLinkHtml;\n",
              "          element.appendChild(docLink);\n",
              "        }\n",
              "      </script>\n",
              "    </div>\n",
              "  </div>\n",
              "  "
            ]
          },
          "metadata": {},
          "execution_count": 51
        }
      ],
      "source": [
        "from pandas._libs.hashtable import value_count\n",
        "#Municipios \n",
        "pd.DataFrame(Datos['MUNICIPIO'].value_counts())"
      ]
    },
    {
      "cell_type": "code",
      "execution_count": null,
      "metadata": {
        "colab": {
          "base_uri": "https://localhost:8080/",
          "height": 424
        },
        "id": "wSr_7mrirpjS",
        "outputId": "02d020ba-1ad8-4da9-f2dc-c4cc6b2518bf"
      },
      "outputs": [
        {
          "output_type": "execute_result",
          "data": {
            "text/plain": [
              "                                                    DELITO\n",
              "INASISTENCIA ALIMENTARIA ART. 233 C.P.               57796\n",
              "LESIONES ART. 111 C.P.                               51949\n",
              "VIOLENCIA INTRAFAMILIAR ART. 229 C.P.                44284\n",
              "HOMICIDIO ART. 103 C.P.                              41077\n",
              "AMENAZAS ART. 347 C.P.                               29108\n",
              "...                                                    ...\n",
              "ESTIMULO AL USO ILICITO ART. 378 C.P.Agravado N...       1\n",
              "DEL ENRIQUECIMIENTO ILICITO                              1\n",
              "EVASION FISCAL ART. 313 C.P. INCISO 2 . NO DECL...       1\n",
              "USO, CONSTRUCCIÓN, COMERCIALIZACIÓN Y/O TENENCI...       1\n",
              "HOSTILIDAD MILITAR ART. 456 C.P.                         1\n",
              "\n",
              "[956 rows x 1 columns]"
            ],
            "text/html": [
              "\n",
              "  <div id=\"df-4bc08385-7a4d-4924-be9a-691d8efc513f\">\n",
              "    <div class=\"colab-df-container\">\n",
              "      <div>\n",
              "<style scoped>\n",
              "    .dataframe tbody tr th:only-of-type {\n",
              "        vertical-align: middle;\n",
              "    }\n",
              "\n",
              "    .dataframe tbody tr th {\n",
              "        vertical-align: top;\n",
              "    }\n",
              "\n",
              "    .dataframe thead th {\n",
              "        text-align: right;\n",
              "    }\n",
              "</style>\n",
              "<table border=\"1\" class=\"dataframe\">\n",
              "  <thead>\n",
              "    <tr style=\"text-align: right;\">\n",
              "      <th></th>\n",
              "      <th>DELITO</th>\n",
              "    </tr>\n",
              "  </thead>\n",
              "  <tbody>\n",
              "    <tr>\n",
              "      <th>INASISTENCIA ALIMENTARIA ART. 233 C.P.</th>\n",
              "      <td>57796</td>\n",
              "    </tr>\n",
              "    <tr>\n",
              "      <th>LESIONES ART. 111 C.P.</th>\n",
              "      <td>51949</td>\n",
              "    </tr>\n",
              "    <tr>\n",
              "      <th>VIOLENCIA INTRAFAMILIAR ART. 229 C.P.</th>\n",
              "      <td>44284</td>\n",
              "    </tr>\n",
              "    <tr>\n",
              "      <th>HOMICIDIO ART. 103 C.P.</th>\n",
              "      <td>41077</td>\n",
              "    </tr>\n",
              "    <tr>\n",
              "      <th>AMENAZAS ART. 347 C.P.</th>\n",
              "      <td>29108</td>\n",
              "    </tr>\n",
              "    <tr>\n",
              "      <th>...</th>\n",
              "      <td>...</td>\n",
              "    </tr>\n",
              "    <tr>\n",
              "      <th>ESTIMULO AL USO ILICITO ART. 378 C.P.Agravado N.2 Art 384</th>\n",
              "      <td>1</td>\n",
              "    </tr>\n",
              "    <tr>\n",
              "      <th>DEL ENRIQUECIMIENTO ILICITO</th>\n",
              "      <td>1</td>\n",
              "    </tr>\n",
              "    <tr>\n",
              "      <th>EVASION FISCAL ART. 313 C.P. INCISO 2 . NO DECLARAR TOTAL O PARCIALMENTE LOS INGRESOS RECIBIDOS</th>\n",
              "      <td>1</td>\n",
              "    </tr>\n",
              "    <tr>\n",
              "      <th>USO, CONSTRUCCIÓN, COMERCIALIZACIÓN Y/O TENENCIA DE SEMISUMERGIBLES O SUMERGIBLES. ART. 377 A C.P. . Adicionado Art. 2 Ley 1311 de 2009</th>\n",
              "      <td>1</td>\n",
              "    </tr>\n",
              "    <tr>\n",
              "      <th>HOSTILIDAD MILITAR ART. 456 C.P.</th>\n",
              "      <td>1</td>\n",
              "    </tr>\n",
              "  </tbody>\n",
              "</table>\n",
              "<p>956 rows × 1 columns</p>\n",
              "</div>\n",
              "      <button class=\"colab-df-convert\" onclick=\"convertToInteractive('df-4bc08385-7a4d-4924-be9a-691d8efc513f')\"\n",
              "              title=\"Convert this dataframe to an interactive table.\"\n",
              "              style=\"display:none;\">\n",
              "        \n",
              "  <svg xmlns=\"http://www.w3.org/2000/svg\" height=\"24px\"viewBox=\"0 0 24 24\"\n",
              "       width=\"24px\">\n",
              "    <path d=\"M0 0h24v24H0V0z\" fill=\"none\"/>\n",
              "    <path d=\"M18.56 5.44l.94 2.06.94-2.06 2.06-.94-2.06-.94-.94-2.06-.94 2.06-2.06.94zm-11 1L8.5 8.5l.94-2.06 2.06-.94-2.06-.94L8.5 2.5l-.94 2.06-2.06.94zm10 10l.94 2.06.94-2.06 2.06-.94-2.06-.94-.94-2.06-.94 2.06-2.06.94z\"/><path d=\"M17.41 7.96l-1.37-1.37c-.4-.4-.92-.59-1.43-.59-.52 0-1.04.2-1.43.59L10.3 9.45l-7.72 7.72c-.78.78-.78 2.05 0 2.83L4 21.41c.39.39.9.59 1.41.59.51 0 1.02-.2 1.41-.59l7.78-7.78 2.81-2.81c.8-.78.8-2.07 0-2.86zM5.41 20L4 18.59l7.72-7.72 1.47 1.35L5.41 20z\"/>\n",
              "  </svg>\n",
              "      </button>\n",
              "      \n",
              "  <style>\n",
              "    .colab-df-container {\n",
              "      display:flex;\n",
              "      flex-wrap:wrap;\n",
              "      gap: 12px;\n",
              "    }\n",
              "\n",
              "    .colab-df-convert {\n",
              "      background-color: #E8F0FE;\n",
              "      border: none;\n",
              "      border-radius: 50%;\n",
              "      cursor: pointer;\n",
              "      display: none;\n",
              "      fill: #1967D2;\n",
              "      height: 32px;\n",
              "      padding: 0 0 0 0;\n",
              "      width: 32px;\n",
              "    }\n",
              "\n",
              "    .colab-df-convert:hover {\n",
              "      background-color: #E2EBFA;\n",
              "      box-shadow: 0px 1px 2px rgba(60, 64, 67, 0.3), 0px 1px 3px 1px rgba(60, 64, 67, 0.15);\n",
              "      fill: #174EA6;\n",
              "    }\n",
              "\n",
              "    [theme=dark] .colab-df-convert {\n",
              "      background-color: #3B4455;\n",
              "      fill: #D2E3FC;\n",
              "    }\n",
              "\n",
              "    [theme=dark] .colab-df-convert:hover {\n",
              "      background-color: #434B5C;\n",
              "      box-shadow: 0px 1px 3px 1px rgba(0, 0, 0, 0.15);\n",
              "      filter: drop-shadow(0px 1px 2px rgba(0, 0, 0, 0.3));\n",
              "      fill: #FFFFFF;\n",
              "    }\n",
              "  </style>\n",
              "\n",
              "      <script>\n",
              "        const buttonEl =\n",
              "          document.querySelector('#df-4bc08385-7a4d-4924-be9a-691d8efc513f button.colab-df-convert');\n",
              "        buttonEl.style.display =\n",
              "          google.colab.kernel.accessAllowed ? 'block' : 'none';\n",
              "\n",
              "        async function convertToInteractive(key) {\n",
              "          const element = document.querySelector('#df-4bc08385-7a4d-4924-be9a-691d8efc513f');\n",
              "          const dataTable =\n",
              "            await google.colab.kernel.invokeFunction('convertToInteractive',\n",
              "                                                     [key], {});\n",
              "          if (!dataTable) return;\n",
              "\n",
              "          const docLinkHtml = 'Like what you see? Visit the ' +\n",
              "            '<a target=\"_blank\" href=https://colab.research.google.com/notebooks/data_table.ipynb>data table notebook</a>'\n",
              "            + ' to learn more about interactive tables.';\n",
              "          element.innerHTML = '';\n",
              "          dataTable['output_type'] = 'display_data';\n",
              "          await google.colab.output.renderOutput(dataTable, element);\n",
              "          const docLink = document.createElement('div');\n",
              "          docLink.innerHTML = docLinkHtml;\n",
              "          element.appendChild(docLink);\n",
              "        }\n",
              "      </script>\n",
              "    </div>\n",
              "  </div>\n",
              "  "
            ]
          },
          "metadata": {},
          "execution_count": 52
        }
      ],
      "source": [
        "#Tipo de agresiones\n",
        "pd.DataFrame(Datos['DELITO'].value_counts().T)"
      ]
    },
    {
      "cell_type": "markdown",
      "metadata": {
        "id": "c20txpZLr-o_"
      },
      "source": [
        "**Promedio de delitos en departamentos**\n",
        "****\n",
        "Ahora resaltaremos aquellos delitos que somas frecuentes, asi como que departamentos recurren mas ha cometerlos\n",
        "\n",
        "Para ello scaremos una probabilidad de que ocurra un delito **Visto en naranja** por cada departamento,en donde para empezar se distribuira de forma probabilistaca que tan frecuente es un delito y esa probabilidad sera aplicada a la de municipio en la que se encuentra\n",
        "\n",
        "*ejemplo:*\n",
        "\n",
        "probaibilidad delito  (**d%**)= delito (**xₙ**) / cantidad de delitos registrado (**n**)\n",
        "\n",
        "probabilidade delito municipio (**m%**) = municipio (**mₜ**) / totales delitos municipales(**t**)\n",
        "\n",
        "Probabilidad de delito en el municipio(**y%**) = [probabilidade delito municipio(**m%**) x probaibilidad delito  (**d%**)] / 100%\n",
        "\n"
      ]
    },
    {
      "cell_type": "code",
      "execution_count": null,
      "metadata": {
        "colab": {
          "base_uri": "https://localhost:8080/",
          "height": 331
        },
        "id": "QaUPvA2PvvxK",
        "outputId": "ede7cfb2-a144-46c7-9224-afc4d1f681c5"
      },
      "outputs": [
        {
          "name": "stdout",
          "output_type": "stream",
          "text": [
            "escribe cuantos municipios quieres ver:12\n"
          ]
        },
        {
          "output_type": "execute_result",
          "data": {
            "text/plain": [
              "Text(0.5, 0, 'Municipio')"
            ]
          },
          "metadata": {},
          "execution_count": 53
        },
        {
          "output_type": "display_data",
          "data": {
            "text/plain": [
              "<Figure size 1728x288 with 1 Axes>"
            ],
            "image/png": "[encoded data removed]"
          },
          "metadata": {
            "needs_background": "light"
          }
        }
      ],
      "source": [
        "#Sacar promedio municipios\n",
        "media_municipio =Datos['MUNICIPIO'].value_counts().mean()\n",
        "indice_delito_en_municipio= np.array(list(map(lambda a: a/len(Datos['MUNICIPIO']),list(Datos['MUNICIPIO'].value_counts()))))\n",
        "nombre_municipio=Datos['MUNICIPIO'].value_counts().keys()\n",
        "\n",
        "#Sacar media de delitos\n",
        "media_delitos =Datos['DELITO'].value_counts().mean()\n",
        "indice_delito= np.array(list(map(lambda a: a/len(Datos['MUNICIPIO']),list(Datos['DELITO'].value_counts()))))\n",
        "nombre_delito=Datos['DELITO'].value_counts().keys() \n",
        "\n",
        "#otros\n",
        "numero_m =int(input(\"escribe cuantos municipios quieres ver:\"))\n",
        "colores =['lightgreen','lightblue','salmon','lightgray','aqua']\n",
        "#Grafica\n",
        "\n",
        "\n",
        "plt.figure(figsize=(numero_m*2,4))\n",
        "#plt.bar()\n",
        "plt.bar(np.arange(numero_m),indice_delito_en_municipio[:numero_m] )# Departamento por delitos registrados \n",
        "plt.bar(np.arange(numero_m),indice_delito[:numero_m],bottom=indice_delito_en_municipio[:numero_m],label='Prbabilidad de delitos', color=['orange'])# Departamento por probabilidad de delito\n",
        "\n",
        "#definir porbabilidad de cada delito  por departamento \n",
        "def Delitos_departamento(x):\n",
        "  if x != 0:\n",
        "    x-=1\n",
        "    plt.bar(np.arange(numero_m),indice_delito[:numero_m],bottom=indice_delito[x],label=nombre_delito[x])\n",
        "    Delitos_departamento(x)\n",
        "  else:\n",
        "    return \n",
        "\n",
        "\n",
        "#otros\n",
        "Delitos_departamento(numero_m)\n",
        "plt.legend()\n",
        "plt.xticks(np.arange(numero_m), nombre_municipio[:numero_m])\n",
        "plt.title('probabilidad de agresion por municipio')\n",
        "plt.ylabel('Probabilidad (%)')\n",
        "plt.xlabel('Municipio')\n"
      ]
    },
    {
      "cell_type": "markdown",
      "metadata": {
        "id": "OQdltSqrOPVC"
      },
      "source": [
        "# Creacion de modelo "
      ]
    },
    {
      "cell_type": "markdown",
      "metadata": {
        "id": "wGe9NgDTek59"
      },
      "source": [
        "**IA ayuda a secccial de direccion**\n",
        "****\n",
        "Con el fin de ayudar a las victimas se creara una inteligencia artificial que  medinate los prametros de **Departamento,Municipio,ley y tipo de delito** mostrara alguna direccion de fiscalia que trate ese tipo de delito "
      ]
    },
    {
      "cell_type": "code",
      "execution_count": null,
      "metadata": {
        "colab": {
          "base_uri": "https://localhost:8080/",
          "height": 424
        },
        "id": "ef_aeZF9fXgX",
        "outputId": "c4feb35e-72c6-4c90-96a3-0e39dfcc6725"
      },
      "outputs": [
        {
          "output_type": "execute_result",
          "data": {
            "text/plain": [
              "           departamento              municipio       ley  \\\n",
              "0             Santander            BUCARAMANGA   Ley 906   \n",
              "1             Santander            BUCARAMANGA   Ley 906   \n",
              "2               Quindío               FILANDIA   Ley 906   \n",
              "4       Valle del Cauca                   CALI   Ley 906   \n",
              "5          Cundinamarca                  PACHO   Ley 906   \n",
              "...                 ...                    ...       ...   \n",
              "931559     Cundinamarca               CHIPAQUE   Ley 906   \n",
              "931560           Tolima                 LÉRIDA   Ley 906   \n",
              "931562            Cesar             VALLEDUPAR  Ley 1098   \n",
              "931563        Antioquia               MEDELLÍN   Ley 906   \n",
              "931564           Boyaca  SANTA ROSA DE VITERBO   Ley 906   \n",
              "\n",
              "                                                   delito  \n",
              "0                LESIONES CULPOSAS ART. 120 C.P. INCISO 1  \n",
              "1                       DAÑO EN BIEN AJENO. ART. 265 C.P.  \n",
              "2                                 CALUMNIA. ART. 221 C.P.  \n",
              "4                     ESTAFA. ART. 246 C.P. MENOR CUANTIA  \n",
              "5            VIOLACION DE HABITACION AJENA. ART. 189 C.P.  \n",
              "...                                                   ...  \n",
              "931559                    HOMICIDIO CULPOSO ART. 109 C.P.  \n",
              "931560  APROVECHAMIENTO DE ERROR AJENO O CASO FORTUITO...  \n",
              "931562                  DAÑO EN BIEN AJENO. ART. 265 C.P.  \n",
              "931563  ESTAFA. ART. 246 C.P. AGRAVADA CUANDO LA CONDU...  \n",
              "931564                            HOMICIDIO ART. 103 C.P.  \n",
              "\n",
              "[815693 rows x 4 columns]"
            ],
            "text/html": [
              "\n",
              "  <div id=\"df-7c4904e8-48ce-480b-a780-6e5c0a5c40ea\">\n",
              "    <div class=\"colab-df-container\">\n",
              "      <div>\n",
              "<style scoped>\n",
              "    .dataframe tbody tr th:only-of-type {\n",
              "        vertical-align: middle;\n",
              "    }\n",
              "\n",
              "    .dataframe tbody tr th {\n",
              "        vertical-align: top;\n",
              "    }\n",
              "\n",
              "    .dataframe thead th {\n",
              "        text-align: right;\n",
              "    }\n",
              "</style>\n",
              "<table border=\"1\" class=\"dataframe\">\n",
              "  <thead>\n",
              "    <tr style=\"text-align: right;\">\n",
              "      <th></th>\n",
              "      <th>departamento</th>\n",
              "      <th>municipio</th>\n",
              "      <th>ley</th>\n",
              "      <th>delito</th>\n",
              "    </tr>\n",
              "  </thead>\n",
              "  <tbody>\n",
              "    <tr>\n",
              "      <th>0</th>\n",
              "      <td>Santander</td>\n",
              "      <td>BUCARAMANGA</td>\n",
              "      <td>Ley 906</td>\n",
              "      <td>LESIONES CULPOSAS ART. 120 C.P. INCISO 1</td>\n",
              "    </tr>\n",
              "    <tr>\n",
              "      <th>1</th>\n",
              "      <td>Santander</td>\n",
              "      <td>BUCARAMANGA</td>\n",
              "      <td>Ley 906</td>\n",
              "      <td>DAÑO EN BIEN AJENO. ART. 265 C.P.</td>\n",
              "    </tr>\n",
              "    <tr>\n",
              "      <th>2</th>\n",
              "      <td>Quindío</td>\n",
              "      <td>FILANDIA</td>\n",
              "      <td>Ley 906</td>\n",
              "      <td>CALUMNIA. ART. 221 C.P.</td>\n",
              "    </tr>\n",
              "    <tr>\n",
              "      <th>4</th>\n",
              "      <td>Valle del Cauca</td>\n",
              "      <td>CALI</td>\n",
              "      <td>Ley 906</td>\n",
              "      <td>ESTAFA. ART. 246 C.P. MENOR CUANTIA</td>\n",
              "    </tr>\n",
              "    <tr>\n",
              "      <th>5</th>\n",
              "      <td>Cundinamarca</td>\n",
              "      <td>PACHO</td>\n",
              "      <td>Ley 906</td>\n",
              "      <td>VIOLACION DE HABITACION AJENA. ART. 189 C.P.</td>\n",
              "    </tr>\n",
              "    <tr>\n",
              "      <th>...</th>\n",
              "      <td>...</td>\n",
              "      <td>...</td>\n",
              "      <td>...</td>\n",
              "      <td>...</td>\n",
              "    </tr>\n",
              "    <tr>\n",
              "      <th>931559</th>\n",
              "      <td>Cundinamarca</td>\n",
              "      <td>CHIPAQUE</td>\n",
              "      <td>Ley 906</td>\n",
              "      <td>HOMICIDIO CULPOSO ART. 109 C.P.</td>\n",
              "    </tr>\n",
              "    <tr>\n",
              "      <th>931560</th>\n",
              "      <td>Tolima</td>\n",
              "      <td>LÉRIDA</td>\n",
              "      <td>Ley 906</td>\n",
              "      <td>APROVECHAMIENTO DE ERROR AJENO O CASO FORTUITO...</td>\n",
              "    </tr>\n",
              "    <tr>\n",
              "      <th>931562</th>\n",
              "      <td>Cesar</td>\n",
              "      <td>VALLEDUPAR</td>\n",
              "      <td>Ley 1098</td>\n",
              "      <td>DAÑO EN BIEN AJENO. ART. 265 C.P.</td>\n",
              "    </tr>\n",
              "    <tr>\n",
              "      <th>931563</th>\n",
              "      <td>Antioquia</td>\n",
              "      <td>MEDELLÍN</td>\n",
              "      <td>Ley 906</td>\n",
              "      <td>ESTAFA. ART. 246 C.P. AGRAVADA CUANDO LA CONDU...</td>\n",
              "    </tr>\n",
              "    <tr>\n",
              "      <th>931564</th>\n",
              "      <td>Boyaca</td>\n",
              "      <td>SANTA ROSA DE VITERBO</td>\n",
              "      <td>Ley 906</td>\n",
              "      <td>HOMICIDIO ART. 103 C.P.</td>\n",
              "    </tr>\n",
              "  </tbody>\n",
              "</table>\n",
              "<p>815693 rows × 4 columns</p>\n",
              "</div>\n",
              "      <button class=\"colab-df-convert\" onclick=\"convertToInteractive('df-7c4904e8-48ce-480b-a780-6e5c0a5c40ea')\"\n",
              "              title=\"Convert this dataframe to an interactive table.\"\n",
              "              style=\"display:none;\">\n",
              "        \n",
              "  <svg xmlns=\"http://www.w3.org/2000/svg\" height=\"24px\"viewBox=\"0 0 24 24\"\n",
              "       width=\"24px\">\n",
              "    <path d=\"M0 0h24v24H0V0z\" fill=\"none\"/>\n",
              "    <path d=\"M18.56 5.44l.94 2.06.94-2.06 2.06-.94-2.06-.94-.94-2.06-.94 2.06-2.06.94zm-11 1L8.5 8.5l.94-2.06 2.06-.94-2.06-.94L8.5 2.5l-.94 2.06-2.06.94zm10 10l.94 2.06.94-2.06 2.06-.94-2.06-.94-.94-2.06-.94 2.06-2.06.94z\"/><path d=\"M17.41 7.96l-1.37-1.37c-.4-.4-.92-.59-1.43-.59-.52 0-1.04.2-1.43.59L10.3 9.45l-7.72 7.72c-.78.78-.78 2.05 0 2.83L4 21.41c.39.39.9.59 1.41.59.51 0 1.02-.2 1.41-.59l7.78-7.78 2.81-2.81c.8-.78.8-2.07 0-2.86zM5.41 20L4 18.59l7.72-7.72 1.47 1.35L5.41 20z\"/>\n",
              "  </svg>\n",
              "      </button>\n",
              "      \n",
              "  <style>\n",
              "    .colab-df-container {\n",
              "      display:flex;\n",
              "      flex-wrap:wrap;\n",
              "      gap: 12px;\n",
              "    }\n",
              "\n",
              "    .colab-df-convert {\n",
              "      background-color: #E8F0FE;\n",
              "      border: none;\n",
              "      border-radius: 50%;\n",
              "      cursor: pointer;\n",
              "      display: none;\n",
              "      fill: #1967D2;\n",
              "      height: 32px;\n",
              "      padding: 0 0 0 0;\n",
              "      width: 32px;\n",
              "    }\n",
              "\n",
              "    .colab-df-convert:hover {\n",
              "      background-color: #E2EBFA;\n",
              "      box-shadow: 0px 1px 2px rgba(60, 64, 67, 0.3), 0px 1px 3px 1px rgba(60, 64, 67, 0.15);\n",
              "      fill: #174EA6;\n",
              "    }\n",
              "\n",
              "    [theme=dark] .colab-df-convert {\n",
              "      background-color: #3B4455;\n",
              "      fill: #D2E3FC;\n",
              "    }\n",
              "\n",
              "    [theme=dark] .colab-df-convert:hover {\n",
              "      background-color: #434B5C;\n",
              "      box-shadow: 0px 1px 3px 1px rgba(0, 0, 0, 0.15);\n",
              "      filter: drop-shadow(0px 1px 2px rgba(0, 0, 0, 0.3));\n",
              "      fill: #FFFFFF;\n",
              "    }\n",
              "  </style>\n",
              "\n",
              "      <script>\n",
              "        const buttonEl =\n",
              "          document.querySelector('#df-7c4904e8-48ce-480b-a780-6e5c0a5c40ea button.colab-df-convert');\n",
              "        buttonEl.style.display =\n",
              "          google.colab.kernel.accessAllowed ? 'block' : 'none';\n",
              "\n",
              "        async function convertToInteractive(key) {\n",
              "          const element = document.querySelector('#df-7c4904e8-48ce-480b-a780-6e5c0a5c40ea');\n",
              "          const dataTable =\n",
              "            await google.colab.kernel.invokeFunction('convertToInteractive',\n",
              "                                                     [key], {});\n",
              "          if (!dataTable) return;\n",
              "\n",
              "          const docLinkHtml = 'Like what you see? Visit the ' +\n",
              "            '<a target=\"_blank\" href=https://colab.research.google.com/notebooks/data_table.ipynb>data table notebook</a>'\n",
              "            + ' to learn more about interactive tables.';\n",
              "          element.innerHTML = '';\n",
              "          dataTable['output_type'] = 'display_data';\n",
              "          await google.colab.output.renderOutput(dataTable, element);\n",
              "          const docLink = document.createElement('div');\n",
              "          docLink.innerHTML = docLinkHtml;\n",
              "          element.appendChild(docLink);\n",
              "        }\n",
              "      </script>\n",
              "    </div>\n",
              "  </div>\n",
              "  "
            ]
          },
          "metadata": {},
          "execution_count": 54
        }
      ],
      "source": [
        "#Recoger datos ha usar\n",
        "Datos_necesarios = {}\n",
        "for x in ['departamento','municipio','ley','delito']:\n",
        "    Datos_necesarios[x] = Datos[x.upper()]\n",
        "\n",
        "pd.DataFrame(Datos_necesarios)"
      ]
    },
    {
      "cell_type": "markdown",
      "metadata": {
        "id": "GrSSm17Klpat"
      },
      "source": [
        "**Datos a hallar**\n",
        "***\n",
        "Ahora procederemos a buscar los datos que queremos que nuestro modelo prediga, los cuales eran **Direccion fiscal** o seccion en los datos.\n"
      ]
    },
    {
      "cell_type": "code",
      "execution_count": null,
      "metadata": {
        "colab": {
          "base_uri": "https://localhost:8080/",
          "height": 363
        },
        "id": "PujqyPgEnGkR",
        "outputId": "96251fba-4443-4a35-e0a0-cc2d6abe00e7"
      },
      "outputs": [
        {
          "output_type": "execute_result",
          "data": {
            "text/plain": [
              "                                     SECCIONAL\n",
              "DIRECCIÓN SECCIONAL DE CUNDINAMARCA      65429\n",
              "DIRECCIÓN SECCIONAL DE MEDELLÍN          56393\n",
              "DIRECCIÓN SECCIONAL DE ANTIOQUIA         52415\n",
              "DIRECCIÓN SECCIONAL DE CALI              45433\n",
              "DIRECCIÓN SECCIONAL DE TOLIMA            44511\n",
              "DIRECCIÓN SECCIONAL DE SANTANDER         38959\n",
              "DIRECCIÓN SECCIONAL DE BOYACÁ            37697\n",
              "DIRECCIÓN SECCIONAL DE BOGOTÁ            37464\n",
              "DIRECCIÓN SECCIONAL DE CAUCA             32988\n",
              "DIRECCIÓN SECCIONAL DE HUILA             30906"
            ],
            "text/html": [
              "\n",
              "  <div id=\"df-b3aa2c3d-6e5b-4a68-9e3f-9c918c629da3\">\n",
              "    <div class=\"colab-df-container\">\n",
              "      <div>\n",
              "<style scoped>\n",
              "    .dataframe tbody tr th:only-of-type {\n",
              "        vertical-align: middle;\n",
              "    }\n",
              "\n",
              "    .dataframe tbody tr th {\n",
              "        vertical-align: top;\n",
              "    }\n",
              "\n",
              "    .dataframe thead th {\n",
              "        text-align: right;\n",
              "    }\n",
              "</style>\n",
              "<table border=\"1\" class=\"dataframe\">\n",
              "  <thead>\n",
              "    <tr style=\"text-align: right;\">\n",
              "      <th></th>\n",
              "      <th>SECCIONAL</th>\n",
              "    </tr>\n",
              "  </thead>\n",
              "  <tbody>\n",
              "    <tr>\n",
              "      <th>DIRECCIÓN SECCIONAL DE CUNDINAMARCA</th>\n",
              "      <td>65429</td>\n",
              "    </tr>\n",
              "    <tr>\n",
              "      <th>DIRECCIÓN SECCIONAL DE MEDELLÍN</th>\n",
              "      <td>56393</td>\n",
              "    </tr>\n",
              "    <tr>\n",
              "      <th>DIRECCIÓN SECCIONAL DE ANTIOQUIA</th>\n",
              "      <td>52415</td>\n",
              "    </tr>\n",
              "    <tr>\n",
              "      <th>DIRECCIÓN SECCIONAL DE CALI</th>\n",
              "      <td>45433</td>\n",
              "    </tr>\n",
              "    <tr>\n",
              "      <th>DIRECCIÓN SECCIONAL DE TOLIMA</th>\n",
              "      <td>44511</td>\n",
              "    </tr>\n",
              "    <tr>\n",
              "      <th>DIRECCIÓN SECCIONAL DE SANTANDER</th>\n",
              "      <td>38959</td>\n",
              "    </tr>\n",
              "    <tr>\n",
              "      <th>DIRECCIÓN SECCIONAL DE BOYACÁ</th>\n",
              "      <td>37697</td>\n",
              "    </tr>\n",
              "    <tr>\n",
              "      <th>DIRECCIÓN SECCIONAL DE BOGOTÁ</th>\n",
              "      <td>37464</td>\n",
              "    </tr>\n",
              "    <tr>\n",
              "      <th>DIRECCIÓN SECCIONAL DE CAUCA</th>\n",
              "      <td>32988</td>\n",
              "    </tr>\n",
              "    <tr>\n",
              "      <th>DIRECCIÓN SECCIONAL DE HUILA</th>\n",
              "      <td>30906</td>\n",
              "    </tr>\n",
              "  </tbody>\n",
              "</table>\n",
              "</div>\n",
              "      <button class=\"colab-df-convert\" onclick=\"convertToInteractive('df-b3aa2c3d-6e5b-4a68-9e3f-9c918c629da3')\"\n",
              "              title=\"Convert this dataframe to an interactive table.\"\n",
              "              style=\"display:none;\">\n",
              "        \n",
              "  <svg xmlns=\"http://www.w3.org/2000/svg\" height=\"24px\"viewBox=\"0 0 24 24\"\n",
              "       width=\"24px\">\n",
              "    <path d=\"M0 0h24v24H0V0z\" fill=\"none\"/>\n",
              "    <path d=\"M18.56 5.44l.94 2.06.94-2.06 2.06-.94-2.06-.94-.94-2.06-.94 2.06-2.06.94zm-11 1L8.5 8.5l.94-2.06 2.06-.94-2.06-.94L8.5 2.5l-.94 2.06-2.06.94zm10 10l.94 2.06.94-2.06 2.06-.94-2.06-.94-.94-2.06-.94 2.06-2.06.94z\"/><path d=\"M17.41 7.96l-1.37-1.37c-.4-.4-.92-.59-1.43-.59-.52 0-1.04.2-1.43.59L10.3 9.45l-7.72 7.72c-.78.78-.78 2.05 0 2.83L4 21.41c.39.39.9.59 1.41.59.51 0 1.02-.2 1.41-.59l7.78-7.78 2.81-2.81c.8-.78.8-2.07 0-2.86zM5.41 20L4 18.59l7.72-7.72 1.47 1.35L5.41 20z\"/>\n",
              "  </svg>\n",
              "      </button>\n",
              "      \n",
              "  <style>\n",
              "    .colab-df-container {\n",
              "      display:flex;\n",
              "      flex-wrap:wrap;\n",
              "      gap: 12px;\n",
              "    }\n",
              "\n",
              "    .colab-df-convert {\n",
              "      background-color: #E8F0FE;\n",
              "      border: none;\n",
              "      border-radius: 50%;\n",
              "      cursor: pointer;\n",
              "      display: none;\n",
              "      fill: #1967D2;\n",
              "      height: 32px;\n",
              "      padding: 0 0 0 0;\n",
              "      width: 32px;\n",
              "    }\n",
              "\n",
              "    .colab-df-convert:hover {\n",
              "      background-color: #E2EBFA;\n",
              "      box-shadow: 0px 1px 2px rgba(60, 64, 67, 0.3), 0px 1px 3px 1px rgba(60, 64, 67, 0.15);\n",
              "      fill: #174EA6;\n",
              "    }\n",
              "\n",
              "    [theme=dark] .colab-df-convert {\n",
              "      background-color: #3B4455;\n",
              "      fill: #D2E3FC;\n",
              "    }\n",
              "\n",
              "    [theme=dark] .colab-df-convert:hover {\n",
              "      background-color: #434B5C;\n",
              "      box-shadow: 0px 1px 3px 1px rgba(0, 0, 0, 0.15);\n",
              "      filter: drop-shadow(0px 1px 2px rgba(0, 0, 0, 0.3));\n",
              "      fill: #FFFFFF;\n",
              "    }\n",
              "  </style>\n",
              "\n",
              "      <script>\n",
              "        const buttonEl =\n",
              "          document.querySelector('#df-b3aa2c3d-6e5b-4a68-9e3f-9c918c629da3 button.colab-df-convert');\n",
              "        buttonEl.style.display =\n",
              "          google.colab.kernel.accessAllowed ? 'block' : 'none';\n",
              "\n",
              "        async function convertToInteractive(key) {\n",
              "          const element = document.querySelector('#df-b3aa2c3d-6e5b-4a68-9e3f-9c918c629da3');\n",
              "          const dataTable =\n",
              "            await google.colab.kernel.invokeFunction('convertToInteractive',\n",
              "                                                     [key], {});\n",
              "          if (!dataTable) return;\n",
              "\n",
              "          const docLinkHtml = 'Like what you see? Visit the ' +\n",
              "            '<a target=\"_blank\" href=https://colab.research.google.com/notebooks/data_table.ipynb>data table notebook</a>'\n",
              "            + ' to learn more about interactive tables.';\n",
              "          element.innerHTML = '';\n",
              "          dataTable['output_type'] = 'display_data';\n",
              "          await google.colab.output.renderOutput(dataTable, element);\n",
              "          const docLink = document.createElement('div');\n",
              "          docLink.innerHTML = docLinkHtml;\n",
              "          element.appendChild(docLink);\n",
              "        }\n",
              "      </script>\n",
              "    </div>\n",
              "  </div>\n",
              "  "
            ]
          },
          "metadata": {},
          "execution_count": 55
        }
      ],
      "source": [
        "#Datos que usaremos para entrenar el output del modelo\n",
        "Datos_predecir = {}\n",
        "Datos_predecir['seccional'] =Datos['SECCIONAL']\n",
        "pd.DataFrame(Datos_predecir['seccional'].value_counts()[:10])\n"
      ]
    },
    {
      "cell_type": "markdown",
      "source": [
        "**La mediana en la seccional**\n",
        "***\n",
        "Como podemos ver muchas seccionales solo han atendido de menos de 1000 casos atnedido, estos seccionales al ser tan poco productivo es mejor determinar que seccionales son utiles pra nuestro modelo."
      ],
      "metadata": {
        "id": "x-QX8f_8tj27"
      }
    },
    {
      "cell_type": "code",
      "source": [
        "def Plot(df,colm=None,as_colum=True):\n",
        "  if as_colum:\n",
        "    fig,(axis_1,axis_2)= plt.subplots(2,1)\n",
        "    sns.distplot(df[colm],ax = axis_1)\n",
        "    sns.boxplot(df[colm],ax = axis_2)\n",
        "  else:\n",
        "    fig,(axis_1,axis_2)= plt.subplots(2,1)\n",
        "    sns.distplot(df,ax = axis_1)\n",
        "    sns.boxplot(df,ax = axis_2)\n",
        "#Cantidad de casos atendidos por  cada seccional ORIGINAL\n",
        "Plot(Datos_predecir['seccional'].value_counts(),as_colum=False)"
      ],
      "metadata": {
        "colab": {
          "base_uri": "https://localhost:8080/",
          "height": 379
        },
        "id": "QSc3prRIrIJ8",
        "outputId": "8b0b1d83-101e-42ab-d327-cce57a3eae1c"
      },
      "execution_count": null,
      "outputs": [
        {
          "output_type": "stream",
          "name": "stderr",
          "text": [
            "/usr/local/lib/python3.7/dist-packages/seaborn/distributions.py:2619: FutureWarning: `distplot` is a deprecated function and will be removed in a future version. Please adapt your code to use either `displot` (a figure-level function with similar flexibility) or `histplot` (an axes-level function for histograms).\n",
            "  warnings.warn(msg, FutureWarning)\n",
            "/usr/local/lib/python3.7/dist-packages/seaborn/_decorators.py:43: FutureWarning: Pass the following variable as a keyword arg: x. From version 0.12, the only valid positional argument will be `data`, and passing other arguments without an explicit keyword will result in an error or misinterpretation.\n",
            "  FutureWarning\n"
          ]
        },
        {
          "output_type": "display_data",
          "data": {
            "text/plain": [
              "<Figure size 432x288 with 2 Axes>"
            ],
            "image/png": "[encoded data removed]"
          },
          "metadata": {
            "needs_background": "light"
          }
        }
      ]
    },
    {
      "cell_type": "markdown",
      "source": [
        "**Nota**\n",
        "***\n",
        "Una vez determinado aquellas seccionales las cuales no tiene el minimo de caso necesarios para pasar, porcederemos a eliminarlas y quitar sus relativos datos \n"
      ],
      "metadata": {
        "id": "b1XxmKGE0o95"
      }
    },
    {
      "cell_type": "code",
      "source": [
        "# Detrminar la cantidad la mediana de los casos\n",
        "mediana=np.median(Datos_predecir['seccional'].value_counts())\n",
        "Secciones_no = np.where(Datos_predecir['seccional'].value_counts()>=1000,Datos_predecir['seccional'].value_counts(),mediana)\n",
        "\n",
        "#Graficar media\n",
        "Plot(Secciones_no,as_colum=False)"
      ],
      "metadata": {
        "colab": {
          "base_uri": "https://localhost:8080/",
          "height": 365
        },
        "id": "7fXune_SuYml",
        "outputId": "9a5d0779-0082-4eb6-8b8f-76605b6d2be1"
      },
      "execution_count": null,
      "outputs": [
        {
          "output_type": "stream",
          "name": "stderr",
          "text": [
            "/usr/local/lib/python3.7/dist-packages/seaborn/distributions.py:2619: FutureWarning: `distplot` is a deprecated function and will be removed in a future version. Please adapt your code to use either `displot` (a figure-level function with similar flexibility) or `histplot` (an axes-level function for histograms).\n",
            "  warnings.warn(msg, FutureWarning)\n",
            "/usr/local/lib/python3.7/dist-packages/seaborn/_decorators.py:43: FutureWarning: Pass the following variable as a keyword arg: x. From version 0.12, the only valid positional argument will be `data`, and passing other arguments without an explicit keyword will result in an error or misinterpretation.\n",
            "  FutureWarning\n"
          ]
        },
        {
          "output_type": "display_data",
          "data": {
            "text/plain": [
              "<Figure size 432x288 with 2 Axes>"
            ],
            "image/png": "[encoded data removed]"
          },
          "metadata": {
            "needs_background": "light"
          }
        }
      ]
    },
    {
      "cell_type": "markdown",
      "metadata": {
        "id": "jzoGXRIWAGc2"
      },
      "source": [
        "**Vectorizar datos**\n",
        "***\n",
        "Ahora procedermos ha volver los datos de string a un vector para facilitrar el entrenamiento del modelo"
      ]
    },
    {
      "cell_type": "code",
      "execution_count": null,
      "metadata": {
        "colab": {
          "base_uri": "https://localhost:8080/"
        },
        "id": "1bhC63MqAFxn",
        "outputId": "9841d3e6-10af-4cab-baae-5166d0df2c0d"
      },
      "outputs": [
        {
          "output_type": "execute_result",
          "data": {
            "text/plain": [
              "(4,)"
            ]
          },
          "metadata": {},
          "execution_count": 58
        }
      ],
      "source": [
        "def Creacion_vector(paquet):\n",
        "  count = 0\n",
        "  result ={}\n",
        "  for variable in paquet.value_counts().keys():\n",
        "    result.setdefault(variable,count)\n",
        "    count +=1 \n",
        "  return result\n",
        "    \n",
        "#diccionario de datos inputs\n",
        "Diccionario=[]\n",
        "Diccionario=np.asarray(list(map(Creacion_vector,Datos_necesarios.values())))\n",
        "\n",
        "Diccionario.shape"
      ]
    },
    {
      "cell_type": "markdown",
      "metadata": {
        "id": "-M1aAGAHlndC"
      },
      "source": [
        "**Datos de salida**\n",
        "***\n",
        "Son las intrituciones que queremos que prediga nuestro modelo"
      ]
    },
    {
      "cell_type": "code",
      "execution_count": null,
      "metadata": {
        "id": "cT1-gbbLK9BZ"
      },
      "outputs": [],
      "source": [
        "def dict_list(vector):\n",
        "  variables=[]\n",
        "  for variable in vector.value_counts().keys():\n",
        "    variables.append(variable)\n",
        "  return variables\n",
        "\n",
        "def binary_vector(variables):\n",
        "  result ={}\n",
        "  count =0\n",
        "  for v in variables:\n",
        "    binario=[0 for x in range(0,len(variables))]\n",
        "    if(count == variables.index(v)):\n",
        "      binario[count]=1 \n",
        "    count +=1\n",
        "    result.setdefault(v,binario)\n",
        "    #limite de variable\n",
        "  return result\n",
        "\n"
      ]
    },
    {
      "cell_type": "code",
      "execution_count": null,
      "metadata": {
        "id": "iOXFdQsiURS3"
      },
      "outputs": [],
      "source": [
        "#datos output para entranmiento del modelo\n",
        "prueba=list(map(dict_list,Datos_predecir.values()))\n",
        "diccionario_output=binary_vector(prueba[0])"
      ]
    },
    {
      "cell_type": "code",
      "source": [
        ""
      ],
      "metadata": {
        "id": "F7l75nU3g_sA"
      },
      "execution_count": null,
      "outputs": []
    },
    {
      "cell_type": "code",
      "execution_count": null,
      "metadata": {
        "id": "nuWR8d39HvFf"
      },
      "outputs": [],
      "source": [
        "nombres=list(dict(Datos_predecir['seccional'].value_counts()).keys())\n",
        "zero=np.zeros(len(diccionario_output['DIRECCIÓN SECCIONAL DE BOGOTÁ']))\n",
        "for x in range(len(Secciones_no)):\n",
        "  if Secciones_no[x] == mediana:\n",
        "    diccionario_output[nombres[x]]=zero\n",
        "    print(diccionario_output[nombres[x]])\n",
        "\n"
      ]
    },
    {
      "cell_type": "markdown",
      "metadata": {
        "id": "oFiJakjTTuYA"
      },
      "source": [
        "**Tranformar datos**\n",
        "***\n",
        "ahora que tenemos nuestro traductor de texto a numero debemos traducir todo los datos que vamos a utilizar para proceder a crear y entrenar el modelo"
      ]
    },
    {
      "cell_type": "code",
      "execution_count": null,
      "metadata": {
        "id": "2FBszWLqPtlr"
      },
      "outputs": [],
      "source": [
        "def string_a_numero(datos,vector):\n",
        "  resultado=[]\n",
        "\n",
        "  for dato in datos:\n",
        "    result=[]\n",
        "    for dicc in vector.keys():\n",
        "      #Seccion numerica\n",
        "        if dato == dicc:\n",
        "          result.append(vector.get(dicc))\n",
        "          resultado += result\n",
        "\n",
        "  return resultado\n"
      ]
    },
    {
      "cell_type": "code",
      "execution_count": null,
      "metadata": {
        "id": "4OBUlzNZxH7M",
        "colab": {
          "base_uri": "https://localhost:8080/"
        },
        "outputId": "35c54c54-614f-4893-f00c-d5803dae67fc"
      },
      "outputs": [
        {
          "output_type": "execute_result",
          "data": {
            "text/plain": [
              "815693"
            ]
          },
          "metadata": {},
          "execution_count": 63
        }
      ],
      "source": [
        "Datos_X = np.asarray(list(map(string_a_numero,Datos_necesarios.values(),Diccionario)))\n",
        "len(Datos_X[0])#comprobador del tamaño"
      ]
    },
    {
      "cell_type": "markdown",
      "metadata": {
        "id": "PvBQPo_5WSlF"
      },
      "source": [
        "**Vectorizacion**\n",
        "****\n",
        "Para facilitar los dato de resultado lo haremos en forma de vector binario con la longitud del valor del dato mayor"
      ]
    },
    {
      "cell_type": "code",
      "execution_count": null,
      "metadata": {
        "id": "36YVK_kDx0RE",
        "colab": {
          "base_uri": "https://localhost:8080/"
        },
        "outputId": "28709653-2cc0-4f2a-fa3e-9c79f0b687bf"
      },
      "outputs": [
        {
          "output_type": "execute_result",
          "data": {
            "text/plain": [
              "815693"
            ]
          },
          "metadata": {},
          "execution_count": 64
        }
      ],
      "source": [
        "Datos_y = np.array(list(map(string_a_numero,Datos_predecir.values(),[diccionario_output])))\n",
        "len(Datos_y[0])#comprobador de tamaño"
      ]
    },
    {
      "cell_type": "markdown",
      "metadata": {
        "id": "YCvF266cnCAQ"
      },
      "source": [
        "**Modificacion de Datos_X**\n",
        "****\n",
        "Para faciliar el entrenamiento de los datos cambiaremos el formato de (4, X) donde el cuatro representa los vectores de  Departamento, ley, etc y la X la cantidad de elementos en total.\n",
        "\n",
        "No obstante, esto es ambiguo para nuestro modelo, por ello cambiaremos el formato a (X,4) donde expondremos que para cada elemento contara con  4 elemntos los cuales seran el departamento, ley... ; esto con el fin de facilitar y comprender el formato que ingresara a nuestro modelo"
      ]
    },
    {
      "cell_type": "code",
      "execution_count": null,
      "metadata": {
        "id": "VSvHzewsobYr",
        "colab": {
          "base_uri": "https://localhost:8080/"
        },
        "outputId": "572fdb88-a962-40f1-ce49-391cf1fdee38"
      },
      "outputs": [
        {
          "output_type": "execute_result",
          "data": {
            "text/plain": [
              "(4, 815693)"
            ]
          },
          "metadata": {},
          "execution_count": 65
        }
      ],
      "source": [
        "#datos ambiguos\n",
        "Datos_X.shape"
      ]
    },
    {
      "cell_type": "code",
      "execution_count": null,
      "metadata": {
        "id": "AGiNnI3EnymW",
        "colab": {
          "base_uri": "https://localhost:8080/"
        },
        "outputId": "dc746153-4349-4c32-b6b2-79cd08e24c43"
      },
      "outputs": [
        {
          "output_type": "execute_result",
          "data": {
            "text/plain": [
              "(815693, 4)"
            ]
          },
          "metadata": {},
          "execution_count": 66
        }
      ],
      "source": [
        "#modificacion de datos\n",
        "Datos_X = Datos_X.reshape(Datos_X.shape[-1],Datos_X.shape[0])\n",
        "\n",
        "#quitar dimension en lso datos de output\n",
        "Datos_y=Datos_y.reshape(Datos_y.shape[0]*Datos_y.shape[1],Datos_y.shape[-1])\n",
        "\n",
        "Datos_X.shape"
      ]
    },
    {
      "cell_type": "code",
      "execution_count": null,
      "metadata": {
        "id": "rNkw88WeoVgS",
        "colab": {
          "base_uri": "https://localhost:8080/"
        },
        "outputId": "9aa84a7b-cb47-49ca-a80c-97888e1bb1a9"
      },
      "outputs": [
        {
          "output_type": "execute_result",
          "data": {
            "text/plain": [
              "array([ 3,  3, 20,  1])"
            ]
          },
          "metadata": {},
          "execution_count": 67
        }
      ],
      "source": [
        "#datos relacionados\n",
        "Datos_X[0]"
      ]
    },
    {
      "cell_type": "markdown",
      "metadata": {
        "id": "ZmQjZHkE_zmL"
      },
      "source": [
        "***Nota:***\n",
        "****\n",
        "una forma de confirmar que todo salio como lo esperamos cada matriz tenga igual longitud que su original"
      ]
    },
    {
      "cell_type": "code",
      "execution_count": null,
      "metadata": {
        "id": "BAq4jQDcJ_TN",
        "colab": {
          "base_uri": "https://localhost:8080/"
        },
        "outputId": "14728e72-8f29-4ade-c44d-0d7c62e6e975"
      },
      "outputs": [
        {
          "output_type": "execute_result",
          "data": {
            "text/plain": [
              "True"
            ]
          },
          "metadata": {},
          "execution_count": 68
        }
      ],
      "source": [
        "#comprobador de cantidad de datos\n",
        "Datos_y.shape[0] == Datos_X.shape[0]"
      ]
    },
    {
      "cell_type": "markdown",
      "metadata": {
        "id": "rnML9fgYB3_I"
      },
      "source": [
        "**Distribucion de datos**\n",
        "****\n",
        "por ultimo pero no menos importante es la distibucion en datos de entrenamiento, validacion y evaluacion con el fin de comprobar el estado del modelo"
      ]
    },
    {
      "cell_type": "code",
      "execution_count": null,
      "metadata": {
        "id": "7P08CjWRTj24",
        "colab": {
          "base_uri": "https://localhost:8080/"
        },
        "outputId": "311d1bc1-21c0-4385-a66b-3d7f2e918257"
      },
      "outputs": [
        {
          "output_type": "execute_result",
          "data": {
            "text/plain": [
              "True"
            ]
          },
          "metadata": {},
          "execution_count": 69
        }
      ],
      "source": [
        "len(Datos_X) >round(len(Datos_X)*0.5)+round(len(Datos_X)*0.25) +round(len(Datos_X)*0.25)"
      ]
    },
    {
      "cell_type": "code",
      "execution_count": null,
      "metadata": {
        "id": "sxWMVUg1YCF_",
        "colab": {
          "base_uri": "https://localhost:8080/"
        },
        "outputId": "96ee6ec7-45c8-4766-b031-1744925e3427"
      },
      "outputs": [
        {
          "output_type": "execute_result",
          "data": {
            "text/plain": [
              "(203923, 67)"
            ]
          },
          "metadata": {},
          "execution_count": 70
        }
      ],
      "source": [
        "#Distirbucion de datos de entrenamiento\n",
        "prob_train=0.45\n",
        "prob_val=0.25\n",
        "y_train=np.asarray(Datos_y[:round(len(Datos_y)*prob_train)])\n",
        "#distibucion de datos de validacion\n",
        "y_val= np.asarray(Datos_y[round(len(Datos_y)*prob_train):round(len(Datos_y)*prob_train)+round(len(Datos_y)*prob_val)])\n",
        "#distribucion de datos de prueba\n",
        "y_test= np.asarray(Datos_y[round(len(Datos_y)*prob_train)+round(len(Datos_y)*prob_val):round(len(Datos_y)*prob_train)+(round(len(Datos_y)*prob_val))*2])\n",
        "y_val.shape"
      ]
    },
    {
      "cell_type": "code",
      "execution_count": null,
      "metadata": {
        "id": "dGPtfe7oDDXd",
        "colab": {
          "base_uri": "https://localhost:8080/"
        },
        "outputId": "28f302fa-df08-45ff-fc19-35363d2bd42b"
      },
      "outputs": [
        {
          "output_type": "execute_result",
          "data": {
            "text/plain": [
              "(203923, 4)"
            ]
          },
          "metadata": {},
          "execution_count": 71
        }
      ],
      "source": [
        "#Distirbucion de datos de entrenamiento\n",
        "x_train=np.asarray(Datos_X[:round(len(Datos_X)*prob_train)])\n",
        "#distibucion de datos de validacion\n",
        "x_val= np.asarray(Datos_X[round(len(Datos_X)*prob_train):round(len(Datos_X)*prob_train)+round(len(Datos_X)*0.25)])\n",
        "#distribucion de datos de prueba\n",
        "x_test= np.asarray(Datos_X[round(len(Datos_X)*prob_train)+round(len(Datos_X)*0.25):round(len(Datos_X)*prob_train)+(round(len(Datos_X)*0.25))*2])\n",
        "x_val.shape"
      ]
    },
    {
      "cell_type": "markdown",
      "metadata": {
        "id": "AyGFL9efJ9vQ"
      },
      "source": [
        "**Creacion del modelo**\n",
        "***"
      ]
    },
    {
      "cell_type": "code",
      "execution_count": null,
      "metadata": {
        "id": "_0Xjg-j2PdN6",
        "colab": {
          "base_uri": "https://localhost:8080/"
        },
        "outputId": "e39d6875-78af-4882-a2d3-7ee2a7e83cae"
      },
      "outputs": [
        {
          "output_type": "stream",
          "name": "stdout",
          "text": [
            "Model: \"sequential\"\n",
            "_________________________________________________________________\n",
            " Layer (type)                Output Shape              Param #   \n",
            "=================================================================\n",
            " dense (Dense)               (None, 45)                225       \n",
            "                                                                 \n",
            " dropout (Dropout)           (None, 45)                0         \n",
            "                                                                 \n",
            " dense_1 (Dense)             (None, 45)                2070      \n",
            "                                                                 \n",
            " dropout_1 (Dropout)         (None, 45)                0         \n",
            "                                                                 \n",
            " dense_2 (Dense)             (None, 67)                3082      \n",
            "                                                                 \n",
            "=================================================================\n",
            "Total params: 5,377\n",
            "Trainable params: 5,377\n",
            "Non-trainable params: 0\n",
            "_________________________________________________________________\n"
          ]
        }
      ],
      "source": [
        "from keras import regularizers\n",
        "hide_l=45\n",
        "Model = kr.Sequential([\n",
        "                       kr.layers.Input(4),\n",
        "                       kr.layers.Dense(hide_l,activation='relu',kernel_regularizer=regularizers.l2(0.001)),\n",
        "                       kr.layers.Dropout(0.25),\n",
        "                       kr.layers.Dense(hide_l,activation='relu',kernel_regularizer=regularizers.l2(0.001)),\n",
        "                       kr.layers.Dropout(0.25),\n",
        "                       kr.layers.Dense(y_val.shape[-1],activation='softmax'),\n",
        "])\n",
        "Model.summary()"
      ]
    },
    {
      "cell_type": "code",
      "execution_count": null,
      "metadata": {
        "id": "Nb1KhauYJBtY"
      },
      "outputs": [],
      "source": [
        "Model.compile(optimizer=kr.optimizer_v2.adam.Adam(0.02),\n",
        "              loss='categorical_crossentropy',\n",
        "              metrics='accuracy')"
      ]
    },
    {
      "cell_type": "code",
      "execution_count": null,
      "metadata": {
        "id": "jwdJ8GicTF1t",
        "colab": {
          "base_uri": "https://localhost:8080/"
        },
        "outputId": "244e1877-22eb-4aac-dd39-6dfc2c4830d3"
      },
      "outputs": [
        {
          "output_type": "stream",
          "name": "stdout",
          "text": [
            "Epoch 1/23\n",
            "459/459 [==============================] - 4s 6ms/step - loss: 3.6717 - accuracy: 0.0807 - val_loss: 3.3376 - val_accuracy: 0.0846\n",
            "Epoch 2/23\n",
            "459/459 [==============================] - 3s 6ms/step - loss: 3.3247 - accuracy: 0.0833 - val_loss: 3.3175 - val_accuracy: 0.0846\n",
            "Epoch 3/23\n",
            "459/459 [==============================] - 2s 5ms/step - loss: 3.3107 - accuracy: 0.0833 - val_loss: 3.3058 - val_accuracy: 0.0846\n",
            "Epoch 4/23\n",
            "459/459 [==============================] - 3s 7ms/step - loss: 3.3025 - accuracy: 0.0834 - val_loss: 3.3001 - val_accuracy: 0.0846\n",
            "Epoch 5/23\n",
            "459/459 [==============================] - 3s 6ms/step - loss: 3.2989 - accuracy: 0.0833 - val_loss: 3.2993 - val_accuracy: 0.0846\n",
            "Epoch 6/23\n",
            "459/459 [==============================] - 2s 5ms/step - loss: 3.2972 - accuracy: 0.0833 - val_loss: 3.2961 - val_accuracy: 0.0846\n",
            "Epoch 7/23\n",
            "459/459 [==============================] - 3s 6ms/step - loss: 3.2961 - accuracy: 0.0833 - val_loss: 3.2958 - val_accuracy: 0.0846\n",
            "Epoch 8/23\n",
            "459/459 [==============================] - 2s 5ms/step - loss: 3.2955 - accuracy: 0.0833 - val_loss: 3.2959 - val_accuracy: 0.0846\n",
            "Epoch 9/23\n",
            "459/459 [==============================] - 3s 6ms/step - loss: 3.2953 - accuracy: 0.0831 - val_loss: 3.2955 - val_accuracy: 0.0846\n",
            "Epoch 10/23\n",
            "459/459 [==============================] - 2s 5ms/step - loss: 3.2951 - accuracy: 0.0831 - val_loss: 3.2952 - val_accuracy: 0.0846\n",
            "Epoch 11/23\n",
            "459/459 [==============================] - 2s 5ms/step - loss: 3.2950 - accuracy: 0.0833 - val_loss: 3.2952 - val_accuracy: 0.0846\n",
            "Epoch 12/23\n",
            "459/459 [==============================] - 3s 6ms/step - loss: 3.2950 - accuracy: 0.0833 - val_loss: 3.2949 - val_accuracy: 0.0846\n",
            "Epoch 13/23\n",
            "459/459 [==============================] - 2s 5ms/step - loss: 3.2949 - accuracy: 0.0833 - val_loss: 3.2948 - val_accuracy: 0.0846\n",
            "Epoch 14/23\n",
            "459/459 [==============================] - 2s 5ms/step - loss: 3.2949 - accuracy: 0.0833 - val_loss: 3.2952 - val_accuracy: 0.0846\n",
            "Epoch 15/23\n",
            "459/459 [==============================] - 2s 5ms/step - loss: 3.2950 - accuracy: 0.0831 - val_loss: 3.2951 - val_accuracy: 0.0846\n",
            "Epoch 16/23\n",
            "459/459 [==============================] - 2s 5ms/step - loss: 3.2948 - accuracy: 0.0833 - val_loss: 3.2946 - val_accuracy: 0.0846\n",
            "Epoch 17/23\n",
            "459/459 [==============================] - 2s 5ms/step - loss: 3.2948 - accuracy: 0.0831 - val_loss: 3.2947 - val_accuracy: 0.0846\n",
            "Epoch 18/23\n",
            "459/459 [==============================] - 3s 6ms/step - loss: 3.2948 - accuracy: 0.0833 - val_loss: 3.2954 - val_accuracy: 0.0846\n",
            "Epoch 19/23\n",
            "459/459 [==============================] - 3s 6ms/step - loss: 3.2948 - accuracy: 0.0833 - val_loss: 3.2954 - val_accuracy: 0.0846\n",
            "Epoch 20/23\n",
            "459/459 [==============================] - 3s 6ms/step - loss: 3.2947 - accuracy: 0.0833 - val_loss: 3.2949 - val_accuracy: 0.0846\n",
            "Epoch 21/23\n",
            "459/459 [==============================] - 3s 6ms/step - loss: 3.2948 - accuracy: 0.0833 - val_loss: 3.2956 - val_accuracy: 0.0846\n",
            "Epoch 22/23\n",
            "459/459 [==============================] - 3s 6ms/step - loss: 3.2947 - accuracy: 0.0829 - val_loss: 3.2951 - val_accuracy: 0.0846\n",
            "Epoch 23/23\n",
            "459/459 [==============================] - 3s 6ms/step - loss: 3.2947 - accuracy: 0.0833 - val_loss: 3.2950 - val_accuracy: 0.0846\n"
          ]
        }
      ],
      "source": [
        "history=Model.fit(x_train,y_train,epochs=23,batch_size=800,validation_data=(x_val,y_val))"
      ]
    },
    {
      "cell_type": "code",
      "execution_count": null,
      "metadata": {
        "id": "j_bm0B8gw7yy",
        "colab": {
          "base_uri": "https://localhost:8080/",
          "height": 282
        },
        "outputId": "69aa5fa3-edee-4667-9c9d-52a6da7965c5"
      },
      "outputs": [
        {
          "output_type": "execute_result",
          "data": {
            "text/plain": [
              "<matplotlib.legend.Legend at 0x7f15560f5850>"
            ]
          },
          "metadata": {},
          "execution_count": 92
        },
        {
          "output_type": "display_data",
          "data": {
            "text/plain": [
              "<Figure size 432x288 with 1 Axes>"
            ],
            "image/png": "[encoded data removed]"
          },
          "metadata": {
            "needs_background": "light"
          }
        }
      ],
      "source": [
        "loss = history.history['loss']\n",
        "val_loss= history.history['val_loss']\n",
        "acc = history.history['accuracy']\n",
        "val_acc = history.history['val_accuracy']\n",
        "epcohs= range(1,len(acc)+1)\n",
        "\n",
        "#Grafica de accuracy\n",
        "plt.plot(epcohs,acc, label='acc')\n",
        "plt.legend()\n"
      ]
    },
    {
      "cell_type": "code",
      "source": [
        "plt.plot(epcohs,loss,'--' ,label='Perdida')\n",
        "plt.plot(epcohs,val_loss,'-.',label='validacion de perdida')\n",
        "plt.legend()\n"
      ],
      "metadata": {
        "colab": {
          "base_uri": "https://localhost:8080/",
          "height": 282
        },
        "id": "7T7otz7wj_uo",
        "outputId": "be808be2-5d7d-404d-891d-3230eecede2b"
      },
      "execution_count": null,
      "outputs": [
        {
          "output_type": "execute_result",
          "data": {
            "text/plain": [
              "<matplotlib.legend.Legend at 0x7f1556204b90>"
            ]
          },
          "metadata": {},
          "execution_count": 90
        },
        {
          "output_type": "display_data",
          "data": {
            "text/plain": [
              "<Figure size 432x288 with 1 Axes>"
            ],
            "image/png": "[encoded data removed]"
          },
          "metadata": {
            "needs_background": "light"
          }
        }
      ]
    },
    {
      "cell_type": "code",
      "execution_count": null,
      "metadata": {
        "id": "2ow7RxVmZYGt",
        "colab": {
          "base_uri": "https://localhost:8080/"
        },
        "outputId": "f65ca93c-91d5-4e0a-a16c-b18fb893ce53"
      },
      "outputs": [
        {
          "output_type": "stream",
          "name": "stdout",
          "text": [
            "6373/6373 [==============================] - 9s 1ms/step - loss: 3.2957 - accuracy: 0.0825\n"
          ]
        }
      ],
      "source": [
        "evaluate=Model.evaluate(x_test,y_test)"
      ]
    },
    {
      "cell_type": "code",
      "source": [
        "int(evaluate[-1]*1000)"
      ],
      "metadata": {
        "colab": {
          "base_uri": "https://localhost:8080/"
        },
        "id": "hxA4Z-tZlweu",
        "outputId": "3ea89766-0efc-4e0f-fd41-d98a83ef2d7c"
      },
      "execution_count": null,
      "outputs": [
        {
          "output_type": "execute_result",
          "data": {
            "text/plain": [
              "82"
            ]
          },
          "metadata": {},
          "execution_count": 98
        }
      ]
    },
    {
      "cell_type": "markdown",
      "metadata": {
        "id": "OPO-kexi1O30"
      },
      "source": [
        "**prediccion**\n",
        "***\n"
      ]
    },
    {
      "cell_type": "code",
      "source": [
        "Datos_necesarios.keys()"
      ],
      "metadata": {
        "colab": {
          "base_uri": "https://localhost:8080/"
        },
        "id": "4NAw5f9sn2YO",
        "outputId": "0e38c90c-2885-41d6-d51a-4bc6f613f1d6"
      },
      "execution_count": null,
      "outputs": [
        {
          "output_type": "execute_result",
          "data": {
            "text/plain": [
              "dict_keys(['departamento', 'municipio', 'ley', 'delito'])"
            ]
          },
          "metadata": {},
          "execution_count": 101
        }
      ]
    },
    {
      "cell_type": "code",
      "source": [
        "Model.save(f'Modelo_acc_{str(int(evaluate[-1]*1000))}.h5')#modelo util para backend"
      ],
      "metadata": {
        "id": "ZLS5Mxq2loKY"
      },
      "execution_count": null,
      "outputs": []
    },
    {
      "cell_type": "markdown",
      "source": [
        "# Guardar modelo tenserflow js\n",
        "***\n",
        "guardaremos nuestor modelo en un archivo *.json* con el fin de poder incluirlos en el frontend."
      ],
      "metadata": {
        "id": "V1VFkDYApuRL"
      }
    },
    {
      "cell_type": "code",
      "source": [
        "model_json=Model.to_json()#crear modelo json\n",
        "\n",
        "#guardar modelo\n",
        "with open('model_json.json','w') as file:\n",
        "  file.write(model_json)"
      ],
      "metadata": {
        "id": "cOT204xoqB5i"
      },
      "execution_count": null,
      "outputs": []
    }
  ],
  "metadata": {
    "colab": {
      "name": "feminicidios.ipynb",
      "provenance": [],
      "authorship_tag": "ABX9TyMRPu7bTWuK5fYPR4OaMGPn",
      "include_colab_link": true
    },
    "kernelspec": {
      "display_name": "Python 3",
      "name": "python3"
    },
    "language_info": {
      "name": "python"
    }
  },
  "nbformat": 4,
  "nbformat_minor": 0
}